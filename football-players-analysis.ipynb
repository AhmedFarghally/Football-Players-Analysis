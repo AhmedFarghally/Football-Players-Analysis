{
 "cells": [
  {
   "cell_type": "markdown",
   "id": "290b43c6",
   "metadata": {
    "papermill": {
     "duration": 0.027338,
     "end_time": "2022-09-10T06:22:59.478032",
     "exception": false,
     "start_time": "2022-09-10T06:22:59.450694",
     "status": "completed"
    },
    "tags": []
   },
   "source": [
    "# Project: Investigate Database_Soccer\n",
    "\n",
    "## Table of Contents\n",
    "<ul>\n",
    "<li><a href=\"#intro\">Introduction</a></li>\n",
    "<li><a href=\"#wrangling\">Data Wrangling</a></li>\n",
    "<li><a href=\"#eda\">Exploratory Data Analysis</a></li>\n",
    "<li><a href=\"#conclusions\">Conclusions</a></li>\n",
    "</ul>"
   ]
  },
  {
   "cell_type": "markdown",
   "id": "70091475",
   "metadata": {
    "papermill": {
     "duration": 0.020615,
     "end_time": "2022-09-10T06:22:59.521242",
     "exception": false,
     "start_time": "2022-09-10T06:22:59.500627",
     "status": "completed"
    },
    "tags": []
   },
   "source": [
    "<a id='intro'></a>\n",
    "## Introduction\n",
    "\n",
    "### Dataset Description \n",
    "\n",
    "This dataset contains two csv files, the first is \"player\" and the second is \"player_attributes\". The \"player\" csv files contains personal information about each player such as name, birth date, etc. The second file \"player_attributes\" which contains Players attributes sourced from EA Sports' FIFA video game series from 2007 to 2016, including the weekly updates. So, I will try to join the two files and make my analysis.\n",
    "\n",
    "\n",
    "### Question(s) for Analysis\n",
    "As I mentioned above, I will try to join the \"player\" csv file with the \"player attributes\" csv file, to form just one dataset, and then I inspect it and figure out some questions, and then use pandas, numpy and matplotlib or seaborn or plotely express to not onyl find the answers to these question, but also make a suitable visualization of my answers. Some of the questions such as:\n",
    "Who were the top eleven players?\n",
    "Who were the top rated \"Goalkeepers\"?\n",
    "Who were the \"Defenders\" with the highest rating ?\n",
    "Who were the \"Midfielders\" with the highest rating?\n",
    "Who were the \"Forwards\" with the highest rating ?\n",
    "Which players had the highest penality kicking rating ?\n",
    "Who was the tallest player (in Centimeters) ?\n",
    "How does the Overall rating correlate with other players attributes ?\n",
    "Who was the fastest player ?\n",
    "What was the most prefered foot between players (Right foot or Left foot ) ?, and \n",
    "At which year did EA Sports' FIFA video game company make the most updates on players_attributes ? \n",
    "\n"
   ]
  },
  {
   "cell_type": "markdown",
   "id": "c3527e87",
   "metadata": {
    "papermill": {
     "duration": 0.020415,
     "end_time": "2022-09-10T06:22:59.562031",
     "exception": false,
     "start_time": "2022-09-10T06:22:59.541616",
     "status": "completed"
    },
    "tags": []
   },
   "source": [
    "At first we load the required libraries to be used in our project."
   ]
  },
  {
   "cell_type": "code",
   "execution_count": 1,
   "id": "ec7acd78",
   "metadata": {
    "execution": {
     "iopub.execute_input": "2022-09-10T06:22:59.605356Z",
     "iopub.status.busy": "2022-09-10T06:22:59.604253Z",
     "iopub.status.idle": "2022-09-10T06:22:59.610013Z",
     "shell.execute_reply": "2022-09-10T06:22:59.609052Z"
    },
    "papermill": {
     "duration": 0.0298,
     "end_time": "2022-09-10T06:22:59.612272",
     "exception": false,
     "start_time": "2022-09-10T06:22:59.582472",
     "status": "completed"
    },
    "tags": []
   },
   "outputs": [],
   "source": [
    "# Downloading plotly express library for data visualization\n",
    "#! pip install plotly_express==0.4.0 \n",
    "# Upgrade pandas to use dataframe.explode() function. \n",
    "#! pip install --upgrade pandas==0.25.0"
   ]
  },
  {
   "cell_type": "code",
   "execution_count": 2,
   "id": "4b4ba996",
   "metadata": {
    "execution": {
     "iopub.execute_input": "2022-09-10T06:22:59.655245Z",
     "iopub.status.busy": "2022-09-10T06:22:59.654815Z",
     "iopub.status.idle": "2022-09-10T06:23:02.168611Z",
     "shell.execute_reply": "2022-09-10T06:23:02.167143Z"
    },
    "papermill": {
     "duration": 2.538633,
     "end_time": "2022-09-10T06:23:02.171675",
     "exception": false,
     "start_time": "2022-09-10T06:22:59.633042",
     "status": "completed"
    },
    "tags": []
   },
   "outputs": [],
   "source": [
    "# Loading required libraries\n",
    "import numpy as np \n",
    "import pandas as pd \n",
    "import seaborn as sns\n",
    "import plotly.express as px\n",
    "import matplotlib.pyplot as plt\n",
    "%matplotlib inline"
   ]
  },
  {
   "cell_type": "markdown",
   "id": "e2c52ab1",
   "metadata": {
    "papermill": {
     "duration": 0.020601,
     "end_time": "2022-09-10T06:23:02.213807",
     "exception": false,
     "start_time": "2022-09-10T06:23:02.193206",
     "status": "completed"
    },
    "tags": []
   },
   "source": [
    "<a id='wrangling'></a>\n",
    "## Data Wrangling\n",
    "\n",
    "In this section of the report, we will load in the data, check for cleanliness, and then trim and clean your dataset for analysis. "
   ]
  },
  {
   "cell_type": "markdown",
   "id": "d7d13d1a",
   "metadata": {
    "papermill": {
     "duration": 0.021375,
     "end_time": "2022-09-10T06:23:02.256496",
     "exception": false,
     "start_time": "2022-09-10T06:23:02.235121",
     "status": "completed"
    },
    "tags": []
   },
   "source": [
    "Let's read our \"player\" and \"player_attributes\" csv files and save them in \"df_player\" and \"df_player_attributes\" dataframes."
   ]
  },
  {
   "cell_type": "code",
   "execution_count": 3,
   "id": "cef15f15",
   "metadata": {
    "execution": {
     "iopub.execute_input": "2022-09-10T06:23:02.301981Z",
     "iopub.status.busy": "2022-09-10T06:23:02.300660Z",
     "iopub.status.idle": "2022-09-10T06:23:03.312569Z",
     "shell.execute_reply": "2022-09-10T06:23:03.311534Z"
    },
    "papermill": {
     "duration": 1.036611,
     "end_time": "2022-09-10T06:23:03.315226",
     "exception": false,
     "start_time": "2022-09-10T06:23:02.278615",
     "status": "completed"
    },
    "tags": []
   },
   "outputs": [],
   "source": [
    "# Loading our data \n",
    "df_player = pd.read_csv('../input/football-players/Player.csv')\n",
    "df_player_attributes = pd.read_csv('../input/football-players/Player_Attributes.csv')"
   ]
  },
  {
   "cell_type": "code",
   "execution_count": 4,
   "id": "0f8cc478",
   "metadata": {
    "execution": {
     "iopub.execute_input": "2022-09-10T06:23:03.359124Z",
     "iopub.status.busy": "2022-09-10T06:23:03.358021Z",
     "iopub.status.idle": "2022-09-10T06:23:03.398732Z",
     "shell.execute_reply": "2022-09-10T06:23:03.397403Z"
    },
    "papermill": {
     "duration": 0.065281,
     "end_time": "2022-09-10T06:23:03.401525",
     "exception": false,
     "start_time": "2022-09-10T06:23:03.336244",
     "status": "completed"
    },
    "tags": []
   },
   "outputs": [
    {
     "data": {
      "text/html": [
       "<div>\n",
       "<style scoped>\n",
       "    .dataframe tbody tr th:only-of-type {\n",
       "        vertical-align: middle;\n",
       "    }\n",
       "\n",
       "    .dataframe tbody tr th {\n",
       "        vertical-align: top;\n",
       "    }\n",
       "\n",
       "    .dataframe thead th {\n",
       "        text-align: right;\n",
       "    }\n",
       "</style>\n",
       "<table border=\"1\" class=\"dataframe\">\n",
       "  <thead>\n",
       "    <tr style=\"text-align: right;\">\n",
       "      <th></th>\n",
       "      <th>id</th>\n",
       "      <th>player_fifa_api_id</th>\n",
       "      <th>player_api_id</th>\n",
       "      <th>date</th>\n",
       "      <th>overall_rating</th>\n",
       "      <th>potential</th>\n",
       "      <th>preferred_foot</th>\n",
       "      <th>attacking_work_rate</th>\n",
       "      <th>defensive_work_rate</th>\n",
       "      <th>crossing</th>\n",
       "      <th>...</th>\n",
       "      <th>vision</th>\n",
       "      <th>penalties</th>\n",
       "      <th>marking</th>\n",
       "      <th>standing_tackle</th>\n",
       "      <th>sliding_tackle</th>\n",
       "      <th>gk_diving</th>\n",
       "      <th>gk_handling</th>\n",
       "      <th>gk_kicking</th>\n",
       "      <th>gk_positioning</th>\n",
       "      <th>gk_reflexes</th>\n",
       "    </tr>\n",
       "  </thead>\n",
       "  <tbody>\n",
       "    <tr>\n",
       "      <th>0</th>\n",
       "      <td>1</td>\n",
       "      <td>218353</td>\n",
       "      <td>505942</td>\n",
       "      <td>2016-02-18 00:00:00</td>\n",
       "      <td>67.0</td>\n",
       "      <td>71.0</td>\n",
       "      <td>right</td>\n",
       "      <td>medium</td>\n",
       "      <td>medium</td>\n",
       "      <td>49.0</td>\n",
       "      <td>...</td>\n",
       "      <td>54.0</td>\n",
       "      <td>48.0</td>\n",
       "      <td>65.0</td>\n",
       "      <td>69.0</td>\n",
       "      <td>69.0</td>\n",
       "      <td>6.0</td>\n",
       "      <td>11.0</td>\n",
       "      <td>10.0</td>\n",
       "      <td>8.0</td>\n",
       "      <td>8.0</td>\n",
       "    </tr>\n",
       "    <tr>\n",
       "      <th>1</th>\n",
       "      <td>2</td>\n",
       "      <td>218353</td>\n",
       "      <td>505942</td>\n",
       "      <td>2015-11-19 00:00:00</td>\n",
       "      <td>67.0</td>\n",
       "      <td>71.0</td>\n",
       "      <td>right</td>\n",
       "      <td>medium</td>\n",
       "      <td>medium</td>\n",
       "      <td>49.0</td>\n",
       "      <td>...</td>\n",
       "      <td>54.0</td>\n",
       "      <td>48.0</td>\n",
       "      <td>65.0</td>\n",
       "      <td>69.0</td>\n",
       "      <td>69.0</td>\n",
       "      <td>6.0</td>\n",
       "      <td>11.0</td>\n",
       "      <td>10.0</td>\n",
       "      <td>8.0</td>\n",
       "      <td>8.0</td>\n",
       "    </tr>\n",
       "  </tbody>\n",
       "</table>\n",
       "<p>2 rows × 42 columns</p>\n",
       "</div>"
      ],
      "text/plain": [
       "   id  player_fifa_api_id  player_api_id                 date  overall_rating  \\\n",
       "0   1              218353         505942  2016-02-18 00:00:00            67.0   \n",
       "1   2              218353         505942  2015-11-19 00:00:00            67.0   \n",
       "\n",
       "   potential preferred_foot attacking_work_rate defensive_work_rate  crossing  \\\n",
       "0       71.0          right              medium              medium      49.0   \n",
       "1       71.0          right              medium              medium      49.0   \n",
       "\n",
       "   ...  vision  penalties  marking  standing_tackle  sliding_tackle  \\\n",
       "0  ...    54.0       48.0     65.0             69.0            69.0   \n",
       "1  ...    54.0       48.0     65.0             69.0            69.0   \n",
       "\n",
       "   gk_diving  gk_handling  gk_kicking  gk_positioning  gk_reflexes  \n",
       "0        6.0         11.0        10.0             8.0          8.0  \n",
       "1        6.0         11.0        10.0             8.0          8.0  \n",
       "\n",
       "[2 rows x 42 columns]"
      ]
     },
     "execution_count": 4,
     "metadata": {},
     "output_type": "execute_result"
    }
   ],
   "source": [
    "df_player.head()\n",
    "df_player_attributes.head(2)"
   ]
  },
  {
   "cell_type": "markdown",
   "id": "454fc6c8",
   "metadata": {
    "papermill": {
     "duration": 0.020474,
     "end_time": "2022-09-10T06:23:03.443133",
     "exception": false,
     "start_time": "2022-09-10T06:23:03.422659",
     "status": "completed"
    },
    "tags": []
   },
   "source": [
    "\n",
    "### Data Cleaning "
   ]
  },
  {
   "cell_type": "markdown",
   "id": "728fdd3a",
   "metadata": {
    "papermill": {
     "duration": 0.020349,
     "end_time": "2022-09-10T06:23:03.484331",
     "exception": false,
     "start_time": "2022-09-10T06:23:03.463982",
     "status": "completed"
    },
    "tags": []
   },
   "source": [
    "Let's check if our datasets contain \"null\" values or not?, and if the datasets contain \"null\" values we will process these \"null\" values to get a clean datasets"
   ]
  },
  {
   "cell_type": "code",
   "execution_count": 5,
   "id": "a5af4886",
   "metadata": {
    "execution": {
     "iopub.execute_input": "2022-09-10T06:23:03.527872Z",
     "iopub.status.busy": "2022-09-10T06:23:03.527441Z",
     "iopub.status.idle": "2022-09-10T06:23:03.540764Z",
     "shell.execute_reply": "2022-09-10T06:23:03.539697Z"
    },
    "papermill": {
     "duration": 0.038227,
     "end_time": "2022-09-10T06:23:03.543276",
     "exception": false,
     "start_time": "2022-09-10T06:23:03.505049",
     "status": "completed"
    },
    "tags": []
   },
   "outputs": [
    {
     "data": {
      "text/plain": [
       "id                    0\n",
       "player_api_id         0\n",
       "player_name           0\n",
       "player_fifa_api_id    0\n",
       "birthday              0\n",
       "height                0\n",
       "weight                0\n",
       "dtype: int64"
      ]
     },
     "execution_count": 5,
     "metadata": {},
     "output_type": "execute_result"
    }
   ],
   "source": [
    "# check null values for (df_player)\n",
    "df_player.isnull().sum()"
   ]
  },
  {
   "cell_type": "code",
   "execution_count": 6,
   "id": "f5d64756",
   "metadata": {
    "execution": {
     "iopub.execute_input": "2022-09-10T06:23:03.588396Z",
     "iopub.status.busy": "2022-09-10T06:23:03.587308Z",
     "iopub.status.idle": "2022-09-10T06:23:03.645382Z",
     "shell.execute_reply": "2022-09-10T06:23:03.644087Z"
    },
    "papermill": {
     "duration": 0.083877,
     "end_time": "2022-09-10T06:23:03.648220",
     "exception": false,
     "start_time": "2022-09-10T06:23:03.564343",
     "status": "completed"
    },
    "tags": []
   },
   "outputs": [
    {
     "data": {
      "text/plain": [
       "id                        0\n",
       "player_fifa_api_id        0\n",
       "player_api_id             0\n",
       "date                      0\n",
       "overall_rating          836\n",
       "potential               836\n",
       "preferred_foot          836\n",
       "attacking_work_rate    3230\n",
       "defensive_work_rate     836\n",
       "crossing                836\n",
       "finishing               836\n",
       "heading_accuracy        836\n",
       "short_passing           836\n",
       "volleys                2713\n",
       "dribbling               836\n",
       "curve                  2713\n",
       "free_kick_accuracy      836\n",
       "long_passing            836\n",
       "ball_control            836\n",
       "acceleration            836\n",
       "sprint_speed            836\n",
       "agility                2713\n",
       "reactions               836\n",
       "balance                2713\n",
       "shot_power              836\n",
       "jumping                2713\n",
       "stamina                 836\n",
       "strength                836\n",
       "long_shots              836\n",
       "aggression              836\n",
       "interceptions           836\n",
       "positioning             836\n",
       "vision                 2713\n",
       "penalties               836\n",
       "marking                 836\n",
       "standing_tackle         836\n",
       "sliding_tackle         2713\n",
       "gk_diving               836\n",
       "gk_handling             836\n",
       "gk_kicking              836\n",
       "gk_positioning          836\n",
       "gk_reflexes             836\n",
       "dtype: int64"
      ]
     },
     "execution_count": 6,
     "metadata": {},
     "output_type": "execute_result"
    }
   ],
   "source": [
    "# check null values for (df_player_attributes)\n",
    "df_player_attributes.isnull().sum()"
   ]
  },
  {
   "cell_type": "code",
   "execution_count": 7,
   "id": "95bae113",
   "metadata": {
    "execution": {
     "iopub.execute_input": "2022-09-10T06:23:03.692420Z",
     "iopub.status.busy": "2022-09-10T06:23:03.692007Z",
     "iopub.status.idle": "2022-09-10T06:23:03.807314Z",
     "shell.execute_reply": "2022-09-10T06:23:03.805915Z"
    },
    "papermill": {
     "duration": 0.140405,
     "end_time": "2022-09-10T06:23:03.810127",
     "exception": false,
     "start_time": "2022-09-10T06:23:03.669722",
     "status": "completed"
    },
    "tags": []
   },
   "outputs": [],
   "source": [
    "# Removing rows with null values from (df_player_attributes) dataset\n",
    "df_player_attributes.dropna(inplace = True)"
   ]
  },
  {
   "cell_type": "code",
   "execution_count": 8,
   "id": "e1601692",
   "metadata": {
    "execution": {
     "iopub.execute_input": "2022-09-10T06:23:03.854178Z",
     "iopub.status.busy": "2022-09-10T06:23:03.853775Z",
     "iopub.status.idle": "2022-09-10T06:23:03.909850Z",
     "shell.execute_reply": "2022-09-10T06:23:03.908304Z"
    },
    "papermill": {
     "duration": 0.081403,
     "end_time": "2022-09-10T06:23:03.912707",
     "exception": false,
     "start_time": "2022-09-10T06:23:03.831304",
     "status": "completed"
    },
    "tags": []
   },
   "outputs": [
    {
     "data": {
      "text/plain": [
       "id                     0\n",
       "player_fifa_api_id     0\n",
       "player_api_id          0\n",
       "date                   0\n",
       "overall_rating         0\n",
       "potential              0\n",
       "preferred_foot         0\n",
       "attacking_work_rate    0\n",
       "defensive_work_rate    0\n",
       "crossing               0\n",
       "finishing              0\n",
       "heading_accuracy       0\n",
       "short_passing          0\n",
       "volleys                0\n",
       "dribbling              0\n",
       "curve                  0\n",
       "free_kick_accuracy     0\n",
       "long_passing           0\n",
       "ball_control           0\n",
       "acceleration           0\n",
       "sprint_speed           0\n",
       "agility                0\n",
       "reactions              0\n",
       "balance                0\n",
       "shot_power             0\n",
       "jumping                0\n",
       "stamina                0\n",
       "strength               0\n",
       "long_shots             0\n",
       "aggression             0\n",
       "interceptions          0\n",
       "positioning            0\n",
       "vision                 0\n",
       "penalties              0\n",
       "marking                0\n",
       "standing_tackle        0\n",
       "sliding_tackle         0\n",
       "gk_diving              0\n",
       "gk_handling            0\n",
       "gk_kicking             0\n",
       "gk_positioning         0\n",
       "gk_reflexes            0\n",
       "dtype: int64"
      ]
     },
     "execution_count": 8,
     "metadata": {},
     "output_type": "execute_result"
    }
   ],
   "source": [
    "# Check, if the rows with null values were deleted or not?! \n",
    "df_player_attributes.isna().sum()"
   ]
  },
  {
   "cell_type": "markdown",
   "id": "4604ac0c",
   "metadata": {
    "papermill": {
     "duration": 0.022051,
     "end_time": "2022-09-10T06:23:03.956639",
     "exception": false,
     "start_time": "2022-09-10T06:23:03.934588",
     "status": "completed"
    },
    "tags": []
   },
   "source": [
    "So, after checking the dataset for the null values, we found that the (df_player) has no any null values, but (df_player_attributes) has many null values in many columns, and as we can't get the exact values of these features, we decided to remove the rows with the null values, to make our data clean."
   ]
  },
  {
   "cell_type": "markdown",
   "id": "54f83c76",
   "metadata": {
    "papermill": {
     "duration": 0.020899,
     "end_time": "2022-09-10T06:23:03.999702",
     "exception": false,
     "start_time": "2022-09-10T06:23:03.978803",
     "status": "completed"
    },
    "tags": []
   },
   "source": [
    "                         ---------------------------------------------"
   ]
  },
  {
   "cell_type": "markdown",
   "id": "a6705aa6",
   "metadata": {
    "papermill": {
     "duration": 0.021011,
     "end_time": "2022-09-10T06:23:04.042594",
     "exception": false,
     "start_time": "2022-09-10T06:23:04.021583",
     "status": "completed"
    },
    "tags": []
   },
   "source": [
    "Let's check if our datasets contain \"duplicated\" values or not?, and if the datasets contain \"duplicated\" we will process these \"duplicated\" values to get a clean datasets."
   ]
  },
  {
   "cell_type": "code",
   "execution_count": 9,
   "id": "3956a7d4",
   "metadata": {
    "execution": {
     "iopub.execute_input": "2022-09-10T06:23:04.087684Z",
     "iopub.status.busy": "2022-09-10T06:23:04.086854Z",
     "iopub.status.idle": "2022-09-10T06:23:04.109005Z",
     "shell.execute_reply": "2022-09-10T06:23:04.107746Z"
    },
    "papermill": {
     "duration": 0.047503,
     "end_time": "2022-09-10T06:23:04.111431",
     "exception": false,
     "start_time": "2022-09-10T06:23:04.063928",
     "status": "completed"
    },
    "tags": []
   },
   "outputs": [
    {
     "data": {
      "text/plain": [
       "0"
      ]
     },
     "execution_count": 9,
     "metadata": {},
     "output_type": "execute_result"
    }
   ],
   "source": [
    "# Check duplicates for (df_player)\n",
    "df_player.duplicated().sum()"
   ]
  },
  {
   "cell_type": "code",
   "execution_count": 10,
   "id": "9a2cdcc5",
   "metadata": {
    "execution": {
     "iopub.execute_input": "2022-09-10T06:23:04.155957Z",
     "iopub.status.busy": "2022-09-10T06:23:04.155508Z",
     "iopub.status.idle": "2022-09-10T06:23:04.472797Z",
     "shell.execute_reply": "2022-09-10T06:23:04.471535Z"
    },
    "papermill": {
     "duration": 0.343358,
     "end_time": "2022-09-10T06:23:04.475929",
     "exception": false,
     "start_time": "2022-09-10T06:23:04.132571",
     "status": "completed"
    },
    "tags": []
   },
   "outputs": [
    {
     "data": {
      "text/plain": [
       "0"
      ]
     },
     "execution_count": 10,
     "metadata": {},
     "output_type": "execute_result"
    }
   ],
   "source": [
    "# Check duplicates for (df_player)\n",
    "df_player_attributes.duplicated().sum()"
   ]
  },
  {
   "cell_type": "markdown",
   "id": "ec0ef1b5",
   "metadata": {
    "papermill": {
     "duration": 0.022676,
     "end_time": "2022-09-10T06:23:04.520674",
     "exception": false,
     "start_time": "2022-09-10T06:23:04.497998",
     "status": "completed"
    },
    "tags": []
   },
   "source": [
    "So we are lucky, and we hav not any duplicates in our datasets"
   ]
  },
  {
   "cell_type": "markdown",
   "id": "e91de755",
   "metadata": {
    "papermill": {
     "duration": 0.021749,
     "end_time": "2022-09-10T06:23:04.564735",
     "exception": false,
     "start_time": "2022-09-10T06:23:04.542986",
     "status": "completed"
    },
    "tags": []
   },
   "source": [
    "                              - - - - - - - - - - - - - - - - -"
   ]
  },
  {
   "cell_type": "markdown",
   "id": "aa58927c",
   "metadata": {
    "papermill": {
     "duration": 0.021507,
     "end_time": "2022-09-10T06:23:04.607836",
     "exception": false,
     "start_time": "2022-09-10T06:23:04.586329",
     "status": "completed"
    },
    "tags": []
   },
   "source": [
    "Now let's check the data types of our datasets columns, and fix these types if needed."
   ]
  },
  {
   "cell_type": "code",
   "execution_count": 11,
   "id": "0eae002c",
   "metadata": {
    "execution": {
     "iopub.execute_input": "2022-09-10T06:23:04.652519Z",
     "iopub.status.busy": "2022-09-10T06:23:04.652131Z",
     "iopub.status.idle": "2022-09-10T06:23:04.661084Z",
     "shell.execute_reply": "2022-09-10T06:23:04.659846Z"
    },
    "papermill": {
     "duration": 0.034099,
     "end_time": "2022-09-10T06:23:04.663480",
     "exception": false,
     "start_time": "2022-09-10T06:23:04.629381",
     "status": "completed"
    },
    "tags": []
   },
   "outputs": [
    {
     "data": {
      "text/plain": [
       "id                      int64\n",
       "player_api_id           int64\n",
       "player_name            object\n",
       "player_fifa_api_id      int64\n",
       "birthday               object\n",
       "height                float64\n",
       "weight                  int64\n",
       "dtype: object"
      ]
     },
     "execution_count": 11,
     "metadata": {},
     "output_type": "execute_result"
    }
   ],
   "source": [
    "# Check datatypes for \"df_player\"\n",
    "df_player.dtypes"
   ]
  },
  {
   "cell_type": "code",
   "execution_count": 12,
   "id": "8d3a7905",
   "metadata": {
    "execution": {
     "iopub.execute_input": "2022-09-10T06:23:04.708629Z",
     "iopub.status.busy": "2022-09-10T06:23:04.708210Z",
     "iopub.status.idle": "2022-09-10T06:23:04.720599Z",
     "shell.execute_reply": "2022-09-10T06:23:04.719636Z"
    },
    "papermill": {
     "duration": 0.037372,
     "end_time": "2022-09-10T06:23:04.722716",
     "exception": false,
     "start_time": "2022-09-10T06:23:04.685344",
     "status": "completed"
    },
    "tags": []
   },
   "outputs": [],
   "source": [
    "# For df_player dataset\n",
    "# Let's convert \"height\" from string to float, and\n",
    "# convert birthday from object to date.\n",
    "df_player['height'] = df_player['height'].astype('int64')\n",
    "df_player['birthday'] = pd.to_datetime(df_player['birthday'])"
   ]
  },
  {
   "cell_type": "code",
   "execution_count": 13,
   "id": "83fa4a95",
   "metadata": {
    "execution": {
     "iopub.execute_input": "2022-09-10T06:23:04.768700Z",
     "iopub.status.busy": "2022-09-10T06:23:04.767651Z",
     "iopub.status.idle": "2022-09-10T06:23:04.787618Z",
     "shell.execute_reply": "2022-09-10T06:23:04.786636Z"
    },
    "papermill": {
     "duration": 0.045601,
     "end_time": "2022-09-10T06:23:04.790238",
     "exception": false,
     "start_time": "2022-09-10T06:23:04.744637",
     "status": "completed"
    },
    "tags": []
   },
   "outputs": [
    {
     "name": "stdout",
     "output_type": "stream",
     "text": [
      "<class 'pandas.core.frame.DataFrame'>\n",
      "RangeIndex: 11060 entries, 0 to 11059\n",
      "Data columns (total 7 columns):\n",
      " #   Column              Non-Null Count  Dtype         \n",
      "---  ------              --------------  -----         \n",
      " 0   id                  11060 non-null  int64         \n",
      " 1   player_api_id       11060 non-null  int64         \n",
      " 2   player_name         11060 non-null  object        \n",
      " 3   player_fifa_api_id  11060 non-null  int64         \n",
      " 4   birthday            11060 non-null  datetime64[ns]\n",
      " 5   height              11060 non-null  int64         \n",
      " 6   weight              11060 non-null  int64         \n",
      "dtypes: datetime64[ns](1), int64(5), object(1)\n",
      "memory usage: 605.0+ KB\n"
     ]
    }
   ],
   "source": [
    "# Check if they were converted or not\n",
    "df_player.info()"
   ]
  },
  {
   "cell_type": "code",
   "execution_count": 14,
   "id": "2f1413af",
   "metadata": {
    "execution": {
     "iopub.execute_input": "2022-09-10T06:23:04.836883Z",
     "iopub.status.busy": "2022-09-10T06:23:04.835909Z",
     "iopub.status.idle": "2022-09-10T06:23:04.897460Z",
     "shell.execute_reply": "2022-09-10T06:23:04.896013Z"
    },
    "papermill": {
     "duration": 0.087522,
     "end_time": "2022-09-10T06:23:04.900158",
     "exception": false,
     "start_time": "2022-09-10T06:23:04.812636",
     "status": "completed"
    },
    "tags": []
   },
   "outputs": [
    {
     "name": "stdout",
     "output_type": "stream",
     "text": [
      "<class 'pandas.core.frame.DataFrame'>\n",
      "Int64Index: 180354 entries, 0 to 183977\n",
      "Data columns (total 42 columns):\n",
      " #   Column               Non-Null Count   Dtype  \n",
      "---  ------               --------------   -----  \n",
      " 0   id                   180354 non-null  int64  \n",
      " 1   player_fifa_api_id   180354 non-null  int64  \n",
      " 2   player_api_id        180354 non-null  int64  \n",
      " 3   date                 180354 non-null  object \n",
      " 4   overall_rating       180354 non-null  float64\n",
      " 5   potential            180354 non-null  float64\n",
      " 6   preferred_foot       180354 non-null  object \n",
      " 7   attacking_work_rate  180354 non-null  object \n",
      " 8   defensive_work_rate  180354 non-null  object \n",
      " 9   crossing             180354 non-null  float64\n",
      " 10  finishing            180354 non-null  float64\n",
      " 11  heading_accuracy     180354 non-null  float64\n",
      " 12  short_passing        180354 non-null  float64\n",
      " 13  volleys              180354 non-null  float64\n",
      " 14  dribbling            180354 non-null  float64\n",
      " 15  curve                180354 non-null  float64\n",
      " 16  free_kick_accuracy   180354 non-null  float64\n",
      " 17  long_passing         180354 non-null  float64\n",
      " 18  ball_control         180354 non-null  float64\n",
      " 19  acceleration         180354 non-null  float64\n",
      " 20  sprint_speed         180354 non-null  float64\n",
      " 21  agility              180354 non-null  float64\n",
      " 22  reactions            180354 non-null  float64\n",
      " 23  balance              180354 non-null  float64\n",
      " 24  shot_power           180354 non-null  float64\n",
      " 25  jumping              180354 non-null  float64\n",
      " 26  stamina              180354 non-null  float64\n",
      " 27  strength             180354 non-null  float64\n",
      " 28  long_shots           180354 non-null  float64\n",
      " 29  aggression           180354 non-null  float64\n",
      " 30  interceptions        180354 non-null  float64\n",
      " 31  positioning          180354 non-null  float64\n",
      " 32  vision               180354 non-null  float64\n",
      " 33  penalties            180354 non-null  float64\n",
      " 34  marking              180354 non-null  float64\n",
      " 35  standing_tackle      180354 non-null  float64\n",
      " 36  sliding_tackle       180354 non-null  float64\n",
      " 37  gk_diving            180354 non-null  float64\n",
      " 38  gk_handling          180354 non-null  float64\n",
      " 39  gk_kicking           180354 non-null  float64\n",
      " 40  gk_positioning       180354 non-null  float64\n",
      " 41  gk_reflexes          180354 non-null  float64\n",
      "dtypes: float64(35), int64(3), object(4)\n",
      "memory usage: 59.2+ MB\n"
     ]
    }
   ],
   "source": [
    "# Check datatypes for \"df_player_attributes\"\n",
    "df_player_attributes.info()"
   ]
  },
  {
   "cell_type": "code",
   "execution_count": 15,
   "id": "b1d2f84a",
   "metadata": {
    "execution": {
     "iopub.execute_input": "2022-09-10T06:23:04.947111Z",
     "iopub.status.busy": "2022-09-10T06:23:04.945983Z",
     "iopub.status.idle": "2022-09-10T06:23:04.987151Z",
     "shell.execute_reply": "2022-09-10T06:23:04.985757Z"
    },
    "papermill": {
     "duration": 0.067741,
     "end_time": "2022-09-10T06:23:04.989924",
     "exception": false,
     "start_time": "2022-09-10T06:23:04.922183",
     "status": "completed"
    },
    "tags": []
   },
   "outputs": [],
   "source": [
    "# convert \"date\" column from string datatype to date datatype\n",
    "df_player_attributes['date'] = pd.to_datetime(df_player_attributes['date'])"
   ]
  },
  {
   "cell_type": "markdown",
   "id": "53d447d7",
   "metadata": {
    "papermill": {
     "duration": 0.021423,
     "end_time": "2022-09-10T06:23:05.033375",
     "exception": false,
     "start_time": "2022-09-10T06:23:05.011952",
     "status": "completed"
    },
    "tags": []
   },
   "source": [
    "Before EDA, We must join df_player dataset with the df_player_attributes together to form just one dataset that contains all the needed information, let's do that!.."
   ]
  },
  {
   "cell_type": "code",
   "execution_count": 16,
   "id": "9e87cbd8",
   "metadata": {
    "execution": {
     "iopub.execute_input": "2022-09-10T06:23:05.078996Z",
     "iopub.status.busy": "2022-09-10T06:23:05.078528Z",
     "iopub.status.idle": "2022-09-10T06:23:05.281104Z",
     "shell.execute_reply": "2022-09-10T06:23:05.279943Z"
    },
    "papermill": {
     "duration": 0.228814,
     "end_time": "2022-09-10T06:23:05.283968",
     "exception": false,
     "start_time": "2022-09-10T06:23:05.055154",
     "status": "completed"
    },
    "tags": []
   },
   "outputs": [],
   "source": [
    "# Joining df_player with df_player_attributes using pd.merge method\n",
    "df = pd.merge(df_player, df_player_attributes, on=['player_fifa_api_id', 'player_api_id'])"
   ]
  },
  {
   "cell_type": "code",
   "execution_count": 17,
   "id": "880db0e8",
   "metadata": {
    "execution": {
     "iopub.execute_input": "2022-09-10T06:23:05.329870Z",
     "iopub.status.busy": "2022-09-10T06:23:05.329417Z",
     "iopub.status.idle": "2022-09-10T06:23:05.436185Z",
     "shell.execute_reply": "2022-09-10T06:23:05.435113Z"
    },
    "papermill": {
     "duration": 0.132964,
     "end_time": "2022-09-10T06:23:05.438953",
     "exception": false,
     "start_time": "2022-09-10T06:23:05.305989",
     "status": "completed"
    },
    "tags": []
   },
   "outputs": [],
   "source": [
    "# Deleting unnecessary columns\n",
    "df.drop(columns=['id_x', 'id_y', 'player_api_id', 'player_fifa_api_id'], inplace = True)"
   ]
  },
  {
   "cell_type": "markdown",
   "id": "5350ead5",
   "metadata": {
    "papermill": {
     "duration": 0.021693,
     "end_time": "2022-09-10T06:23:05.482591",
     "exception": false,
     "start_time": "2022-09-10T06:23:05.460898",
     "status": "completed"
    },
    "tags": []
   },
   "source": [
    "Now we gonna make a new columns that we can use in our analysis later on."
   ]
  },
  {
   "cell_type": "code",
   "execution_count": 18,
   "id": "1f11f551",
   "metadata": {
    "execution": {
     "iopub.execute_input": "2022-09-10T06:23:05.528153Z",
     "iopub.status.busy": "2022-09-10T06:23:05.527737Z",
     "iopub.status.idle": "2022-09-10T06:23:05.553827Z",
     "shell.execute_reply": "2022-09-10T06:23:05.552626Z"
    },
    "papermill": {
     "duration": 0.052264,
     "end_time": "2022-09-10T06:23:05.556682",
     "exception": false,
     "start_time": "2022-09-10T06:23:05.504418",
     "status": "completed"
    },
    "tags": []
   },
   "outputs": [],
   "source": [
    "# Extract the years from the date, and put these years into a new column \"year\"\n",
    "df['year'] = df['date'].dt.year"
   ]
  },
  {
   "cell_type": "code",
   "execution_count": 19,
   "id": "a596d256",
   "metadata": {
    "execution": {
     "iopub.execute_input": "2022-09-10T06:23:05.602922Z",
     "iopub.status.busy": "2022-09-10T06:23:05.602050Z",
     "iopub.status.idle": "2022-09-10T06:23:05.629499Z",
     "shell.execute_reply": "2022-09-10T06:23:05.628296Z"
    },
    "papermill": {
     "duration": 0.053054,
     "end_time": "2022-09-10T06:23:05.631846",
     "exception": false,
     "start_time": "2022-09-10T06:23:05.578792",
     "status": "completed"
    },
    "tags": []
   },
   "outputs": [
    {
     "data": {
      "text/html": [
       "<div>\n",
       "<style scoped>\n",
       "    .dataframe tbody tr th:only-of-type {\n",
       "        vertical-align: middle;\n",
       "    }\n",
       "\n",
       "    .dataframe tbody tr th {\n",
       "        vertical-align: top;\n",
       "    }\n",
       "\n",
       "    .dataframe thead th {\n",
       "        text-align: right;\n",
       "    }\n",
       "</style>\n",
       "<table border=\"1\" class=\"dataframe\">\n",
       "  <thead>\n",
       "    <tr style=\"text-align: right;\">\n",
       "      <th></th>\n",
       "      <th>player_name</th>\n",
       "      <th>birthday</th>\n",
       "      <th>height</th>\n",
       "      <th>weight</th>\n",
       "      <th>date</th>\n",
       "      <th>overall_rating</th>\n",
       "      <th>potential</th>\n",
       "      <th>preferred_foot</th>\n",
       "      <th>attacking_work_rate</th>\n",
       "      <th>defensive_work_rate</th>\n",
       "      <th>...</th>\n",
       "      <th>penalties</th>\n",
       "      <th>marking</th>\n",
       "      <th>standing_tackle</th>\n",
       "      <th>sliding_tackle</th>\n",
       "      <th>gk_diving</th>\n",
       "      <th>gk_handling</th>\n",
       "      <th>gk_kicking</th>\n",
       "      <th>gk_positioning</th>\n",
       "      <th>gk_reflexes</th>\n",
       "      <th>year</th>\n",
       "    </tr>\n",
       "  </thead>\n",
       "  <tbody>\n",
       "    <tr>\n",
       "      <th>0</th>\n",
       "      <td>Aaron Appindangoye</td>\n",
       "      <td>1992-02-29</td>\n",
       "      <td>182</td>\n",
       "      <td>187</td>\n",
       "      <td>2016-02-18</td>\n",
       "      <td>67.0</td>\n",
       "      <td>71.0</td>\n",
       "      <td>right</td>\n",
       "      <td>medium</td>\n",
       "      <td>medium</td>\n",
       "      <td>...</td>\n",
       "      <td>48.0</td>\n",
       "      <td>65.0</td>\n",
       "      <td>69.0</td>\n",
       "      <td>69.0</td>\n",
       "      <td>6.0</td>\n",
       "      <td>11.0</td>\n",
       "      <td>10.0</td>\n",
       "      <td>8.0</td>\n",
       "      <td>8.0</td>\n",
       "      <td>2016</td>\n",
       "    </tr>\n",
       "  </tbody>\n",
       "</table>\n",
       "<p>1 rows × 44 columns</p>\n",
       "</div>"
      ],
      "text/plain": [
       "          player_name   birthday  height  weight       date  overall_rating  \\\n",
       "0  Aaron Appindangoye 1992-02-29     182     187 2016-02-18            67.0   \n",
       "\n",
       "   potential preferred_foot attacking_work_rate defensive_work_rate  ...  \\\n",
       "0       71.0          right              medium              medium  ...   \n",
       "\n",
       "   penalties  marking  standing_tackle  sliding_tackle  gk_diving  \\\n",
       "0       48.0     65.0             69.0            69.0        6.0   \n",
       "\n",
       "   gk_handling  gk_kicking  gk_positioning  gk_reflexes  year  \n",
       "0         11.0        10.0             8.0          8.0  2016  \n",
       "\n",
       "[1 rows x 44 columns]"
      ]
     },
     "execution_count": 19,
     "metadata": {},
     "output_type": "execute_result"
    }
   ],
   "source": [
    "df.head(1)"
   ]
  },
  {
   "cell_type": "markdown",
   "id": "2460756d",
   "metadata": {
    "papermill": {
     "duration": 0.022591,
     "end_time": "2022-09-10T06:23:05.676851",
     "exception": false,
     "start_time": "2022-09-10T06:23:05.654260",
     "status": "completed"
    },
    "tags": []
   },
   "source": [
    "<a id='eda'></a>\n",
    "## Exploratory Data Analysis\n",
    "\n",
    "Now, we will move to the analysis phase, we will try to ask some questions and find answers to them, and by that we can analysis our data and we can make a strong conclusion about our findings.\n",
    "              ___________________________________________________________\n",
    "\n",
    "\n",
    "\n"
   ]
  },
  {
   "cell_type": "markdown",
   "id": "a69c6c4c",
   "metadata": {
    "papermill": {
     "duration": 0.021948,
     "end_time": "2022-09-10T06:23:05.721244",
     "exception": false,
     "start_time": "2022-09-10T06:23:05.699296",
     "status": "completed"
    },
    "tags": []
   },
   "source": [
    "Now we can create a function that used some dataframe inputs, analyis the data, and then plot our result"
   ]
  },
  {
   "cell_type": "code",
   "execution_count": 20,
   "id": "29b690e3",
   "metadata": {
    "execution": {
     "iopub.execute_input": "2022-09-10T06:23:05.768249Z",
     "iopub.status.busy": "2022-09-10T06:23:05.767835Z",
     "iopub.status.idle": "2022-09-10T06:23:05.778185Z",
     "shell.execute_reply": "2022-09-10T06:23:05.776933Z"
    },
    "papermill": {
     "duration": 0.037464,
     "end_time": "2022-09-10T06:23:05.781006",
     "exception": false,
     "start_time": "2022-09-10T06:23:05.743542",
     "status": "completed"
    },
    "tags": []
   },
   "outputs": [],
   "source": [
    "def myTopPlot(df, grpVar, yVar, stat = 'max', cols = None, top = 10, position = None):\n",
    "    ''' This function used to take the dataframe, make the suitable analysis \n",
    "        then plot the result\n",
    "        \n",
    "        Inputs: df (dataframe)\n",
    "                grpVar (specifc column in the dataframe say 'player_name')\n",
    "                yVar (specifc column in the dataframe say 'overall_rating')\n",
    "                stat (agg type,for example say 'max' to get the maximum overall rating)\n",
    "                cols (columns selected from the dataframe)\n",
    "                top (number of players)\n",
    "                position (player position , for example : Goalkeeper)\n",
    "        Outputs:\n",
    "                Bar_chart of the results, and         \n",
    "        '''\n",
    "    \n",
    "    if cols:\n",
    "        tmp = df[cols].copy()\n",
    "        tmp[yVar] = tmp[ [x for x in cols if x!= grpVar] ].mean(axis=1).round()\n",
    "    else:\n",
    "        tmp = df.copy()\n",
    "\n",
    "    data = tmp.groupby([grpVar])[yVar].agg(stat).round().nlargest(top).reset_index()\n",
    "    \n",
    "    \n",
    "    title = f\"Top {top} {position}\"\n",
    "    \n",
    "    # Data visualization using plotly express\n",
    "    bar_chart = px.bar(data, x = grpVar, y= yVar, title = title, \n",
    "                       color = grpVar,text = yVar).update_layout(\n",
    "                       xaxis_title = f\"{grpVar.replace('_',' ')}\".title(), \n",
    "                       yaxis_title=f\"{yVar.replace('_',' ')}\".title() \n",
    "                       )\n",
    "    bar_chart.show()   \n",
    "    return data                "
   ]
  },
  {
   "cell_type": "markdown",
   "id": "da8b5ed1",
   "metadata": {
    "papermill": {
     "duration": 0.021831,
     "end_time": "2022-09-10T06:23:05.825198",
     "exception": false,
     "start_time": "2022-09-10T06:23:05.803367",
     "status": "completed"
    },
    "tags": []
   },
   "source": [
    "                      ************************************************"
   ]
  },
  {
   "cell_type": "markdown",
   "id": "de3fca31",
   "metadata": {
    "papermill": {
     "duration": 0.022561,
     "end_time": "2022-09-10T06:23:05.870091",
     "exception": false,
     "start_time": "2022-09-10T06:23:05.847530",
     "status": "completed"
    },
    "tags": []
   },
   "source": [
    "### Research Question 1: Who were the top eleven players?\n",
    "Note: The players will not be duplicated over the years (Only unique players will be displayed), for example if Lionel Messi has the highest rating in more than year we will take his highest rating only one time, and this method will be used for the rest of the questions."
   ]
  },
  {
   "cell_type": "code",
   "execution_count": 21,
   "id": "5d6dff8e",
   "metadata": {
    "execution": {
     "iopub.execute_input": "2022-09-10T06:23:05.917457Z",
     "iopub.status.busy": "2022-09-10T06:23:05.917020Z",
     "iopub.status.idle": "2022-09-10T06:23:07.317174Z",
     "shell.execute_reply": "2022-09-10T06:23:07.315799Z"
    },
    "papermill": {
     "duration": 1.426814,
     "end_time": "2022-09-10T06:23:07.319815",
     "exception": false,
     "start_time": "2022-09-10T06:23:05.893001",
     "status": "completed"
    },
    "tags": []
   },
   "outputs": [
    {
     "data": {
      "text/html": [
       "        <script type=\"text/javascript\">\n",
       "        window.PlotlyConfig = {MathJaxConfig: 'local'};\n",
       "        if (window.MathJax && window.MathJax.Hub && window.MathJax.Hub.Config) {window.MathJax.Hub.Config({SVG: {font: \"STIX-Web\"}});}\n",
       "        if (typeof require !== 'undefined') {\n",
       "        require.undef(\"plotly\");\n",
       "        requirejs.config({\n",
       "            paths: {\n",
       "                'plotly': ['https://cdn.plot.ly/plotly-2.14.0.min']\n",
       "            }\n",
       "        });\n",
       "        require(['plotly'], function(Plotly) {\n",
       "            window._Plotly = Plotly;\n",
       "        });\n",
       "        }\n",
       "        </script>\n",
       "        "
      ]
     },
     "metadata": {},
     "output_type": "display_data"
    },
    {
     "data": {
      "text/html": [
       "<div>                            <div id=\"f6d694d9-a5d7-46d4-96fb-4c926f0e06d6\" class=\"plotly-graph-div\" style=\"height:525px; width:100%;\"></div>            <script type=\"text/javascript\">                require([\"plotly\"], function(Plotly) {                    window.PLOTLYENV=window.PLOTLYENV || {};                                    if (document.getElementById(\"f6d694d9-a5d7-46d4-96fb-4c926f0e06d6\")) {                    Plotly.newPlot(                        \"f6d694d9-a5d7-46d4-96fb-4c926f0e06d6\",                        [{\"alignmentgroup\":\"True\",\"hovertemplate\":\"player_name=%{x}<br>overall_rating=%{text}<extra></extra>\",\"legendgroup\":\"Lionel Messi\",\"marker\":{\"color\":\"#636efa\",\"pattern\":{\"shape\":\"\"}},\"name\":\"Lionel Messi\",\"offsetgroup\":\"Lionel Messi\",\"orientation\":\"v\",\"showlegend\":true,\"text\":[94.0],\"textposition\":\"auto\",\"x\":[\"Lionel Messi\"],\"xaxis\":\"x\",\"y\":[94.0],\"yaxis\":\"y\",\"type\":\"bar\"},{\"alignmentgroup\":\"True\",\"hovertemplate\":\"player_name=%{x}<br>overall_rating=%{text}<extra></extra>\",\"legendgroup\":\"Cristiano Ronaldo\",\"marker\":{\"color\":\"#EF553B\",\"pattern\":{\"shape\":\"\"}},\"name\":\"Cristiano Ronaldo\",\"offsetgroup\":\"Cristiano Ronaldo\",\"orientation\":\"v\",\"showlegend\":true,\"text\":[93.0],\"textposition\":\"auto\",\"x\":[\"Cristiano Ronaldo\"],\"xaxis\":\"x\",\"y\":[93.0],\"yaxis\":\"y\",\"type\":\"bar\"},{\"alignmentgroup\":\"True\",\"hovertemplate\":\"player_name=%{x}<br>overall_rating=%{text}<extra></extra>\",\"legendgroup\":\"Gianluigi Buffon\",\"marker\":{\"color\":\"#00cc96\",\"pattern\":{\"shape\":\"\"}},\"name\":\"Gianluigi Buffon\",\"offsetgroup\":\"Gianluigi Buffon\",\"orientation\":\"v\",\"showlegend\":true,\"text\":[93.0],\"textposition\":\"auto\",\"x\":[\"Gianluigi Buffon\"],\"xaxis\":\"x\",\"y\":[93.0],\"yaxis\":\"y\",\"type\":\"bar\"},{\"alignmentgroup\":\"True\",\"hovertemplate\":\"player_name=%{x}<br>overall_rating=%{text}<extra></extra>\",\"legendgroup\":\"Wayne Rooney\",\"marker\":{\"color\":\"#ab63fa\",\"pattern\":{\"shape\":\"\"}},\"name\":\"Wayne Rooney\",\"offsetgroup\":\"Wayne Rooney\",\"orientation\":\"v\",\"showlegend\":true,\"text\":[93.0],\"textposition\":\"auto\",\"x\":[\"Wayne Rooney\"],\"xaxis\":\"x\",\"y\":[93.0],\"yaxis\":\"y\",\"type\":\"bar\"},{\"alignmentgroup\":\"True\",\"hovertemplate\":\"player_name=%{x}<br>overall_rating=%{text}<extra></extra>\",\"legendgroup\":\"Gregory Coupet\",\"marker\":{\"color\":\"#FFA15A\",\"pattern\":{\"shape\":\"\"}},\"name\":\"Gregory Coupet\",\"offsetgroup\":\"Gregory Coupet\",\"orientation\":\"v\",\"showlegend\":true,\"text\":[92.0],\"textposition\":\"auto\",\"x\":[\"Gregory Coupet\"],\"xaxis\":\"x\",\"y\":[92.0],\"yaxis\":\"y\",\"type\":\"bar\"},{\"alignmentgroup\":\"True\",\"hovertemplate\":\"player_name=%{x}<br>overall_rating=%{text}<extra></extra>\",\"legendgroup\":\"Xavi Hernandez\",\"marker\":{\"color\":\"#19d3f3\",\"pattern\":{\"shape\":\"\"}},\"name\":\"Xavi Hernandez\",\"offsetgroup\":\"Xavi Hernandez\",\"orientation\":\"v\",\"showlegend\":true,\"text\":[92.0],\"textposition\":\"auto\",\"x\":[\"Xavi Hernandez\"],\"xaxis\":\"x\",\"y\":[92.0],\"yaxis\":\"y\",\"type\":\"bar\"},{\"alignmentgroup\":\"True\",\"hovertemplate\":\"player_name=%{x}<br>overall_rating=%{text}<extra></extra>\",\"legendgroup\":\"Alessandro Nesta\",\"marker\":{\"color\":\"#FF6692\",\"pattern\":{\"shape\":\"\"}},\"name\":\"Alessandro Nesta\",\"offsetgroup\":\"Alessandro Nesta\",\"orientation\":\"v\",\"showlegend\":true,\"text\":[91.0],\"textposition\":\"auto\",\"x\":[\"Alessandro Nesta\"],\"xaxis\":\"x\",\"y\":[91.0],\"yaxis\":\"y\",\"type\":\"bar\"},{\"alignmentgroup\":\"True\",\"hovertemplate\":\"player_name=%{x}<br>overall_rating=%{text}<extra></extra>\",\"legendgroup\":\"Andres Iniesta\",\"marker\":{\"color\":\"#B6E880\",\"pattern\":{\"shape\":\"\"}},\"name\":\"Andres Iniesta\",\"offsetgroup\":\"Andres Iniesta\",\"orientation\":\"v\",\"showlegend\":true,\"text\":[91.0],\"textposition\":\"auto\",\"x\":[\"Andres Iniesta\"],\"xaxis\":\"x\",\"y\":[91.0],\"yaxis\":\"y\",\"type\":\"bar\"},{\"alignmentgroup\":\"True\",\"hovertemplate\":\"player_name=%{x}<br>overall_rating=%{text}<extra></extra>\",\"legendgroup\":\"Iker Casillas\",\"marker\":{\"color\":\"#FF97FF\",\"pattern\":{\"shape\":\"\"}},\"name\":\"Iker Casillas\",\"offsetgroup\":\"Iker Casillas\",\"orientation\":\"v\",\"showlegend\":true,\"text\":[91.0],\"textposition\":\"auto\",\"x\":[\"Iker Casillas\"],\"xaxis\":\"x\",\"y\":[91.0],\"yaxis\":\"y\",\"type\":\"bar\"},{\"alignmentgroup\":\"True\",\"hovertemplate\":\"player_name=%{x}<br>overall_rating=%{text}<extra></extra>\",\"legendgroup\":\"John Terry\",\"marker\":{\"color\":\"#FECB52\",\"pattern\":{\"shape\":\"\"}},\"name\":\"John Terry\",\"offsetgroup\":\"John Terry\",\"orientation\":\"v\",\"showlegend\":true,\"text\":[91.0],\"textposition\":\"auto\",\"x\":[\"John Terry\"],\"xaxis\":\"x\",\"y\":[91.0],\"yaxis\":\"y\",\"type\":\"bar\"}],                        {\"template\":{\"data\":{\"histogram2dcontour\":[{\"type\":\"histogram2dcontour\",\"colorbar\":{\"outlinewidth\":0,\"ticks\":\"\"},\"colorscale\":[[0.0,\"#0d0887\"],[0.1111111111111111,\"#46039f\"],[0.2222222222222222,\"#7201a8\"],[0.3333333333333333,\"#9c179e\"],[0.4444444444444444,\"#bd3786\"],[0.5555555555555556,\"#d8576b\"],[0.6666666666666666,\"#ed7953\"],[0.7777777777777778,\"#fb9f3a\"],[0.8888888888888888,\"#fdca26\"],[1.0,\"#f0f921\"]]}],\"choropleth\":[{\"type\":\"choropleth\",\"colorbar\":{\"outlinewidth\":0,\"ticks\":\"\"}}],\"histogram2d\":[{\"type\":\"histogram2d\",\"colorbar\":{\"outlinewidth\":0,\"ticks\":\"\"},\"colorscale\":[[0.0,\"#0d0887\"],[0.1111111111111111,\"#46039f\"],[0.2222222222222222,\"#7201a8\"],[0.3333333333333333,\"#9c179e\"],[0.4444444444444444,\"#bd3786\"],[0.5555555555555556,\"#d8576b\"],[0.6666666666666666,\"#ed7953\"],[0.7777777777777778,\"#fb9f3a\"],[0.8888888888888888,\"#fdca26\"],[1.0,\"#f0f921\"]]}],\"heatmap\":[{\"type\":\"heatmap\",\"colorbar\":{\"outlinewidth\":0,\"ticks\":\"\"},\"colorscale\":[[0.0,\"#0d0887\"],[0.1111111111111111,\"#46039f\"],[0.2222222222222222,\"#7201a8\"],[0.3333333333333333,\"#9c179e\"],[0.4444444444444444,\"#bd3786\"],[0.5555555555555556,\"#d8576b\"],[0.6666666666666666,\"#ed7953\"],[0.7777777777777778,\"#fb9f3a\"],[0.8888888888888888,\"#fdca26\"],[1.0,\"#f0f921\"]]}],\"heatmapgl\":[{\"type\":\"heatmapgl\",\"colorbar\":{\"outlinewidth\":0,\"ticks\":\"\"},\"colorscale\":[[0.0,\"#0d0887\"],[0.1111111111111111,\"#46039f\"],[0.2222222222222222,\"#7201a8\"],[0.3333333333333333,\"#9c179e\"],[0.4444444444444444,\"#bd3786\"],[0.5555555555555556,\"#d8576b\"],[0.6666666666666666,\"#ed7953\"],[0.7777777777777778,\"#fb9f3a\"],[0.8888888888888888,\"#fdca26\"],[1.0,\"#f0f921\"]]}],\"contourcarpet\":[{\"type\":\"contourcarpet\",\"colorbar\":{\"outlinewidth\":0,\"ticks\":\"\"}}],\"contour\":[{\"type\":\"contour\",\"colorbar\":{\"outlinewidth\":0,\"ticks\":\"\"},\"colorscale\":[[0.0,\"#0d0887\"],[0.1111111111111111,\"#46039f\"],[0.2222222222222222,\"#7201a8\"],[0.3333333333333333,\"#9c179e\"],[0.4444444444444444,\"#bd3786\"],[0.5555555555555556,\"#d8576b\"],[0.6666666666666666,\"#ed7953\"],[0.7777777777777778,\"#fb9f3a\"],[0.8888888888888888,\"#fdca26\"],[1.0,\"#f0f921\"]]}],\"surface\":[{\"type\":\"surface\",\"colorbar\":{\"outlinewidth\":0,\"ticks\":\"\"},\"colorscale\":[[0.0,\"#0d0887\"],[0.1111111111111111,\"#46039f\"],[0.2222222222222222,\"#7201a8\"],[0.3333333333333333,\"#9c179e\"],[0.4444444444444444,\"#bd3786\"],[0.5555555555555556,\"#d8576b\"],[0.6666666666666666,\"#ed7953\"],[0.7777777777777778,\"#fb9f3a\"],[0.8888888888888888,\"#fdca26\"],[1.0,\"#f0f921\"]]}],\"mesh3d\":[{\"type\":\"mesh3d\",\"colorbar\":{\"outlinewidth\":0,\"ticks\":\"\"}}],\"scatter\":[{\"fillpattern\":{\"fillmode\":\"overlay\",\"size\":10,\"solidity\":0.2},\"type\":\"scatter\"}],\"parcoords\":[{\"type\":\"parcoords\",\"line\":{\"colorbar\":{\"outlinewidth\":0,\"ticks\":\"\"}}}],\"scatterpolargl\":[{\"type\":\"scatterpolargl\",\"marker\":{\"colorbar\":{\"outlinewidth\":0,\"ticks\":\"\"}}}],\"bar\":[{\"error_x\":{\"color\":\"#2a3f5f\"},\"error_y\":{\"color\":\"#2a3f5f\"},\"marker\":{\"line\":{\"color\":\"#E5ECF6\",\"width\":0.5},\"pattern\":{\"fillmode\":\"overlay\",\"size\":10,\"solidity\":0.2}},\"type\":\"bar\"}],\"scattergeo\":[{\"type\":\"scattergeo\",\"marker\":{\"colorbar\":{\"outlinewidth\":0,\"ticks\":\"\"}}}],\"scatterpolar\":[{\"type\":\"scatterpolar\",\"marker\":{\"colorbar\":{\"outlinewidth\":0,\"ticks\":\"\"}}}],\"histogram\":[{\"marker\":{\"pattern\":{\"fillmode\":\"overlay\",\"size\":10,\"solidity\":0.2}},\"type\":\"histogram\"}],\"scattergl\":[{\"type\":\"scattergl\",\"marker\":{\"colorbar\":{\"outlinewidth\":0,\"ticks\":\"\"}}}],\"scatter3d\":[{\"type\":\"scatter3d\",\"line\":{\"colorbar\":{\"outlinewidth\":0,\"ticks\":\"\"}},\"marker\":{\"colorbar\":{\"outlinewidth\":0,\"ticks\":\"\"}}}],\"scattermapbox\":[{\"type\":\"scattermapbox\",\"marker\":{\"colorbar\":{\"outlinewidth\":0,\"ticks\":\"\"}}}],\"scatterternary\":[{\"type\":\"scatterternary\",\"marker\":{\"colorbar\":{\"outlinewidth\":0,\"ticks\":\"\"}}}],\"scattercarpet\":[{\"type\":\"scattercarpet\",\"marker\":{\"colorbar\":{\"outlinewidth\":0,\"ticks\":\"\"}}}],\"carpet\":[{\"aaxis\":{\"endlinecolor\":\"#2a3f5f\",\"gridcolor\":\"white\",\"linecolor\":\"white\",\"minorgridcolor\":\"white\",\"startlinecolor\":\"#2a3f5f\"},\"baxis\":{\"endlinecolor\":\"#2a3f5f\",\"gridcolor\":\"white\",\"linecolor\":\"white\",\"minorgridcolor\":\"white\",\"startlinecolor\":\"#2a3f5f\"},\"type\":\"carpet\"}],\"table\":[{\"cells\":{\"fill\":{\"color\":\"#EBF0F8\"},\"line\":{\"color\":\"white\"}},\"header\":{\"fill\":{\"color\":\"#C8D4E3\"},\"line\":{\"color\":\"white\"}},\"type\":\"table\"}],\"barpolar\":[{\"marker\":{\"line\":{\"color\":\"#E5ECF6\",\"width\":0.5},\"pattern\":{\"fillmode\":\"overlay\",\"size\":10,\"solidity\":0.2}},\"type\":\"barpolar\"}],\"pie\":[{\"automargin\":true,\"type\":\"pie\"}]},\"layout\":{\"autotypenumbers\":\"strict\",\"colorway\":[\"#636efa\",\"#EF553B\",\"#00cc96\",\"#ab63fa\",\"#FFA15A\",\"#19d3f3\",\"#FF6692\",\"#B6E880\",\"#FF97FF\",\"#FECB52\"],\"font\":{\"color\":\"#2a3f5f\"},\"hovermode\":\"closest\",\"hoverlabel\":{\"align\":\"left\"},\"paper_bgcolor\":\"white\",\"plot_bgcolor\":\"#E5ECF6\",\"polar\":{\"bgcolor\":\"#E5ECF6\",\"angularaxis\":{\"gridcolor\":\"white\",\"linecolor\":\"white\",\"ticks\":\"\"},\"radialaxis\":{\"gridcolor\":\"white\",\"linecolor\":\"white\",\"ticks\":\"\"}},\"ternary\":{\"bgcolor\":\"#E5ECF6\",\"aaxis\":{\"gridcolor\":\"white\",\"linecolor\":\"white\",\"ticks\":\"\"},\"baxis\":{\"gridcolor\":\"white\",\"linecolor\":\"white\",\"ticks\":\"\"},\"caxis\":{\"gridcolor\":\"white\",\"linecolor\":\"white\",\"ticks\":\"\"}},\"coloraxis\":{\"colorbar\":{\"outlinewidth\":0,\"ticks\":\"\"}},\"colorscale\":{\"sequential\":[[0.0,\"#0d0887\"],[0.1111111111111111,\"#46039f\"],[0.2222222222222222,\"#7201a8\"],[0.3333333333333333,\"#9c179e\"],[0.4444444444444444,\"#bd3786\"],[0.5555555555555556,\"#d8576b\"],[0.6666666666666666,\"#ed7953\"],[0.7777777777777778,\"#fb9f3a\"],[0.8888888888888888,\"#fdca26\"],[1.0,\"#f0f921\"]],\"sequentialminus\":[[0.0,\"#0d0887\"],[0.1111111111111111,\"#46039f\"],[0.2222222222222222,\"#7201a8\"],[0.3333333333333333,\"#9c179e\"],[0.4444444444444444,\"#bd3786\"],[0.5555555555555556,\"#d8576b\"],[0.6666666666666666,\"#ed7953\"],[0.7777777777777778,\"#fb9f3a\"],[0.8888888888888888,\"#fdca26\"],[1.0,\"#f0f921\"]],\"diverging\":[[0,\"#8e0152\"],[0.1,\"#c51b7d\"],[0.2,\"#de77ae\"],[0.3,\"#f1b6da\"],[0.4,\"#fde0ef\"],[0.5,\"#f7f7f7\"],[0.6,\"#e6f5d0\"],[0.7,\"#b8e186\"],[0.8,\"#7fbc41\"],[0.9,\"#4d9221\"],[1,\"#276419\"]]},\"xaxis\":{\"gridcolor\":\"white\",\"linecolor\":\"white\",\"ticks\":\"\",\"title\":{\"standoff\":15},\"zerolinecolor\":\"white\",\"automargin\":true,\"zerolinewidth\":2},\"yaxis\":{\"gridcolor\":\"white\",\"linecolor\":\"white\",\"ticks\":\"\",\"title\":{\"standoff\":15},\"zerolinecolor\":\"white\",\"automargin\":true,\"zerolinewidth\":2},\"scene\":{\"xaxis\":{\"backgroundcolor\":\"#E5ECF6\",\"gridcolor\":\"white\",\"linecolor\":\"white\",\"showbackground\":true,\"ticks\":\"\",\"zerolinecolor\":\"white\",\"gridwidth\":2},\"yaxis\":{\"backgroundcolor\":\"#E5ECF6\",\"gridcolor\":\"white\",\"linecolor\":\"white\",\"showbackground\":true,\"ticks\":\"\",\"zerolinecolor\":\"white\",\"gridwidth\":2},\"zaxis\":{\"backgroundcolor\":\"#E5ECF6\",\"gridcolor\":\"white\",\"linecolor\":\"white\",\"showbackground\":true,\"ticks\":\"\",\"zerolinecolor\":\"white\",\"gridwidth\":2}},\"shapedefaults\":{\"line\":{\"color\":\"#2a3f5f\"}},\"annotationdefaults\":{\"arrowcolor\":\"#2a3f5f\",\"arrowhead\":0,\"arrowwidth\":1},\"geo\":{\"bgcolor\":\"white\",\"landcolor\":\"#E5ECF6\",\"subunitcolor\":\"white\",\"showland\":true,\"showlakes\":true,\"lakecolor\":\"white\"},\"title\":{\"x\":0.05},\"mapbox\":{\"style\":\"light\"}}},\"xaxis\":{\"anchor\":\"y\",\"domain\":[0.0,1.0],\"title\":{\"text\":\"Player Name\"},\"categoryorder\":\"array\",\"categoryarray\":[\"Lionel Messi\",\"Cristiano Ronaldo\",\"Gianluigi Buffon\",\"Wayne Rooney\",\"Gregory Coupet\",\"Xavi Hernandez\",\"Alessandro Nesta\",\"Andres Iniesta\",\"Iker Casillas\",\"John Terry\"]},\"yaxis\":{\"anchor\":\"x\",\"domain\":[0.0,1.0],\"title\":{\"text\":\"Overall Rating\"}},\"legend\":{\"title\":{\"text\":\"player_name\"},\"tracegroupgap\":0},\"title\":{\"text\":\"Top 10 None\"},\"barmode\":\"relative\"},                        {\"responsive\": true}                    ).then(function(){\n",
       "                            \n",
       "var gd = document.getElementById('f6d694d9-a5d7-46d4-96fb-4c926f0e06d6');\n",
       "var x = new MutationObserver(function (mutations, observer) {{\n",
       "        var display = window.getComputedStyle(gd).display;\n",
       "        if (!display || display === 'none') {{\n",
       "            console.log([gd, 'removed!']);\n",
       "            Plotly.purge(gd);\n",
       "            observer.disconnect();\n",
       "        }}\n",
       "}});\n",
       "\n",
       "// Listen for the removal of the full notebook cells\n",
       "var notebookContainer = gd.closest('#notebook-container');\n",
       "if (notebookContainer) {{\n",
       "    x.observe(notebookContainer, {childList: true});\n",
       "}}\n",
       "\n",
       "// Listen for the clearing of the current output cell\n",
       "var outputEl = gd.closest('.output');\n",
       "if (outputEl) {{\n",
       "    x.observe(outputEl, {childList: true});\n",
       "}}\n",
       "\n",
       "                        })                };                });            </script>        </div>"
      ]
     },
     "metadata": {},
     "output_type": "display_data"
    },
    {
     "data": {
      "text/html": [
       "<div>\n",
       "<style scoped>\n",
       "    .dataframe tbody tr th:only-of-type {\n",
       "        vertical-align: middle;\n",
       "    }\n",
       "\n",
       "    .dataframe tbody tr th {\n",
       "        vertical-align: top;\n",
       "    }\n",
       "\n",
       "    .dataframe thead th {\n",
       "        text-align: right;\n",
       "    }\n",
       "</style>\n",
       "<table border=\"1\" class=\"dataframe\">\n",
       "  <thead>\n",
       "    <tr style=\"text-align: right;\">\n",
       "      <th></th>\n",
       "      <th>player_name</th>\n",
       "      <th>overall_rating</th>\n",
       "    </tr>\n",
       "  </thead>\n",
       "  <tbody>\n",
       "    <tr>\n",
       "      <th>0</th>\n",
       "      <td>Lionel Messi</td>\n",
       "      <td>94.0</td>\n",
       "    </tr>\n",
       "    <tr>\n",
       "      <th>1</th>\n",
       "      <td>Cristiano Ronaldo</td>\n",
       "      <td>93.0</td>\n",
       "    </tr>\n",
       "    <tr>\n",
       "      <th>2</th>\n",
       "      <td>Gianluigi Buffon</td>\n",
       "      <td>93.0</td>\n",
       "    </tr>\n",
       "    <tr>\n",
       "      <th>3</th>\n",
       "      <td>Wayne Rooney</td>\n",
       "      <td>93.0</td>\n",
       "    </tr>\n",
       "    <tr>\n",
       "      <th>4</th>\n",
       "      <td>Gregory Coupet</td>\n",
       "      <td>92.0</td>\n",
       "    </tr>\n",
       "    <tr>\n",
       "      <th>5</th>\n",
       "      <td>Xavi Hernandez</td>\n",
       "      <td>92.0</td>\n",
       "    </tr>\n",
       "    <tr>\n",
       "      <th>6</th>\n",
       "      <td>Alessandro Nesta</td>\n",
       "      <td>91.0</td>\n",
       "    </tr>\n",
       "    <tr>\n",
       "      <th>7</th>\n",
       "      <td>Andres Iniesta</td>\n",
       "      <td>91.0</td>\n",
       "    </tr>\n",
       "    <tr>\n",
       "      <th>8</th>\n",
       "      <td>Iker Casillas</td>\n",
       "      <td>91.0</td>\n",
       "    </tr>\n",
       "    <tr>\n",
       "      <th>9</th>\n",
       "      <td>John Terry</td>\n",
       "      <td>91.0</td>\n",
       "    </tr>\n",
       "  </tbody>\n",
       "</table>\n",
       "</div>"
      ],
      "text/plain": [
       "         player_name  overall_rating\n",
       "0       Lionel Messi            94.0\n",
       "1  Cristiano Ronaldo            93.0\n",
       "2   Gianluigi Buffon            93.0\n",
       "3       Wayne Rooney            93.0\n",
       "4     Gregory Coupet            92.0\n",
       "5     Xavi Hernandez            92.0\n",
       "6   Alessandro Nesta            91.0\n",
       "7     Andres Iniesta            91.0\n",
       "8      Iker Casillas            91.0\n",
       "9         John Terry            91.0"
      ]
     },
     "execution_count": 21,
     "metadata": {},
     "output_type": "execute_result"
    }
   ],
   "source": [
    "myTopPlot(df, 'player_name', 'overall_rating')"
   ]
  },
  {
   "cell_type": "markdown",
   "id": "546c1b46",
   "metadata": {
    "papermill": {
     "duration": 0.023024,
     "end_time": "2022-09-10T06:23:07.365930",
     "exception": false,
     "start_time": "2022-09-10T06:23:07.342906",
     "status": "completed"
    },
    "tags": []
   },
   "source": [
    "---> We notice that the Argentinian player \"Lionel Messi\" had the highest overall rating among the players during the ten years from 2007 to 2016."
   ]
  },
  {
   "cell_type": "markdown",
   "id": "f1f8b1db",
   "metadata": {
    "papermill": {
     "duration": 0.022493,
     "end_time": "2022-09-10T06:23:07.411226",
     "exception": false,
     "start_time": "2022-09-10T06:23:07.388733",
     "status": "completed"
    },
    "tags": []
   },
   "source": [
    "                ***********************************************************"
   ]
  },
  {
   "cell_type": "markdown",
   "id": "c3f9f257",
   "metadata": {
    "papermill": {
     "duration": 0.022848,
     "end_time": "2022-09-10T06:23:07.456902",
     "exception": false,
     "start_time": "2022-09-10T06:23:07.434054",
     "status": "completed"
    },
    "tags": []
   },
   "source": [
    "### Research Question 2 : Who were the top rated \"Goalkeepers\"?\n",
    "To answer this question, we should collect the Goalkeepers attributes from the dataset and then put them into another dataset, then analysis this new dataset to get the top 5 \"goal keepers\".\n",
    "\n",
    "Note: We will take only the highest rating of the players over the ten years (from 2007 to 2016)."
   ]
  },
  {
   "cell_type": "code",
   "execution_count": 22,
   "id": "8fd8765d",
   "metadata": {
    "execution": {
     "iopub.execute_input": "2022-09-10T06:23:07.506422Z",
     "iopub.status.busy": "2022-09-10T06:23:07.505860Z",
     "iopub.status.idle": "2022-09-10T06:23:07.511110Z",
     "shell.execute_reply": "2022-09-10T06:23:07.509917Z"
    },
    "papermill": {
     "duration": 0.032991,
     "end_time": "2022-09-10T06:23:07.513617",
     "exception": false,
     "start_time": "2022-09-10T06:23:07.480626",
     "status": "completed"
    },
    "tags": []
   },
   "outputs": [],
   "source": [
    "# Consider the following goalkeeper attributes :\n",
    "# gk_diving ,gk_handling ,gk_kicking, gk_positioning, and gk_reflexes are the most important features for a good goalkeeper, \n",
    "# and let's get the top 10 goalkeepers ratings through them.\n",
    "GK_attributes = ['player_name','gk_diving','gk_handling','gk_kicking','reactions',\n",
    "                 'gk_positioning', 'gk_reflexes']"
   ]
  },
  {
   "cell_type": "code",
   "execution_count": 23,
   "id": "c9d72b9f",
   "metadata": {
    "execution": {
     "iopub.execute_input": "2022-09-10T06:23:07.561499Z",
     "iopub.status.busy": "2022-09-10T06:23:07.561023Z",
     "iopub.status.idle": "2022-09-10T06:23:07.716778Z",
     "shell.execute_reply": "2022-09-10T06:23:07.715610Z"
    },
    "papermill": {
     "duration": 0.182493,
     "end_time": "2022-09-10T06:23:07.719125",
     "exception": false,
     "start_time": "2022-09-10T06:23:07.536632",
     "status": "completed"
    },
    "tags": []
   },
   "outputs": [
    {
     "data": {
      "text/html": [
       "<div>                            <div id=\"c41027e6-7268-44c5-899a-af310491d4a4\" class=\"plotly-graph-div\" style=\"height:525px; width:100%;\"></div>            <script type=\"text/javascript\">                require([\"plotly\"], function(Plotly) {                    window.PLOTLYENV=window.PLOTLYENV || {};                                    if (document.getElementById(\"c41027e6-7268-44c5-899a-af310491d4a4\")) {                    Plotly.newPlot(                        \"c41027e6-7268-44c5-899a-af310491d4a4\",                        [{\"alignmentgroup\":\"True\",\"hovertemplate\":\"player_name=%{x}<br>overall_rating=%{text}<extra></extra>\",\"legendgroup\":\"Gianluigi Buffon\",\"marker\":{\"color\":\"#636efa\",\"pattern\":{\"shape\":\"\"}},\"name\":\"Gianluigi Buffon\",\"offsetgroup\":\"Gianluigi Buffon\",\"orientation\":\"v\",\"showlegend\":true,\"text\":[90.0],\"textposition\":\"auto\",\"x\":[\"Gianluigi Buffon\"],\"xaxis\":\"x\",\"y\":[90.0],\"yaxis\":\"y\",\"type\":\"bar\"},{\"alignmentgroup\":\"True\",\"hovertemplate\":\"player_name=%{x}<br>overall_rating=%{text}<extra></extra>\",\"legendgroup\":\"Gregory Coupet\",\"marker\":{\"color\":\"#EF553B\",\"pattern\":{\"shape\":\"\"}},\"name\":\"Gregory Coupet\",\"offsetgroup\":\"Gregory Coupet\",\"orientation\":\"v\",\"showlegend\":true,\"text\":[88.0],\"textposition\":\"auto\",\"x\":[\"Gregory Coupet\"],\"xaxis\":\"x\",\"y\":[88.0],\"yaxis\":\"y\",\"type\":\"bar\"},{\"alignmentgroup\":\"True\",\"hovertemplate\":\"player_name=%{x}<br>overall_rating=%{text}<extra></extra>\",\"legendgroup\":\"Iker Casillas\",\"marker\":{\"color\":\"#00cc96\",\"pattern\":{\"shape\":\"\"}},\"name\":\"Iker Casillas\",\"offsetgroup\":\"Iker Casillas\",\"orientation\":\"v\",\"showlegend\":true,\"text\":[88.0],\"textposition\":\"auto\",\"x\":[\"Iker Casillas\"],\"xaxis\":\"x\",\"y\":[88.0],\"yaxis\":\"y\",\"type\":\"bar\"},{\"alignmentgroup\":\"True\",\"hovertemplate\":\"player_name=%{x}<br>overall_rating=%{text}<extra></extra>\",\"legendgroup\":\"Manuel Neuer\",\"marker\":{\"color\":\"#ab63fa\",\"pattern\":{\"shape\":\"\"}},\"name\":\"Manuel Neuer\",\"offsetgroup\":\"Manuel Neuer\",\"orientation\":\"v\",\"showlegend\":true,\"text\":[88.0],\"textposition\":\"auto\",\"x\":[\"Manuel Neuer\"],\"xaxis\":\"x\",\"y\":[88.0],\"yaxis\":\"y\",\"type\":\"bar\"},{\"alignmentgroup\":\"True\",\"hovertemplate\":\"player_name=%{x}<br>overall_rating=%{text}<extra></extra>\",\"legendgroup\":\"Petr Cech\",\"marker\":{\"color\":\"#FFA15A\",\"pattern\":{\"shape\":\"\"}},\"name\":\"Petr Cech\",\"offsetgroup\":\"Petr Cech\",\"orientation\":\"v\",\"showlegend\":true,\"text\":[88.0],\"textposition\":\"auto\",\"x\":[\"Petr Cech\"],\"xaxis\":\"x\",\"y\":[88.0],\"yaxis\":\"y\",\"type\":\"bar\"},{\"alignmentgroup\":\"True\",\"hovertemplate\":\"player_name=%{x}<br>overall_rating=%{text}<extra></extra>\",\"legendgroup\":\"Julio Cesar\",\"marker\":{\"color\":\"#19d3f3\",\"pattern\":{\"shape\":\"\"}},\"name\":\"Julio Cesar\",\"offsetgroup\":\"Julio Cesar\",\"orientation\":\"v\",\"showlegend\":true,\"text\":[87.0],\"textposition\":\"auto\",\"x\":[\"Julio Cesar\"],\"xaxis\":\"x\",\"y\":[87.0],\"yaxis\":\"y\",\"type\":\"bar\"},{\"alignmentgroup\":\"True\",\"hovertemplate\":\"player_name=%{x}<br>overall_rating=%{text}<extra></extra>\",\"legendgroup\":\"David De Gea\",\"marker\":{\"color\":\"#FF6692\",\"pattern\":{\"shape\":\"\"}},\"name\":\"David De Gea\",\"offsetgroup\":\"David De Gea\",\"orientation\":\"v\",\"showlegend\":true,\"text\":[86.0],\"textposition\":\"auto\",\"x\":[\"David De Gea\"],\"xaxis\":\"x\",\"y\":[86.0],\"yaxis\":\"y\",\"type\":\"bar\"},{\"alignmentgroup\":\"True\",\"hovertemplate\":\"player_name=%{x}<br>overall_rating=%{text}<extra></extra>\",\"legendgroup\":\"Sebastian Frey\",\"marker\":{\"color\":\"#B6E880\",\"pattern\":{\"shape\":\"\"}},\"name\":\"Sebastian Frey\",\"offsetgroup\":\"Sebastian Frey\",\"orientation\":\"v\",\"showlegend\":true,\"text\":[86.0],\"textposition\":\"auto\",\"x\":[\"Sebastian Frey\"],\"xaxis\":\"x\",\"y\":[86.0],\"yaxis\":\"y\",\"type\":\"bar\"},{\"alignmentgroup\":\"True\",\"hovertemplate\":\"player_name=%{x}<br>overall_rating=%{text}<extra></extra>\",\"legendgroup\":\"Edwin van der Sar\",\"marker\":{\"color\":\"#FF97FF\",\"pattern\":{\"shape\":\"\"}},\"name\":\"Edwin van der Sar\",\"offsetgroup\":\"Edwin van der Sar\",\"orientation\":\"v\",\"showlegend\":true,\"text\":[85.0],\"textposition\":\"auto\",\"x\":[\"Edwin van der Sar\"],\"xaxis\":\"x\",\"y\":[85.0],\"yaxis\":\"y\",\"type\":\"bar\"},{\"alignmentgroup\":\"True\",\"hovertemplate\":\"player_name=%{x}<br>overall_rating=%{text}<extra></extra>\",\"legendgroup\":\"Mickael Landreau\",\"marker\":{\"color\":\"#FECB52\",\"pattern\":{\"shape\":\"\"}},\"name\":\"Mickael Landreau\",\"offsetgroup\":\"Mickael Landreau\",\"orientation\":\"v\",\"showlegend\":true,\"text\":[85.0],\"textposition\":\"auto\",\"x\":[\"Mickael Landreau\"],\"xaxis\":\"x\",\"y\":[85.0],\"yaxis\":\"y\",\"type\":\"bar\"}],                        {\"template\":{\"data\":{\"histogram2dcontour\":[{\"type\":\"histogram2dcontour\",\"colorbar\":{\"outlinewidth\":0,\"ticks\":\"\"},\"colorscale\":[[0.0,\"#0d0887\"],[0.1111111111111111,\"#46039f\"],[0.2222222222222222,\"#7201a8\"],[0.3333333333333333,\"#9c179e\"],[0.4444444444444444,\"#bd3786\"],[0.5555555555555556,\"#d8576b\"],[0.6666666666666666,\"#ed7953\"],[0.7777777777777778,\"#fb9f3a\"],[0.8888888888888888,\"#fdca26\"],[1.0,\"#f0f921\"]]}],\"choropleth\":[{\"type\":\"choropleth\",\"colorbar\":{\"outlinewidth\":0,\"ticks\":\"\"}}],\"histogram2d\":[{\"type\":\"histogram2d\",\"colorbar\":{\"outlinewidth\":0,\"ticks\":\"\"},\"colorscale\":[[0.0,\"#0d0887\"],[0.1111111111111111,\"#46039f\"],[0.2222222222222222,\"#7201a8\"],[0.3333333333333333,\"#9c179e\"],[0.4444444444444444,\"#bd3786\"],[0.5555555555555556,\"#d8576b\"],[0.6666666666666666,\"#ed7953\"],[0.7777777777777778,\"#fb9f3a\"],[0.8888888888888888,\"#fdca26\"],[1.0,\"#f0f921\"]]}],\"heatmap\":[{\"type\":\"heatmap\",\"colorbar\":{\"outlinewidth\":0,\"ticks\":\"\"},\"colorscale\":[[0.0,\"#0d0887\"],[0.1111111111111111,\"#46039f\"],[0.2222222222222222,\"#7201a8\"],[0.3333333333333333,\"#9c179e\"],[0.4444444444444444,\"#bd3786\"],[0.5555555555555556,\"#d8576b\"],[0.6666666666666666,\"#ed7953\"],[0.7777777777777778,\"#fb9f3a\"],[0.8888888888888888,\"#fdca26\"],[1.0,\"#f0f921\"]]}],\"heatmapgl\":[{\"type\":\"heatmapgl\",\"colorbar\":{\"outlinewidth\":0,\"ticks\":\"\"},\"colorscale\":[[0.0,\"#0d0887\"],[0.1111111111111111,\"#46039f\"],[0.2222222222222222,\"#7201a8\"],[0.3333333333333333,\"#9c179e\"],[0.4444444444444444,\"#bd3786\"],[0.5555555555555556,\"#d8576b\"],[0.6666666666666666,\"#ed7953\"],[0.7777777777777778,\"#fb9f3a\"],[0.8888888888888888,\"#fdca26\"],[1.0,\"#f0f921\"]]}],\"contourcarpet\":[{\"type\":\"contourcarpet\",\"colorbar\":{\"outlinewidth\":0,\"ticks\":\"\"}}],\"contour\":[{\"type\":\"contour\",\"colorbar\":{\"outlinewidth\":0,\"ticks\":\"\"},\"colorscale\":[[0.0,\"#0d0887\"],[0.1111111111111111,\"#46039f\"],[0.2222222222222222,\"#7201a8\"],[0.3333333333333333,\"#9c179e\"],[0.4444444444444444,\"#bd3786\"],[0.5555555555555556,\"#d8576b\"],[0.6666666666666666,\"#ed7953\"],[0.7777777777777778,\"#fb9f3a\"],[0.8888888888888888,\"#fdca26\"],[1.0,\"#f0f921\"]]}],\"surface\":[{\"type\":\"surface\",\"colorbar\":{\"outlinewidth\":0,\"ticks\":\"\"},\"colorscale\":[[0.0,\"#0d0887\"],[0.1111111111111111,\"#46039f\"],[0.2222222222222222,\"#7201a8\"],[0.3333333333333333,\"#9c179e\"],[0.4444444444444444,\"#bd3786\"],[0.5555555555555556,\"#d8576b\"],[0.6666666666666666,\"#ed7953\"],[0.7777777777777778,\"#fb9f3a\"],[0.8888888888888888,\"#fdca26\"],[1.0,\"#f0f921\"]]}],\"mesh3d\":[{\"type\":\"mesh3d\",\"colorbar\":{\"outlinewidth\":0,\"ticks\":\"\"}}],\"scatter\":[{\"fillpattern\":{\"fillmode\":\"overlay\",\"size\":10,\"solidity\":0.2},\"type\":\"scatter\"}],\"parcoords\":[{\"type\":\"parcoords\",\"line\":{\"colorbar\":{\"outlinewidth\":0,\"ticks\":\"\"}}}],\"scatterpolargl\":[{\"type\":\"scatterpolargl\",\"marker\":{\"colorbar\":{\"outlinewidth\":0,\"ticks\":\"\"}}}],\"bar\":[{\"error_x\":{\"color\":\"#2a3f5f\"},\"error_y\":{\"color\":\"#2a3f5f\"},\"marker\":{\"line\":{\"color\":\"#E5ECF6\",\"width\":0.5},\"pattern\":{\"fillmode\":\"overlay\",\"size\":10,\"solidity\":0.2}},\"type\":\"bar\"}],\"scattergeo\":[{\"type\":\"scattergeo\",\"marker\":{\"colorbar\":{\"outlinewidth\":0,\"ticks\":\"\"}}}],\"scatterpolar\":[{\"type\":\"scatterpolar\",\"marker\":{\"colorbar\":{\"outlinewidth\":0,\"ticks\":\"\"}}}],\"histogram\":[{\"marker\":{\"pattern\":{\"fillmode\":\"overlay\",\"size\":10,\"solidity\":0.2}},\"type\":\"histogram\"}],\"scattergl\":[{\"type\":\"scattergl\",\"marker\":{\"colorbar\":{\"outlinewidth\":0,\"ticks\":\"\"}}}],\"scatter3d\":[{\"type\":\"scatter3d\",\"line\":{\"colorbar\":{\"outlinewidth\":0,\"ticks\":\"\"}},\"marker\":{\"colorbar\":{\"outlinewidth\":0,\"ticks\":\"\"}}}],\"scattermapbox\":[{\"type\":\"scattermapbox\",\"marker\":{\"colorbar\":{\"outlinewidth\":0,\"ticks\":\"\"}}}],\"scatterternary\":[{\"type\":\"scatterternary\",\"marker\":{\"colorbar\":{\"outlinewidth\":0,\"ticks\":\"\"}}}],\"scattercarpet\":[{\"type\":\"scattercarpet\",\"marker\":{\"colorbar\":{\"outlinewidth\":0,\"ticks\":\"\"}}}],\"carpet\":[{\"aaxis\":{\"endlinecolor\":\"#2a3f5f\",\"gridcolor\":\"white\",\"linecolor\":\"white\",\"minorgridcolor\":\"white\",\"startlinecolor\":\"#2a3f5f\"},\"baxis\":{\"endlinecolor\":\"#2a3f5f\",\"gridcolor\":\"white\",\"linecolor\":\"white\",\"minorgridcolor\":\"white\",\"startlinecolor\":\"#2a3f5f\"},\"type\":\"carpet\"}],\"table\":[{\"cells\":{\"fill\":{\"color\":\"#EBF0F8\"},\"line\":{\"color\":\"white\"}},\"header\":{\"fill\":{\"color\":\"#C8D4E3\"},\"line\":{\"color\":\"white\"}},\"type\":\"table\"}],\"barpolar\":[{\"marker\":{\"line\":{\"color\":\"#E5ECF6\",\"width\":0.5},\"pattern\":{\"fillmode\":\"overlay\",\"size\":10,\"solidity\":0.2}},\"type\":\"barpolar\"}],\"pie\":[{\"automargin\":true,\"type\":\"pie\"}]},\"layout\":{\"autotypenumbers\":\"strict\",\"colorway\":[\"#636efa\",\"#EF553B\",\"#00cc96\",\"#ab63fa\",\"#FFA15A\",\"#19d3f3\",\"#FF6692\",\"#B6E880\",\"#FF97FF\",\"#FECB52\"],\"font\":{\"color\":\"#2a3f5f\"},\"hovermode\":\"closest\",\"hoverlabel\":{\"align\":\"left\"},\"paper_bgcolor\":\"white\",\"plot_bgcolor\":\"#E5ECF6\",\"polar\":{\"bgcolor\":\"#E5ECF6\",\"angularaxis\":{\"gridcolor\":\"white\",\"linecolor\":\"white\",\"ticks\":\"\"},\"radialaxis\":{\"gridcolor\":\"white\",\"linecolor\":\"white\",\"ticks\":\"\"}},\"ternary\":{\"bgcolor\":\"#E5ECF6\",\"aaxis\":{\"gridcolor\":\"white\",\"linecolor\":\"white\",\"ticks\":\"\"},\"baxis\":{\"gridcolor\":\"white\",\"linecolor\":\"white\",\"ticks\":\"\"},\"caxis\":{\"gridcolor\":\"white\",\"linecolor\":\"white\",\"ticks\":\"\"}},\"coloraxis\":{\"colorbar\":{\"outlinewidth\":0,\"ticks\":\"\"}},\"colorscale\":{\"sequential\":[[0.0,\"#0d0887\"],[0.1111111111111111,\"#46039f\"],[0.2222222222222222,\"#7201a8\"],[0.3333333333333333,\"#9c179e\"],[0.4444444444444444,\"#bd3786\"],[0.5555555555555556,\"#d8576b\"],[0.6666666666666666,\"#ed7953\"],[0.7777777777777778,\"#fb9f3a\"],[0.8888888888888888,\"#fdca26\"],[1.0,\"#f0f921\"]],\"sequentialminus\":[[0.0,\"#0d0887\"],[0.1111111111111111,\"#46039f\"],[0.2222222222222222,\"#7201a8\"],[0.3333333333333333,\"#9c179e\"],[0.4444444444444444,\"#bd3786\"],[0.5555555555555556,\"#d8576b\"],[0.6666666666666666,\"#ed7953\"],[0.7777777777777778,\"#fb9f3a\"],[0.8888888888888888,\"#fdca26\"],[1.0,\"#f0f921\"]],\"diverging\":[[0,\"#8e0152\"],[0.1,\"#c51b7d\"],[0.2,\"#de77ae\"],[0.3,\"#f1b6da\"],[0.4,\"#fde0ef\"],[0.5,\"#f7f7f7\"],[0.6,\"#e6f5d0\"],[0.7,\"#b8e186\"],[0.8,\"#7fbc41\"],[0.9,\"#4d9221\"],[1,\"#276419\"]]},\"xaxis\":{\"gridcolor\":\"white\",\"linecolor\":\"white\",\"ticks\":\"\",\"title\":{\"standoff\":15},\"zerolinecolor\":\"white\",\"automargin\":true,\"zerolinewidth\":2},\"yaxis\":{\"gridcolor\":\"white\",\"linecolor\":\"white\",\"ticks\":\"\",\"title\":{\"standoff\":15},\"zerolinecolor\":\"white\",\"automargin\":true,\"zerolinewidth\":2},\"scene\":{\"xaxis\":{\"backgroundcolor\":\"#E5ECF6\",\"gridcolor\":\"white\",\"linecolor\":\"white\",\"showbackground\":true,\"ticks\":\"\",\"zerolinecolor\":\"white\",\"gridwidth\":2},\"yaxis\":{\"backgroundcolor\":\"#E5ECF6\",\"gridcolor\":\"white\",\"linecolor\":\"white\",\"showbackground\":true,\"ticks\":\"\",\"zerolinecolor\":\"white\",\"gridwidth\":2},\"zaxis\":{\"backgroundcolor\":\"#E5ECF6\",\"gridcolor\":\"white\",\"linecolor\":\"white\",\"showbackground\":true,\"ticks\":\"\",\"zerolinecolor\":\"white\",\"gridwidth\":2}},\"shapedefaults\":{\"line\":{\"color\":\"#2a3f5f\"}},\"annotationdefaults\":{\"arrowcolor\":\"#2a3f5f\",\"arrowhead\":0,\"arrowwidth\":1},\"geo\":{\"bgcolor\":\"white\",\"landcolor\":\"#E5ECF6\",\"subunitcolor\":\"white\",\"showland\":true,\"showlakes\":true,\"lakecolor\":\"white\"},\"title\":{\"x\":0.05},\"mapbox\":{\"style\":\"light\"}}},\"xaxis\":{\"anchor\":\"y\",\"domain\":[0.0,1.0],\"title\":{\"text\":\"Player Name\"},\"categoryorder\":\"array\",\"categoryarray\":[\"Gianluigi Buffon\",\"Gregory Coupet\",\"Iker Casillas\",\"Manuel Neuer\",\"Petr Cech\",\"Julio Cesar\",\"David De Gea\",\"Sebastian Frey\",\"Edwin van der Sar\",\"Mickael Landreau\"]},\"yaxis\":{\"anchor\":\"x\",\"domain\":[0.0,1.0],\"title\":{\"text\":\"Overall Rating\"}},\"legend\":{\"title\":{\"text\":\"player_name\"},\"tracegroupgap\":0},\"title\":{\"text\":\"Top 10 Goalkeepers\"},\"barmode\":\"relative\"},                        {\"responsive\": true}                    ).then(function(){\n",
       "                            \n",
       "var gd = document.getElementById('c41027e6-7268-44c5-899a-af310491d4a4');\n",
       "var x = new MutationObserver(function (mutations, observer) {{\n",
       "        var display = window.getComputedStyle(gd).display;\n",
       "        if (!display || display === 'none') {{\n",
       "            console.log([gd, 'removed!']);\n",
       "            Plotly.purge(gd);\n",
       "            observer.disconnect();\n",
       "        }}\n",
       "}});\n",
       "\n",
       "// Listen for the removal of the full notebook cells\n",
       "var notebookContainer = gd.closest('#notebook-container');\n",
       "if (notebookContainer) {{\n",
       "    x.observe(notebookContainer, {childList: true});\n",
       "}}\n",
       "\n",
       "// Listen for the clearing of the current output cell\n",
       "var outputEl = gd.closest('.output');\n",
       "if (outputEl) {{\n",
       "    x.observe(outputEl, {childList: true});\n",
       "}}\n",
       "\n",
       "                        })                };                });            </script>        </div>"
      ]
     },
     "metadata": {},
     "output_type": "display_data"
    },
    {
     "data": {
      "text/html": [
       "<div>\n",
       "<style scoped>\n",
       "    .dataframe tbody tr th:only-of-type {\n",
       "        vertical-align: middle;\n",
       "    }\n",
       "\n",
       "    .dataframe tbody tr th {\n",
       "        vertical-align: top;\n",
       "    }\n",
       "\n",
       "    .dataframe thead th {\n",
       "        text-align: right;\n",
       "    }\n",
       "</style>\n",
       "<table border=\"1\" class=\"dataframe\">\n",
       "  <thead>\n",
       "    <tr style=\"text-align: right;\">\n",
       "      <th></th>\n",
       "      <th>player_name</th>\n",
       "      <th>overall_rating</th>\n",
       "    </tr>\n",
       "  </thead>\n",
       "  <tbody>\n",
       "    <tr>\n",
       "      <th>0</th>\n",
       "      <td>Gianluigi Buffon</td>\n",
       "      <td>90.0</td>\n",
       "    </tr>\n",
       "    <tr>\n",
       "      <th>1</th>\n",
       "      <td>Gregory Coupet</td>\n",
       "      <td>88.0</td>\n",
       "    </tr>\n",
       "    <tr>\n",
       "      <th>2</th>\n",
       "      <td>Iker Casillas</td>\n",
       "      <td>88.0</td>\n",
       "    </tr>\n",
       "    <tr>\n",
       "      <th>3</th>\n",
       "      <td>Manuel Neuer</td>\n",
       "      <td>88.0</td>\n",
       "    </tr>\n",
       "    <tr>\n",
       "      <th>4</th>\n",
       "      <td>Petr Cech</td>\n",
       "      <td>88.0</td>\n",
       "    </tr>\n",
       "    <tr>\n",
       "      <th>5</th>\n",
       "      <td>Julio Cesar</td>\n",
       "      <td>87.0</td>\n",
       "    </tr>\n",
       "    <tr>\n",
       "      <th>6</th>\n",
       "      <td>David De Gea</td>\n",
       "      <td>86.0</td>\n",
       "    </tr>\n",
       "    <tr>\n",
       "      <th>7</th>\n",
       "      <td>Sebastian Frey</td>\n",
       "      <td>86.0</td>\n",
       "    </tr>\n",
       "    <tr>\n",
       "      <th>8</th>\n",
       "      <td>Edwin van der Sar</td>\n",
       "      <td>85.0</td>\n",
       "    </tr>\n",
       "    <tr>\n",
       "      <th>9</th>\n",
       "      <td>Mickael Landreau</td>\n",
       "      <td>85.0</td>\n",
       "    </tr>\n",
       "  </tbody>\n",
       "</table>\n",
       "</div>"
      ],
      "text/plain": [
       "         player_name  overall_rating\n",
       "0   Gianluigi Buffon            90.0\n",
       "1     Gregory Coupet            88.0\n",
       "2      Iker Casillas            88.0\n",
       "3       Manuel Neuer            88.0\n",
       "4          Petr Cech            88.0\n",
       "5        Julio Cesar            87.0\n",
       "6       David De Gea            86.0\n",
       "7     Sebastian Frey            86.0\n",
       "8  Edwin van der Sar            85.0\n",
       "9   Mickael Landreau            85.0"
      ]
     },
     "execution_count": 23,
     "metadata": {},
     "output_type": "execute_result"
    }
   ],
   "source": [
    "myTopPlot(df, 'player_name', 'overall_rating', cols = GK_attributes, position='Goalkeepers')"
   ]
  },
  {
   "cell_type": "markdown",
   "id": "7bac2409",
   "metadata": {
    "papermill": {
     "duration": 0.022999,
     "end_time": "2022-09-10T06:23:07.765532",
     "exception": false,
     "start_time": "2022-09-10T06:23:07.742533",
     "status": "completed"
    },
    "tags": []
   },
   "source": [
    "---> We notice that the Italian goalkeeper \"Gianluigi Buffon\" had the highest average rating among the rest of goalkeepers during the ten years from 2007 to 2106. "
   ]
  },
  {
   "cell_type": "markdown",
   "id": "0d7f95d6",
   "metadata": {
    "papermill": {
     "duration": 0.023074,
     "end_time": "2022-09-10T06:23:07.812072",
     "exception": false,
     "start_time": "2022-09-10T06:23:07.788998",
     "status": "completed"
    },
    "tags": []
   },
   "source": [
    "                  **************************************************"
   ]
  },
  {
   "cell_type": "markdown",
   "id": "99ea7b41",
   "metadata": {
    "papermill": {
     "duration": 0.023344,
     "end_time": "2022-09-10T06:23:07.858674",
     "exception": false,
     "start_time": "2022-09-10T06:23:07.835330",
     "status": "completed"
    },
    "tags": []
   },
   "source": [
    "### Research Question 3 : Who were the \"Defenders\" with the highest rating ?\n",
    "\n",
    "To answer this question, we should collect the \"Defenders\" attributes from the dataset and then put them into another dataset, then analysis this new dataset to get the top ten \"Defenders\"."
   ]
  },
  {
   "cell_type": "code",
   "execution_count": 24,
   "id": "cd8d74ee",
   "metadata": {
    "execution": {
     "iopub.execute_input": "2022-09-10T06:23:07.907008Z",
     "iopub.status.busy": "2022-09-10T06:23:07.906619Z",
     "iopub.status.idle": "2022-09-10T06:23:07.911838Z",
     "shell.execute_reply": "2022-09-10T06:23:07.910710Z"
    },
    "papermill": {
     "duration": 0.032513,
     "end_time": "2022-09-10T06:23:07.914353",
     "exception": false,
     "start_time": "2022-09-10T06:23:07.881840",
     "status": "completed"
    },
    "tags": []
   },
   "outputs": [],
   "source": [
    "# Let's select Defending attributes and save it in a new dataframe\n",
    "Df_attributes = ['player_name', 'jumping','stamina','strength','aggression',\n",
    "                    'interceptions','marking','standing_tackle','sliding_tackle','positioning', 'reactions']"
   ]
  },
  {
   "cell_type": "code",
   "execution_count": 25,
   "id": "84e90b26",
   "metadata": {
    "execution": {
     "iopub.execute_input": "2022-09-10T06:23:07.963998Z",
     "iopub.status.busy": "2022-09-10T06:23:07.963571Z",
     "iopub.status.idle": "2022-09-10T06:23:08.130989Z",
     "shell.execute_reply": "2022-09-10T06:23:08.129638Z"
    },
    "papermill": {
     "duration": 0.195534,
     "end_time": "2022-09-10T06:23:08.133600",
     "exception": false,
     "start_time": "2022-09-10T06:23:07.938066",
     "status": "completed"
    },
    "tags": []
   },
   "outputs": [
    {
     "data": {
      "text/html": [
       "<div>                            <div id=\"67250364-abe9-47e9-b7c9-afb66959c5f8\" class=\"plotly-graph-div\" style=\"height:525px; width:100%;\"></div>            <script type=\"text/javascript\">                require([\"plotly\"], function(Plotly) {                    window.PLOTLYENV=window.PLOTLYENV || {};                                    if (document.getElementById(\"67250364-abe9-47e9-b7c9-afb66959c5f8\")) {                    Plotly.newPlot(                        \"67250364-abe9-47e9-b7c9-afb66959c5f8\",                        [{\"alignmentgroup\":\"True\",\"hovertemplate\":\"player_name=%{x}<br>overall_rating=%{text}<extra></extra>\",\"legendgroup\":\"Carles Puyol\",\"marker\":{\"color\":\"#636efa\",\"pattern\":{\"shape\":\"\"}},\"name\":\"Carles Puyol\",\"offsetgroup\":\"Carles Puyol\",\"orientation\":\"v\",\"showlegend\":true,\"text\":[90.0],\"textposition\":\"auto\",\"x\":[\"Carles Puyol\"],\"xaxis\":\"x\",\"y\":[90.0],\"yaxis\":\"y\",\"type\":\"bar\"},{\"alignmentgroup\":\"True\",\"hovertemplate\":\"player_name=%{x}<br>overall_rating=%{text}<extra></extra>\",\"legendgroup\":\"John Terry\",\"marker\":{\"color\":\"#EF553B\",\"pattern\":{\"shape\":\"\"}},\"name\":\"John Terry\",\"offsetgroup\":\"John Terry\",\"orientation\":\"v\",\"showlegend\":true,\"text\":[90.0],\"textposition\":\"auto\",\"x\":[\"John Terry\"],\"xaxis\":\"x\",\"y\":[90.0],\"yaxis\":\"y\",\"type\":\"bar\"},{\"alignmentgroup\":\"True\",\"hovertemplate\":\"player_name=%{x}<br>overall_rating=%{text}<extra></extra>\",\"legendgroup\":\"Alessandro Nesta\",\"marker\":{\"color\":\"#00cc96\",\"pattern\":{\"shape\":\"\"}},\"name\":\"Alessandro Nesta\",\"offsetgroup\":\"Alessandro Nesta\",\"orientation\":\"v\",\"showlegend\":true,\"text\":[88.0],\"textposition\":\"auto\",\"x\":[\"Alessandro Nesta\"],\"xaxis\":\"x\",\"y\":[88.0],\"yaxis\":\"y\",\"type\":\"bar\"},{\"alignmentgroup\":\"True\",\"hovertemplate\":\"player_name=%{x}<br>overall_rating=%{text}<extra></extra>\",\"legendgroup\":\"Esteban Cambiasso\",\"marker\":{\"color\":\"#ab63fa\",\"pattern\":{\"shape\":\"\"}},\"name\":\"Esteban Cambiasso\",\"offsetgroup\":\"Esteban Cambiasso\",\"orientation\":\"v\",\"showlegend\":true,\"text\":[88.0],\"textposition\":\"auto\",\"x\":[\"Esteban Cambiasso\"],\"xaxis\":\"x\",\"y\":[88.0],\"yaxis\":\"y\",\"type\":\"bar\"},{\"alignmentgroup\":\"True\",\"hovertemplate\":\"player_name=%{x}<br>overall_rating=%{text}<extra></extra>\",\"legendgroup\":\"Jamie Carragher\",\"marker\":{\"color\":\"#FFA15A\",\"pattern\":{\"shape\":\"\"}},\"name\":\"Jamie Carragher\",\"offsetgroup\":\"Jamie Carragher\",\"orientation\":\"v\",\"showlegend\":true,\"text\":[88.0],\"textposition\":\"auto\",\"x\":[\"Jamie Carragher\"],\"xaxis\":\"x\",\"y\":[88.0],\"yaxis\":\"y\",\"type\":\"bar\"},{\"alignmentgroup\":\"True\",\"hovertemplate\":\"player_name=%{x}<br>overall_rating=%{text}<extra></extra>\",\"legendgroup\":\"Michael Essien\",\"marker\":{\"color\":\"#19d3f3\",\"pattern\":{\"shape\":\"\"}},\"name\":\"Michael Essien\",\"offsetgroup\":\"Michael Essien\",\"orientation\":\"v\",\"showlegend\":true,\"text\":[88.0],\"textposition\":\"auto\",\"x\":[\"Michael Essien\"],\"xaxis\":\"x\",\"y\":[88.0],\"yaxis\":\"y\",\"type\":\"bar\"},{\"alignmentgroup\":\"True\",\"hovertemplate\":\"player_name=%{x}<br>overall_rating=%{text}<extra></extra>\",\"legendgroup\":\"Nemanja Vidic\",\"marker\":{\"color\":\"#FF6692\",\"pattern\":{\"shape\":\"\"}},\"name\":\"Nemanja Vidic\",\"offsetgroup\":\"Nemanja Vidic\",\"orientation\":\"v\",\"showlegend\":true,\"text\":[88.0],\"textposition\":\"auto\",\"x\":[\"Nemanja Vidic\"],\"xaxis\":\"x\",\"y\":[88.0],\"yaxis\":\"y\",\"type\":\"bar\"},{\"alignmentgroup\":\"True\",\"hovertemplate\":\"player_name=%{x}<br>overall_rating=%{text}<extra></extra>\",\"legendgroup\":\"Patrick Vieira\",\"marker\":{\"color\":\"#B6E880\",\"pattern\":{\"shape\":\"\"}},\"name\":\"Patrick Vieira\",\"offsetgroup\":\"Patrick Vieira\",\"orientation\":\"v\",\"showlegend\":true,\"text\":[88.0],\"textposition\":\"auto\",\"x\":[\"Patrick Vieira\"],\"xaxis\":\"x\",\"y\":[88.0],\"yaxis\":\"y\",\"type\":\"bar\"},{\"alignmentgroup\":\"True\",\"hovertemplate\":\"player_name=%{x}<br>overall_rating=%{text}<extra></extra>\",\"legendgroup\":\"Giorgio Chiellini\",\"marker\":{\"color\":\"#FF97FF\",\"pattern\":{\"shape\":\"\"}},\"name\":\"Giorgio Chiellini\",\"offsetgroup\":\"Giorgio Chiellini\",\"orientation\":\"v\",\"showlegend\":true,\"text\":[87.0],\"textposition\":\"auto\",\"x\":[\"Giorgio Chiellini\"],\"xaxis\":\"x\",\"y\":[87.0],\"yaxis\":\"y\",\"type\":\"bar\"},{\"alignmentgroup\":\"True\",\"hovertemplate\":\"player_name=%{x}<br>overall_rating=%{text}<extra></extra>\",\"legendgroup\":\"Kolo Toure\",\"marker\":{\"color\":\"#FECB52\",\"pattern\":{\"shape\":\"\"}},\"name\":\"Kolo Toure\",\"offsetgroup\":\"Kolo Toure\",\"orientation\":\"v\",\"showlegend\":true,\"text\":[87.0],\"textposition\":\"auto\",\"x\":[\"Kolo Toure\"],\"xaxis\":\"x\",\"y\":[87.0],\"yaxis\":\"y\",\"type\":\"bar\"}],                        {\"template\":{\"data\":{\"histogram2dcontour\":[{\"type\":\"histogram2dcontour\",\"colorbar\":{\"outlinewidth\":0,\"ticks\":\"\"},\"colorscale\":[[0.0,\"#0d0887\"],[0.1111111111111111,\"#46039f\"],[0.2222222222222222,\"#7201a8\"],[0.3333333333333333,\"#9c179e\"],[0.4444444444444444,\"#bd3786\"],[0.5555555555555556,\"#d8576b\"],[0.6666666666666666,\"#ed7953\"],[0.7777777777777778,\"#fb9f3a\"],[0.8888888888888888,\"#fdca26\"],[1.0,\"#f0f921\"]]}],\"choropleth\":[{\"type\":\"choropleth\",\"colorbar\":{\"outlinewidth\":0,\"ticks\":\"\"}}],\"histogram2d\":[{\"type\":\"histogram2d\",\"colorbar\":{\"outlinewidth\":0,\"ticks\":\"\"},\"colorscale\":[[0.0,\"#0d0887\"],[0.1111111111111111,\"#46039f\"],[0.2222222222222222,\"#7201a8\"],[0.3333333333333333,\"#9c179e\"],[0.4444444444444444,\"#bd3786\"],[0.5555555555555556,\"#d8576b\"],[0.6666666666666666,\"#ed7953\"],[0.7777777777777778,\"#fb9f3a\"],[0.8888888888888888,\"#fdca26\"],[1.0,\"#f0f921\"]]}],\"heatmap\":[{\"type\":\"heatmap\",\"colorbar\":{\"outlinewidth\":0,\"ticks\":\"\"},\"colorscale\":[[0.0,\"#0d0887\"],[0.1111111111111111,\"#46039f\"],[0.2222222222222222,\"#7201a8\"],[0.3333333333333333,\"#9c179e\"],[0.4444444444444444,\"#bd3786\"],[0.5555555555555556,\"#d8576b\"],[0.6666666666666666,\"#ed7953\"],[0.7777777777777778,\"#fb9f3a\"],[0.8888888888888888,\"#fdca26\"],[1.0,\"#f0f921\"]]}],\"heatmapgl\":[{\"type\":\"heatmapgl\",\"colorbar\":{\"outlinewidth\":0,\"ticks\":\"\"},\"colorscale\":[[0.0,\"#0d0887\"],[0.1111111111111111,\"#46039f\"],[0.2222222222222222,\"#7201a8\"],[0.3333333333333333,\"#9c179e\"],[0.4444444444444444,\"#bd3786\"],[0.5555555555555556,\"#d8576b\"],[0.6666666666666666,\"#ed7953\"],[0.7777777777777778,\"#fb9f3a\"],[0.8888888888888888,\"#fdca26\"],[1.0,\"#f0f921\"]]}],\"contourcarpet\":[{\"type\":\"contourcarpet\",\"colorbar\":{\"outlinewidth\":0,\"ticks\":\"\"}}],\"contour\":[{\"type\":\"contour\",\"colorbar\":{\"outlinewidth\":0,\"ticks\":\"\"},\"colorscale\":[[0.0,\"#0d0887\"],[0.1111111111111111,\"#46039f\"],[0.2222222222222222,\"#7201a8\"],[0.3333333333333333,\"#9c179e\"],[0.4444444444444444,\"#bd3786\"],[0.5555555555555556,\"#d8576b\"],[0.6666666666666666,\"#ed7953\"],[0.7777777777777778,\"#fb9f3a\"],[0.8888888888888888,\"#fdca26\"],[1.0,\"#f0f921\"]]}],\"surface\":[{\"type\":\"surface\",\"colorbar\":{\"outlinewidth\":0,\"ticks\":\"\"},\"colorscale\":[[0.0,\"#0d0887\"],[0.1111111111111111,\"#46039f\"],[0.2222222222222222,\"#7201a8\"],[0.3333333333333333,\"#9c179e\"],[0.4444444444444444,\"#bd3786\"],[0.5555555555555556,\"#d8576b\"],[0.6666666666666666,\"#ed7953\"],[0.7777777777777778,\"#fb9f3a\"],[0.8888888888888888,\"#fdca26\"],[1.0,\"#f0f921\"]]}],\"mesh3d\":[{\"type\":\"mesh3d\",\"colorbar\":{\"outlinewidth\":0,\"ticks\":\"\"}}],\"scatter\":[{\"fillpattern\":{\"fillmode\":\"overlay\",\"size\":10,\"solidity\":0.2},\"type\":\"scatter\"}],\"parcoords\":[{\"type\":\"parcoords\",\"line\":{\"colorbar\":{\"outlinewidth\":0,\"ticks\":\"\"}}}],\"scatterpolargl\":[{\"type\":\"scatterpolargl\",\"marker\":{\"colorbar\":{\"outlinewidth\":0,\"ticks\":\"\"}}}],\"bar\":[{\"error_x\":{\"color\":\"#2a3f5f\"},\"error_y\":{\"color\":\"#2a3f5f\"},\"marker\":{\"line\":{\"color\":\"#E5ECF6\",\"width\":0.5},\"pattern\":{\"fillmode\":\"overlay\",\"size\":10,\"solidity\":0.2}},\"type\":\"bar\"}],\"scattergeo\":[{\"type\":\"scattergeo\",\"marker\":{\"colorbar\":{\"outlinewidth\":0,\"ticks\":\"\"}}}],\"scatterpolar\":[{\"type\":\"scatterpolar\",\"marker\":{\"colorbar\":{\"outlinewidth\":0,\"ticks\":\"\"}}}],\"histogram\":[{\"marker\":{\"pattern\":{\"fillmode\":\"overlay\",\"size\":10,\"solidity\":0.2}},\"type\":\"histogram\"}],\"scattergl\":[{\"type\":\"scattergl\",\"marker\":{\"colorbar\":{\"outlinewidth\":0,\"ticks\":\"\"}}}],\"scatter3d\":[{\"type\":\"scatter3d\",\"line\":{\"colorbar\":{\"outlinewidth\":0,\"ticks\":\"\"}},\"marker\":{\"colorbar\":{\"outlinewidth\":0,\"ticks\":\"\"}}}],\"scattermapbox\":[{\"type\":\"scattermapbox\",\"marker\":{\"colorbar\":{\"outlinewidth\":0,\"ticks\":\"\"}}}],\"scatterternary\":[{\"type\":\"scatterternary\",\"marker\":{\"colorbar\":{\"outlinewidth\":0,\"ticks\":\"\"}}}],\"scattercarpet\":[{\"type\":\"scattercarpet\",\"marker\":{\"colorbar\":{\"outlinewidth\":0,\"ticks\":\"\"}}}],\"carpet\":[{\"aaxis\":{\"endlinecolor\":\"#2a3f5f\",\"gridcolor\":\"white\",\"linecolor\":\"white\",\"minorgridcolor\":\"white\",\"startlinecolor\":\"#2a3f5f\"},\"baxis\":{\"endlinecolor\":\"#2a3f5f\",\"gridcolor\":\"white\",\"linecolor\":\"white\",\"minorgridcolor\":\"white\",\"startlinecolor\":\"#2a3f5f\"},\"type\":\"carpet\"}],\"table\":[{\"cells\":{\"fill\":{\"color\":\"#EBF0F8\"},\"line\":{\"color\":\"white\"}},\"header\":{\"fill\":{\"color\":\"#C8D4E3\"},\"line\":{\"color\":\"white\"}},\"type\":\"table\"}],\"barpolar\":[{\"marker\":{\"line\":{\"color\":\"#E5ECF6\",\"width\":0.5},\"pattern\":{\"fillmode\":\"overlay\",\"size\":10,\"solidity\":0.2}},\"type\":\"barpolar\"}],\"pie\":[{\"automargin\":true,\"type\":\"pie\"}]},\"layout\":{\"autotypenumbers\":\"strict\",\"colorway\":[\"#636efa\",\"#EF553B\",\"#00cc96\",\"#ab63fa\",\"#FFA15A\",\"#19d3f3\",\"#FF6692\",\"#B6E880\",\"#FF97FF\",\"#FECB52\"],\"font\":{\"color\":\"#2a3f5f\"},\"hovermode\":\"closest\",\"hoverlabel\":{\"align\":\"left\"},\"paper_bgcolor\":\"white\",\"plot_bgcolor\":\"#E5ECF6\",\"polar\":{\"bgcolor\":\"#E5ECF6\",\"angularaxis\":{\"gridcolor\":\"white\",\"linecolor\":\"white\",\"ticks\":\"\"},\"radialaxis\":{\"gridcolor\":\"white\",\"linecolor\":\"white\",\"ticks\":\"\"}},\"ternary\":{\"bgcolor\":\"#E5ECF6\",\"aaxis\":{\"gridcolor\":\"white\",\"linecolor\":\"white\",\"ticks\":\"\"},\"baxis\":{\"gridcolor\":\"white\",\"linecolor\":\"white\",\"ticks\":\"\"},\"caxis\":{\"gridcolor\":\"white\",\"linecolor\":\"white\",\"ticks\":\"\"}},\"coloraxis\":{\"colorbar\":{\"outlinewidth\":0,\"ticks\":\"\"}},\"colorscale\":{\"sequential\":[[0.0,\"#0d0887\"],[0.1111111111111111,\"#46039f\"],[0.2222222222222222,\"#7201a8\"],[0.3333333333333333,\"#9c179e\"],[0.4444444444444444,\"#bd3786\"],[0.5555555555555556,\"#d8576b\"],[0.6666666666666666,\"#ed7953\"],[0.7777777777777778,\"#fb9f3a\"],[0.8888888888888888,\"#fdca26\"],[1.0,\"#f0f921\"]],\"sequentialminus\":[[0.0,\"#0d0887\"],[0.1111111111111111,\"#46039f\"],[0.2222222222222222,\"#7201a8\"],[0.3333333333333333,\"#9c179e\"],[0.4444444444444444,\"#bd3786\"],[0.5555555555555556,\"#d8576b\"],[0.6666666666666666,\"#ed7953\"],[0.7777777777777778,\"#fb9f3a\"],[0.8888888888888888,\"#fdca26\"],[1.0,\"#f0f921\"]],\"diverging\":[[0,\"#8e0152\"],[0.1,\"#c51b7d\"],[0.2,\"#de77ae\"],[0.3,\"#f1b6da\"],[0.4,\"#fde0ef\"],[0.5,\"#f7f7f7\"],[0.6,\"#e6f5d0\"],[0.7,\"#b8e186\"],[0.8,\"#7fbc41\"],[0.9,\"#4d9221\"],[1,\"#276419\"]]},\"xaxis\":{\"gridcolor\":\"white\",\"linecolor\":\"white\",\"ticks\":\"\",\"title\":{\"standoff\":15},\"zerolinecolor\":\"white\",\"automargin\":true,\"zerolinewidth\":2},\"yaxis\":{\"gridcolor\":\"white\",\"linecolor\":\"white\",\"ticks\":\"\",\"title\":{\"standoff\":15},\"zerolinecolor\":\"white\",\"automargin\":true,\"zerolinewidth\":2},\"scene\":{\"xaxis\":{\"backgroundcolor\":\"#E5ECF6\",\"gridcolor\":\"white\",\"linecolor\":\"white\",\"showbackground\":true,\"ticks\":\"\",\"zerolinecolor\":\"white\",\"gridwidth\":2},\"yaxis\":{\"backgroundcolor\":\"#E5ECF6\",\"gridcolor\":\"white\",\"linecolor\":\"white\",\"showbackground\":true,\"ticks\":\"\",\"zerolinecolor\":\"white\",\"gridwidth\":2},\"zaxis\":{\"backgroundcolor\":\"#E5ECF6\",\"gridcolor\":\"white\",\"linecolor\":\"white\",\"showbackground\":true,\"ticks\":\"\",\"zerolinecolor\":\"white\",\"gridwidth\":2}},\"shapedefaults\":{\"line\":{\"color\":\"#2a3f5f\"}},\"annotationdefaults\":{\"arrowcolor\":\"#2a3f5f\",\"arrowhead\":0,\"arrowwidth\":1},\"geo\":{\"bgcolor\":\"white\",\"landcolor\":\"#E5ECF6\",\"subunitcolor\":\"white\",\"showland\":true,\"showlakes\":true,\"lakecolor\":\"white\"},\"title\":{\"x\":0.05},\"mapbox\":{\"style\":\"light\"}}},\"xaxis\":{\"anchor\":\"y\",\"domain\":[0.0,1.0],\"title\":{\"text\":\"Player Name\"},\"categoryorder\":\"array\",\"categoryarray\":[\"Carles Puyol\",\"John Terry\",\"Alessandro Nesta\",\"Esteban Cambiasso\",\"Jamie Carragher\",\"Michael Essien\",\"Nemanja Vidic\",\"Patrick Vieira\",\"Giorgio Chiellini\",\"Kolo Toure\"]},\"yaxis\":{\"anchor\":\"x\",\"domain\":[0.0,1.0],\"title\":{\"text\":\"Overall Rating\"}},\"legend\":{\"title\":{\"text\":\"player_name\"},\"tracegroupgap\":0},\"title\":{\"text\":\"Top 10 Defenders\"},\"barmode\":\"relative\"},                        {\"responsive\": true}                    ).then(function(){\n",
       "                            \n",
       "var gd = document.getElementById('67250364-abe9-47e9-b7c9-afb66959c5f8');\n",
       "var x = new MutationObserver(function (mutations, observer) {{\n",
       "        var display = window.getComputedStyle(gd).display;\n",
       "        if (!display || display === 'none') {{\n",
       "            console.log([gd, 'removed!']);\n",
       "            Plotly.purge(gd);\n",
       "            observer.disconnect();\n",
       "        }}\n",
       "}});\n",
       "\n",
       "// Listen for the removal of the full notebook cells\n",
       "var notebookContainer = gd.closest('#notebook-container');\n",
       "if (notebookContainer) {{\n",
       "    x.observe(notebookContainer, {childList: true});\n",
       "}}\n",
       "\n",
       "// Listen for the clearing of the current output cell\n",
       "var outputEl = gd.closest('.output');\n",
       "if (outputEl) {{\n",
       "    x.observe(outputEl, {childList: true});\n",
       "}}\n",
       "\n",
       "                        })                };                });            </script>        </div>"
      ]
     },
     "metadata": {},
     "output_type": "display_data"
    },
    {
     "data": {
      "text/html": [
       "<div>\n",
       "<style scoped>\n",
       "    .dataframe tbody tr th:only-of-type {\n",
       "        vertical-align: middle;\n",
       "    }\n",
       "\n",
       "    .dataframe tbody tr th {\n",
       "        vertical-align: top;\n",
       "    }\n",
       "\n",
       "    .dataframe thead th {\n",
       "        text-align: right;\n",
       "    }\n",
       "</style>\n",
       "<table border=\"1\" class=\"dataframe\">\n",
       "  <thead>\n",
       "    <tr style=\"text-align: right;\">\n",
       "      <th></th>\n",
       "      <th>player_name</th>\n",
       "      <th>overall_rating</th>\n",
       "    </tr>\n",
       "  </thead>\n",
       "  <tbody>\n",
       "    <tr>\n",
       "      <th>0</th>\n",
       "      <td>Carles Puyol</td>\n",
       "      <td>90.0</td>\n",
       "    </tr>\n",
       "    <tr>\n",
       "      <th>1</th>\n",
       "      <td>John Terry</td>\n",
       "      <td>90.0</td>\n",
       "    </tr>\n",
       "    <tr>\n",
       "      <th>2</th>\n",
       "      <td>Alessandro Nesta</td>\n",
       "      <td>88.0</td>\n",
       "    </tr>\n",
       "    <tr>\n",
       "      <th>3</th>\n",
       "      <td>Esteban Cambiasso</td>\n",
       "      <td>88.0</td>\n",
       "    </tr>\n",
       "    <tr>\n",
       "      <th>4</th>\n",
       "      <td>Jamie Carragher</td>\n",
       "      <td>88.0</td>\n",
       "    </tr>\n",
       "    <tr>\n",
       "      <th>5</th>\n",
       "      <td>Michael Essien</td>\n",
       "      <td>88.0</td>\n",
       "    </tr>\n",
       "    <tr>\n",
       "      <th>6</th>\n",
       "      <td>Nemanja Vidic</td>\n",
       "      <td>88.0</td>\n",
       "    </tr>\n",
       "    <tr>\n",
       "      <th>7</th>\n",
       "      <td>Patrick Vieira</td>\n",
       "      <td>88.0</td>\n",
       "    </tr>\n",
       "    <tr>\n",
       "      <th>8</th>\n",
       "      <td>Giorgio Chiellini</td>\n",
       "      <td>87.0</td>\n",
       "    </tr>\n",
       "    <tr>\n",
       "      <th>9</th>\n",
       "      <td>Kolo Toure</td>\n",
       "      <td>87.0</td>\n",
       "    </tr>\n",
       "  </tbody>\n",
       "</table>\n",
       "</div>"
      ],
      "text/plain": [
       "         player_name  overall_rating\n",
       "0       Carles Puyol            90.0\n",
       "1         John Terry            90.0\n",
       "2   Alessandro Nesta            88.0\n",
       "3  Esteban Cambiasso            88.0\n",
       "4    Jamie Carragher            88.0\n",
       "5     Michael Essien            88.0\n",
       "6      Nemanja Vidic            88.0\n",
       "7     Patrick Vieira            88.0\n",
       "8  Giorgio Chiellini            87.0\n",
       "9         Kolo Toure            87.0"
      ]
     },
     "execution_count": 25,
     "metadata": {},
     "output_type": "execute_result"
    }
   ],
   "source": [
    "myTopPlot(df, 'player_name', 'overall_rating', cols = Df_attributes, position='Defenders')"
   ]
  },
  {
   "cell_type": "markdown",
   "id": "49d6139f",
   "metadata": {
    "papermill": {
     "duration": 0.023288,
     "end_time": "2022-09-10T06:23:08.180816",
     "exception": false,
     "start_time": "2022-09-10T06:23:08.157528",
     "status": "completed"
    },
    "tags": []
   },
   "source": [
    "---> here, we notice that the English defender \"John Terry\" and the Spanish defender \"\"Carles Puyol\" reached to the highest defending rating during the ten years from 2007 to 2016."
   ]
  },
  {
   "cell_type": "markdown",
   "id": "199b6c2f",
   "metadata": {
    "papermill": {
     "duration": 0.023345,
     "end_time": "2022-09-10T06:23:08.227696",
     "exception": false,
     "start_time": "2022-09-10T06:23:08.204351",
     "status": "completed"
    },
    "tags": []
   },
   "source": [
    "                        **************************************************"
   ]
  },
  {
   "cell_type": "markdown",
   "id": "61001969",
   "metadata": {
    "papermill": {
     "duration": 0.02321,
     "end_time": "2022-09-10T06:23:08.274924",
     "exception": false,
     "start_time": "2022-09-10T06:23:08.251714",
     "status": "completed"
    },
    "tags": []
   },
   "source": [
    "### Research Question 4 : Who were the \"Midfielders\" with the highest rating?\n",
    "\n",
    "To answer this question, we should collect the \"Midfielders\" attributes from the dataset and then put them into another dataset, then analysis this new dataset to get the top 10 \"Midfielders\"."
   ]
  },
  {
   "cell_type": "code",
   "execution_count": 26,
   "id": "d8493538",
   "metadata": {
    "execution": {
     "iopub.execute_input": "2022-09-10T06:23:08.323930Z",
     "iopub.status.busy": "2022-09-10T06:23:08.323219Z",
     "iopub.status.idle": "2022-09-10T06:23:08.328672Z",
     "shell.execute_reply": "2022-09-10T06:23:08.327582Z"
    },
    "papermill": {
     "duration": 0.032446,
     "end_time": "2022-09-10T06:23:08.330829",
     "exception": false,
     "start_time": "2022-09-10T06:23:08.298383",
     "status": "completed"
    },
    "tags": []
   },
   "outputs": [],
   "source": [
    "# Let's save the most important features of the midfielder in a list\n",
    "Mid_attributes = ['player_name','short_passing', 'long_passing', 'ball_control', \n",
    "                    'agility', 'balance', 'stamina','crossing', 'vision','interceptions']"
   ]
  },
  {
   "cell_type": "code",
   "execution_count": 27,
   "id": "f762df67",
   "metadata": {
    "execution": {
     "iopub.execute_input": "2022-09-10T06:23:08.380352Z",
     "iopub.status.busy": "2022-09-10T06:23:08.379929Z",
     "iopub.status.idle": "2022-09-10T06:23:08.537868Z",
     "shell.execute_reply": "2022-09-10T06:23:08.536421Z"
    },
    "papermill": {
     "duration": 0.18557,
     "end_time": "2022-09-10T06:23:08.540314",
     "exception": false,
     "start_time": "2022-09-10T06:23:08.354744",
     "status": "completed"
    },
    "tags": []
   },
   "outputs": [
    {
     "data": {
      "text/html": [
       "<div>                            <div id=\"0e3c88bf-e737-4752-a2c0-302bd358dc8a\" class=\"plotly-graph-div\" style=\"height:525px; width:100%;\"></div>            <script type=\"text/javascript\">                require([\"plotly\"], function(Plotly) {                    window.PLOTLYENV=window.PLOTLYENV || {};                                    if (document.getElementById(\"0e3c88bf-e737-4752-a2c0-302bd358dc8a\")) {                    Plotly.newPlot(                        \"0e3c88bf-e737-4752-a2c0-302bd358dc8a\",                        [{\"alignmentgroup\":\"True\",\"hovertemplate\":\"player_name=%{x}<br>overall_rating=%{text}<extra></extra>\",\"legendgroup\":\"Xavi Hernandez\",\"marker\":{\"color\":\"#636efa\",\"pattern\":{\"shape\":\"\"}},\"name\":\"Xavi Hernandez\",\"offsetgroup\":\"Xavi Hernandez\",\"orientation\":\"v\",\"showlegend\":true,\"text\":[91.0],\"textposition\":\"auto\",\"x\":[\"Xavi Hernandez\"],\"xaxis\":\"x\",\"y\":[91.0],\"yaxis\":\"y\",\"type\":\"bar\"},{\"alignmentgroup\":\"True\",\"hovertemplate\":\"player_name=%{x}<br>overall_rating=%{text}<extra></extra>\",\"legendgroup\":\"Andres Iniesta\",\"marker\":{\"color\":\"#EF553B\",\"pattern\":{\"shape\":\"\"}},\"name\":\"Andres Iniesta\",\"offsetgroup\":\"Andres Iniesta\",\"orientation\":\"v\",\"showlegend\":true,\"text\":[90.0],\"textposition\":\"auto\",\"x\":[\"Andres Iniesta\"],\"xaxis\":\"x\",\"y\":[90.0],\"yaxis\":\"y\",\"type\":\"bar\"},{\"alignmentgroup\":\"True\",\"hovertemplate\":\"player_name=%{x}<br>overall_rating=%{text}<extra></extra>\",\"legendgroup\":\"Cesc Fabregas\",\"marker\":{\"color\":\"#00cc96\",\"pattern\":{\"shape\":\"\"}},\"name\":\"Cesc Fabregas\",\"offsetgroup\":\"Cesc Fabregas\",\"orientation\":\"v\",\"showlegend\":true,\"text\":[89.0],\"textposition\":\"auto\",\"x\":[\"Cesc Fabregas\"],\"xaxis\":\"x\",\"y\":[89.0],\"yaxis\":\"y\",\"type\":\"bar\"},{\"alignmentgroup\":\"True\",\"hovertemplate\":\"player_name=%{x}<br>overall_rating=%{text}<extra></extra>\",\"legendgroup\":\"Andrea Pirlo\",\"marker\":{\"color\":\"#ab63fa\",\"pattern\":{\"shape\":\"\"}},\"name\":\"Andrea Pirlo\",\"offsetgroup\":\"Andrea Pirlo\",\"orientation\":\"v\",\"showlegend\":true,\"text\":[88.0],\"textposition\":\"auto\",\"x\":[\"Andrea Pirlo\"],\"xaxis\":\"x\",\"y\":[88.0],\"yaxis\":\"y\",\"type\":\"bar\"},{\"alignmentgroup\":\"True\",\"hovertemplate\":\"player_name=%{x}<br>overall_rating=%{text}<extra></extra>\",\"legendgroup\":\"Luka Modric\",\"marker\":{\"color\":\"#FFA15A\",\"pattern\":{\"shape\":\"\"}},\"name\":\"Luka Modric\",\"offsetgroup\":\"Luka Modric\",\"orientation\":\"v\",\"showlegend\":true,\"text\":[87.0],\"textposition\":\"auto\",\"x\":[\"Luka Modric\"],\"xaxis\":\"x\",\"y\":[87.0],\"yaxis\":\"y\",\"type\":\"bar\"},{\"alignmentgroup\":\"True\",\"hovertemplate\":\"player_name=%{x}<br>overall_rating=%{text}<extra></extra>\",\"legendgroup\":\"Philipp Lahm\",\"marker\":{\"color\":\"#19d3f3\",\"pattern\":{\"shape\":\"\"}},\"name\":\"Philipp Lahm\",\"offsetgroup\":\"Philipp Lahm\",\"orientation\":\"v\",\"showlegend\":true,\"text\":[87.0],\"textposition\":\"auto\",\"x\":[\"Philipp Lahm\"],\"xaxis\":\"x\",\"y\":[87.0],\"yaxis\":\"y\",\"type\":\"bar\"},{\"alignmentgroup\":\"True\",\"hovertemplate\":\"player_name=%{x}<br>overall_rating=%{text}<extra></extra>\",\"legendgroup\":\"Deco\",\"marker\":{\"color\":\"#FF6692\",\"pattern\":{\"shape\":\"\"}},\"name\":\"Deco\",\"offsetgroup\":\"Deco\",\"orientation\":\"v\",\"showlegend\":true,\"text\":[86.0],\"textposition\":\"auto\",\"x\":[\"Deco\"],\"xaxis\":\"x\",\"y\":[86.0],\"yaxis\":\"y\",\"type\":\"bar\"},{\"alignmentgroup\":\"True\",\"hovertemplate\":\"player_name=%{x}<br>overall_rating=%{text}<extra></extra>\",\"legendgroup\":\"Francesco Totti\",\"marker\":{\"color\":\"#B6E880\",\"pattern\":{\"shape\":\"\"}},\"name\":\"Francesco Totti\",\"offsetgroup\":\"Francesco Totti\",\"orientation\":\"v\",\"showlegend\":true,\"text\":[86.0],\"textposition\":\"auto\",\"x\":[\"Francesco Totti\"],\"xaxis\":\"x\",\"y\":[86.0],\"yaxis\":\"y\",\"type\":\"bar\"},{\"alignmentgroup\":\"True\",\"hovertemplate\":\"player_name=%{x}<br>overall_rating=%{text}<extra></extra>\",\"legendgroup\":\"Franck Ribery\",\"marker\":{\"color\":\"#FF97FF\",\"pattern\":{\"shape\":\"\"}},\"name\":\"Franck Ribery\",\"offsetgroup\":\"Franck Ribery\",\"orientation\":\"v\",\"showlegend\":true,\"text\":[86.0],\"textposition\":\"auto\",\"x\":[\"Franck Ribery\"],\"xaxis\":\"x\",\"y\":[86.0],\"yaxis\":\"y\",\"type\":\"bar\"},{\"alignmentgroup\":\"True\",\"hovertemplate\":\"player_name=%{x}<br>overall_rating=%{text}<extra></extra>\",\"legendgroup\":\"Frank Lampard\",\"marker\":{\"color\":\"#FECB52\",\"pattern\":{\"shape\":\"\"}},\"name\":\"Frank Lampard\",\"offsetgroup\":\"Frank Lampard\",\"orientation\":\"v\",\"showlegend\":true,\"text\":[86.0],\"textposition\":\"auto\",\"x\":[\"Frank Lampard\"],\"xaxis\":\"x\",\"y\":[86.0],\"yaxis\":\"y\",\"type\":\"bar\"}],                        {\"template\":{\"data\":{\"histogram2dcontour\":[{\"type\":\"histogram2dcontour\",\"colorbar\":{\"outlinewidth\":0,\"ticks\":\"\"},\"colorscale\":[[0.0,\"#0d0887\"],[0.1111111111111111,\"#46039f\"],[0.2222222222222222,\"#7201a8\"],[0.3333333333333333,\"#9c179e\"],[0.4444444444444444,\"#bd3786\"],[0.5555555555555556,\"#d8576b\"],[0.6666666666666666,\"#ed7953\"],[0.7777777777777778,\"#fb9f3a\"],[0.8888888888888888,\"#fdca26\"],[1.0,\"#f0f921\"]]}],\"choropleth\":[{\"type\":\"choropleth\",\"colorbar\":{\"outlinewidth\":0,\"ticks\":\"\"}}],\"histogram2d\":[{\"type\":\"histogram2d\",\"colorbar\":{\"outlinewidth\":0,\"ticks\":\"\"},\"colorscale\":[[0.0,\"#0d0887\"],[0.1111111111111111,\"#46039f\"],[0.2222222222222222,\"#7201a8\"],[0.3333333333333333,\"#9c179e\"],[0.4444444444444444,\"#bd3786\"],[0.5555555555555556,\"#d8576b\"],[0.6666666666666666,\"#ed7953\"],[0.7777777777777778,\"#fb9f3a\"],[0.8888888888888888,\"#fdca26\"],[1.0,\"#f0f921\"]]}],\"heatmap\":[{\"type\":\"heatmap\",\"colorbar\":{\"outlinewidth\":0,\"ticks\":\"\"},\"colorscale\":[[0.0,\"#0d0887\"],[0.1111111111111111,\"#46039f\"],[0.2222222222222222,\"#7201a8\"],[0.3333333333333333,\"#9c179e\"],[0.4444444444444444,\"#bd3786\"],[0.5555555555555556,\"#d8576b\"],[0.6666666666666666,\"#ed7953\"],[0.7777777777777778,\"#fb9f3a\"],[0.8888888888888888,\"#fdca26\"],[1.0,\"#f0f921\"]]}],\"heatmapgl\":[{\"type\":\"heatmapgl\",\"colorbar\":{\"outlinewidth\":0,\"ticks\":\"\"},\"colorscale\":[[0.0,\"#0d0887\"],[0.1111111111111111,\"#46039f\"],[0.2222222222222222,\"#7201a8\"],[0.3333333333333333,\"#9c179e\"],[0.4444444444444444,\"#bd3786\"],[0.5555555555555556,\"#d8576b\"],[0.6666666666666666,\"#ed7953\"],[0.7777777777777778,\"#fb9f3a\"],[0.8888888888888888,\"#fdca26\"],[1.0,\"#f0f921\"]]}],\"contourcarpet\":[{\"type\":\"contourcarpet\",\"colorbar\":{\"outlinewidth\":0,\"ticks\":\"\"}}],\"contour\":[{\"type\":\"contour\",\"colorbar\":{\"outlinewidth\":0,\"ticks\":\"\"},\"colorscale\":[[0.0,\"#0d0887\"],[0.1111111111111111,\"#46039f\"],[0.2222222222222222,\"#7201a8\"],[0.3333333333333333,\"#9c179e\"],[0.4444444444444444,\"#bd3786\"],[0.5555555555555556,\"#d8576b\"],[0.6666666666666666,\"#ed7953\"],[0.7777777777777778,\"#fb9f3a\"],[0.8888888888888888,\"#fdca26\"],[1.0,\"#f0f921\"]]}],\"surface\":[{\"type\":\"surface\",\"colorbar\":{\"outlinewidth\":0,\"ticks\":\"\"},\"colorscale\":[[0.0,\"#0d0887\"],[0.1111111111111111,\"#46039f\"],[0.2222222222222222,\"#7201a8\"],[0.3333333333333333,\"#9c179e\"],[0.4444444444444444,\"#bd3786\"],[0.5555555555555556,\"#d8576b\"],[0.6666666666666666,\"#ed7953\"],[0.7777777777777778,\"#fb9f3a\"],[0.8888888888888888,\"#fdca26\"],[1.0,\"#f0f921\"]]}],\"mesh3d\":[{\"type\":\"mesh3d\",\"colorbar\":{\"outlinewidth\":0,\"ticks\":\"\"}}],\"scatter\":[{\"fillpattern\":{\"fillmode\":\"overlay\",\"size\":10,\"solidity\":0.2},\"type\":\"scatter\"}],\"parcoords\":[{\"type\":\"parcoords\",\"line\":{\"colorbar\":{\"outlinewidth\":0,\"ticks\":\"\"}}}],\"scatterpolargl\":[{\"type\":\"scatterpolargl\",\"marker\":{\"colorbar\":{\"outlinewidth\":0,\"ticks\":\"\"}}}],\"bar\":[{\"error_x\":{\"color\":\"#2a3f5f\"},\"error_y\":{\"color\":\"#2a3f5f\"},\"marker\":{\"line\":{\"color\":\"#E5ECF6\",\"width\":0.5},\"pattern\":{\"fillmode\":\"overlay\",\"size\":10,\"solidity\":0.2}},\"type\":\"bar\"}],\"scattergeo\":[{\"type\":\"scattergeo\",\"marker\":{\"colorbar\":{\"outlinewidth\":0,\"ticks\":\"\"}}}],\"scatterpolar\":[{\"type\":\"scatterpolar\",\"marker\":{\"colorbar\":{\"outlinewidth\":0,\"ticks\":\"\"}}}],\"histogram\":[{\"marker\":{\"pattern\":{\"fillmode\":\"overlay\",\"size\":10,\"solidity\":0.2}},\"type\":\"histogram\"}],\"scattergl\":[{\"type\":\"scattergl\",\"marker\":{\"colorbar\":{\"outlinewidth\":0,\"ticks\":\"\"}}}],\"scatter3d\":[{\"type\":\"scatter3d\",\"line\":{\"colorbar\":{\"outlinewidth\":0,\"ticks\":\"\"}},\"marker\":{\"colorbar\":{\"outlinewidth\":0,\"ticks\":\"\"}}}],\"scattermapbox\":[{\"type\":\"scattermapbox\",\"marker\":{\"colorbar\":{\"outlinewidth\":0,\"ticks\":\"\"}}}],\"scatterternary\":[{\"type\":\"scatterternary\",\"marker\":{\"colorbar\":{\"outlinewidth\":0,\"ticks\":\"\"}}}],\"scattercarpet\":[{\"type\":\"scattercarpet\",\"marker\":{\"colorbar\":{\"outlinewidth\":0,\"ticks\":\"\"}}}],\"carpet\":[{\"aaxis\":{\"endlinecolor\":\"#2a3f5f\",\"gridcolor\":\"white\",\"linecolor\":\"white\",\"minorgridcolor\":\"white\",\"startlinecolor\":\"#2a3f5f\"},\"baxis\":{\"endlinecolor\":\"#2a3f5f\",\"gridcolor\":\"white\",\"linecolor\":\"white\",\"minorgridcolor\":\"white\",\"startlinecolor\":\"#2a3f5f\"},\"type\":\"carpet\"}],\"table\":[{\"cells\":{\"fill\":{\"color\":\"#EBF0F8\"},\"line\":{\"color\":\"white\"}},\"header\":{\"fill\":{\"color\":\"#C8D4E3\"},\"line\":{\"color\":\"white\"}},\"type\":\"table\"}],\"barpolar\":[{\"marker\":{\"line\":{\"color\":\"#E5ECF6\",\"width\":0.5},\"pattern\":{\"fillmode\":\"overlay\",\"size\":10,\"solidity\":0.2}},\"type\":\"barpolar\"}],\"pie\":[{\"automargin\":true,\"type\":\"pie\"}]},\"layout\":{\"autotypenumbers\":\"strict\",\"colorway\":[\"#636efa\",\"#EF553B\",\"#00cc96\",\"#ab63fa\",\"#FFA15A\",\"#19d3f3\",\"#FF6692\",\"#B6E880\",\"#FF97FF\",\"#FECB52\"],\"font\":{\"color\":\"#2a3f5f\"},\"hovermode\":\"closest\",\"hoverlabel\":{\"align\":\"left\"},\"paper_bgcolor\":\"white\",\"plot_bgcolor\":\"#E5ECF6\",\"polar\":{\"bgcolor\":\"#E5ECF6\",\"angularaxis\":{\"gridcolor\":\"white\",\"linecolor\":\"white\",\"ticks\":\"\"},\"radialaxis\":{\"gridcolor\":\"white\",\"linecolor\":\"white\",\"ticks\":\"\"}},\"ternary\":{\"bgcolor\":\"#E5ECF6\",\"aaxis\":{\"gridcolor\":\"white\",\"linecolor\":\"white\",\"ticks\":\"\"},\"baxis\":{\"gridcolor\":\"white\",\"linecolor\":\"white\",\"ticks\":\"\"},\"caxis\":{\"gridcolor\":\"white\",\"linecolor\":\"white\",\"ticks\":\"\"}},\"coloraxis\":{\"colorbar\":{\"outlinewidth\":0,\"ticks\":\"\"}},\"colorscale\":{\"sequential\":[[0.0,\"#0d0887\"],[0.1111111111111111,\"#46039f\"],[0.2222222222222222,\"#7201a8\"],[0.3333333333333333,\"#9c179e\"],[0.4444444444444444,\"#bd3786\"],[0.5555555555555556,\"#d8576b\"],[0.6666666666666666,\"#ed7953\"],[0.7777777777777778,\"#fb9f3a\"],[0.8888888888888888,\"#fdca26\"],[1.0,\"#f0f921\"]],\"sequentialminus\":[[0.0,\"#0d0887\"],[0.1111111111111111,\"#46039f\"],[0.2222222222222222,\"#7201a8\"],[0.3333333333333333,\"#9c179e\"],[0.4444444444444444,\"#bd3786\"],[0.5555555555555556,\"#d8576b\"],[0.6666666666666666,\"#ed7953\"],[0.7777777777777778,\"#fb9f3a\"],[0.8888888888888888,\"#fdca26\"],[1.0,\"#f0f921\"]],\"diverging\":[[0,\"#8e0152\"],[0.1,\"#c51b7d\"],[0.2,\"#de77ae\"],[0.3,\"#f1b6da\"],[0.4,\"#fde0ef\"],[0.5,\"#f7f7f7\"],[0.6,\"#e6f5d0\"],[0.7,\"#b8e186\"],[0.8,\"#7fbc41\"],[0.9,\"#4d9221\"],[1,\"#276419\"]]},\"xaxis\":{\"gridcolor\":\"white\",\"linecolor\":\"white\",\"ticks\":\"\",\"title\":{\"standoff\":15},\"zerolinecolor\":\"white\",\"automargin\":true,\"zerolinewidth\":2},\"yaxis\":{\"gridcolor\":\"white\",\"linecolor\":\"white\",\"ticks\":\"\",\"title\":{\"standoff\":15},\"zerolinecolor\":\"white\",\"automargin\":true,\"zerolinewidth\":2},\"scene\":{\"xaxis\":{\"backgroundcolor\":\"#E5ECF6\",\"gridcolor\":\"white\",\"linecolor\":\"white\",\"showbackground\":true,\"ticks\":\"\",\"zerolinecolor\":\"white\",\"gridwidth\":2},\"yaxis\":{\"backgroundcolor\":\"#E5ECF6\",\"gridcolor\":\"white\",\"linecolor\":\"white\",\"showbackground\":true,\"ticks\":\"\",\"zerolinecolor\":\"white\",\"gridwidth\":2},\"zaxis\":{\"backgroundcolor\":\"#E5ECF6\",\"gridcolor\":\"white\",\"linecolor\":\"white\",\"showbackground\":true,\"ticks\":\"\",\"zerolinecolor\":\"white\",\"gridwidth\":2}},\"shapedefaults\":{\"line\":{\"color\":\"#2a3f5f\"}},\"annotationdefaults\":{\"arrowcolor\":\"#2a3f5f\",\"arrowhead\":0,\"arrowwidth\":1},\"geo\":{\"bgcolor\":\"white\",\"landcolor\":\"#E5ECF6\",\"subunitcolor\":\"white\",\"showland\":true,\"showlakes\":true,\"lakecolor\":\"white\"},\"title\":{\"x\":0.05},\"mapbox\":{\"style\":\"light\"}}},\"xaxis\":{\"anchor\":\"y\",\"domain\":[0.0,1.0],\"title\":{\"text\":\"Player Name\"},\"categoryorder\":\"array\",\"categoryarray\":[\"Xavi Hernandez\",\"Andres Iniesta\",\"Cesc Fabregas\",\"Andrea Pirlo\",\"Luka Modric\",\"Philipp Lahm\",\"Deco\",\"Francesco Totti\",\"Franck Ribery\",\"Frank Lampard\"]},\"yaxis\":{\"anchor\":\"x\",\"domain\":[0.0,1.0],\"title\":{\"text\":\"Overall Rating\"}},\"legend\":{\"title\":{\"text\":\"player_name\"},\"tracegroupgap\":0},\"title\":{\"text\":\"Top 10 Midfielders\"},\"barmode\":\"relative\"},                        {\"responsive\": true}                    ).then(function(){\n",
       "                            \n",
       "var gd = document.getElementById('0e3c88bf-e737-4752-a2c0-302bd358dc8a');\n",
       "var x = new MutationObserver(function (mutations, observer) {{\n",
       "        var display = window.getComputedStyle(gd).display;\n",
       "        if (!display || display === 'none') {{\n",
       "            console.log([gd, 'removed!']);\n",
       "            Plotly.purge(gd);\n",
       "            observer.disconnect();\n",
       "        }}\n",
       "}});\n",
       "\n",
       "// Listen for the removal of the full notebook cells\n",
       "var notebookContainer = gd.closest('#notebook-container');\n",
       "if (notebookContainer) {{\n",
       "    x.observe(notebookContainer, {childList: true});\n",
       "}}\n",
       "\n",
       "// Listen for the clearing of the current output cell\n",
       "var outputEl = gd.closest('.output');\n",
       "if (outputEl) {{\n",
       "    x.observe(outputEl, {childList: true});\n",
       "}}\n",
       "\n",
       "                        })                };                });            </script>        </div>"
      ]
     },
     "metadata": {},
     "output_type": "display_data"
    },
    {
     "data": {
      "text/html": [
       "<div>\n",
       "<style scoped>\n",
       "    .dataframe tbody tr th:only-of-type {\n",
       "        vertical-align: middle;\n",
       "    }\n",
       "\n",
       "    .dataframe tbody tr th {\n",
       "        vertical-align: top;\n",
       "    }\n",
       "\n",
       "    .dataframe thead th {\n",
       "        text-align: right;\n",
       "    }\n",
       "</style>\n",
       "<table border=\"1\" class=\"dataframe\">\n",
       "  <thead>\n",
       "    <tr style=\"text-align: right;\">\n",
       "      <th></th>\n",
       "      <th>player_name</th>\n",
       "      <th>overall_rating</th>\n",
       "    </tr>\n",
       "  </thead>\n",
       "  <tbody>\n",
       "    <tr>\n",
       "      <th>0</th>\n",
       "      <td>Xavi Hernandez</td>\n",
       "      <td>91.0</td>\n",
       "    </tr>\n",
       "    <tr>\n",
       "      <th>1</th>\n",
       "      <td>Andres Iniesta</td>\n",
       "      <td>90.0</td>\n",
       "    </tr>\n",
       "    <tr>\n",
       "      <th>2</th>\n",
       "      <td>Cesc Fabregas</td>\n",
       "      <td>89.0</td>\n",
       "    </tr>\n",
       "    <tr>\n",
       "      <th>3</th>\n",
       "      <td>Andrea Pirlo</td>\n",
       "      <td>88.0</td>\n",
       "    </tr>\n",
       "    <tr>\n",
       "      <th>4</th>\n",
       "      <td>Luka Modric</td>\n",
       "      <td>87.0</td>\n",
       "    </tr>\n",
       "    <tr>\n",
       "      <th>5</th>\n",
       "      <td>Philipp Lahm</td>\n",
       "      <td>87.0</td>\n",
       "    </tr>\n",
       "    <tr>\n",
       "      <th>6</th>\n",
       "      <td>Deco</td>\n",
       "      <td>86.0</td>\n",
       "    </tr>\n",
       "    <tr>\n",
       "      <th>7</th>\n",
       "      <td>Francesco Totti</td>\n",
       "      <td>86.0</td>\n",
       "    </tr>\n",
       "    <tr>\n",
       "      <th>8</th>\n",
       "      <td>Franck Ribery</td>\n",
       "      <td>86.0</td>\n",
       "    </tr>\n",
       "    <tr>\n",
       "      <th>9</th>\n",
       "      <td>Frank Lampard</td>\n",
       "      <td>86.0</td>\n",
       "    </tr>\n",
       "  </tbody>\n",
       "</table>\n",
       "</div>"
      ],
      "text/plain": [
       "       player_name  overall_rating\n",
       "0   Xavi Hernandez            91.0\n",
       "1   Andres Iniesta            90.0\n",
       "2    Cesc Fabregas            89.0\n",
       "3     Andrea Pirlo            88.0\n",
       "4      Luka Modric            87.0\n",
       "5     Philipp Lahm            87.0\n",
       "6             Deco            86.0\n",
       "7  Francesco Totti            86.0\n",
       "8    Franck Ribery            86.0\n",
       "9    Frank Lampard            86.0"
      ]
     },
     "execution_count": 27,
     "metadata": {},
     "output_type": "execute_result"
    }
   ],
   "source": [
    "# Display results\n",
    "myTopPlot(df, 'player_name', 'overall_rating', cols=Mid_attributes, position= 'Midfielders')"
   ]
  },
  {
   "cell_type": "markdown",
   "id": "58e08ac9",
   "metadata": {
    "papermill": {
     "duration": 0.02423,
     "end_time": "2022-09-10T06:23:08.588874",
     "exception": false,
     "start_time": "2022-09-10T06:23:08.564644",
     "status": "completed"
    },
    "tags": []
   },
   "source": [
    "---> So, the Spanish midfielder \"Xavi Hernandez\" had the highest rating during the ten years from 2007 to 2016"
   ]
  },
  {
   "cell_type": "markdown",
   "id": "0ddd94b2",
   "metadata": {
    "papermill": {
     "duration": 0.023775,
     "end_time": "2022-09-10T06:23:08.636658",
     "exception": false,
     "start_time": "2022-09-10T06:23:08.612883",
     "status": "completed"
    },
    "tags": []
   },
   "source": [
    "                    *****************************************************"
   ]
  },
  {
   "cell_type": "markdown",
   "id": "6ce51e94",
   "metadata": {
    "papermill": {
     "duration": 0.023874,
     "end_time": "2022-09-10T06:23:08.684695",
     "exception": false,
     "start_time": "2022-09-10T06:23:08.660821",
     "status": "completed"
    },
    "tags": []
   },
   "source": [
    "### Research Question 5 : Who were the \"Forwards\" with the highest rating ?\n",
    "\n",
    "To answer this question, we should collect the \"Forwards\" attributes from the dataset and then put them into another dataset, then analysis this new dataset to get the top ten \"Forwards\"."
   ]
  },
  {
   "cell_type": "code",
   "execution_count": 28,
   "id": "8c6981a3",
   "metadata": {
    "execution": {
     "iopub.execute_input": "2022-09-10T06:23:08.735695Z",
     "iopub.status.busy": "2022-09-10T06:23:08.734537Z",
     "iopub.status.idle": "2022-09-10T06:23:08.739806Z",
     "shell.execute_reply": "2022-09-10T06:23:08.738876Z"
    },
    "papermill": {
     "duration": 0.032967,
     "end_time": "2022-09-10T06:23:08.742068",
     "exception": false,
     "start_time": "2022-09-10T06:23:08.709101",
     "status": "completed"
    },
    "tags": []
   },
   "outputs": [],
   "source": [
    "# Let's save the most important features of the Forward in a list\n",
    "Fw_attributes = [\n",
    "                 'player_name', 'ball_control', 'finishing', 'heading_accuracy', \n",
    "                 'balance', 'agility', 'stamina'\n",
    "                ]"
   ]
  },
  {
   "cell_type": "code",
   "execution_count": 29,
   "id": "6f8f336a",
   "metadata": {
    "execution": {
     "iopub.execute_input": "2022-09-10T06:23:08.791975Z",
     "iopub.status.busy": "2022-09-10T06:23:08.791534Z",
     "iopub.status.idle": "2022-09-10T06:23:08.947217Z",
     "shell.execute_reply": "2022-09-10T06:23:08.945621Z"
    },
    "papermill": {
     "duration": 0.183872,
     "end_time": "2022-09-10T06:23:08.949852",
     "exception": false,
     "start_time": "2022-09-10T06:23:08.765980",
     "status": "completed"
    },
    "tags": []
   },
   "outputs": [
    {
     "data": {
      "text/html": [
       "<div>                            <div id=\"07529453-880e-449f-82c2-99e9eb698bc8\" class=\"plotly-graph-div\" style=\"height:525px; width:100%;\"></div>            <script type=\"text/javascript\">                require([\"plotly\"], function(Plotly) {                    window.PLOTLYENV=window.PLOTLYENV || {};                                    if (document.getElementById(\"07529453-880e-449f-82c2-99e9eb698bc8\")) {                    Plotly.newPlot(                        \"07529453-880e-449f-82c2-99e9eb698bc8\",                        [{\"alignmentgroup\":\"True\",\"hovertemplate\":\"player_name=%{x}<br>overall_rating=%{text}<extra></extra>\",\"legendgroup\":\"Cristiano Ronaldo\",\"marker\":{\"color\":\"#636efa\",\"pattern\":{\"shape\":\"\"}},\"name\":\"Cristiano Ronaldo\",\"offsetgroup\":\"Cristiano Ronaldo\",\"orientation\":\"v\",\"showlegend\":true,\"text\":[90.0],\"textposition\":\"auto\",\"x\":[\"Cristiano Ronaldo\"],\"xaxis\":\"x\",\"y\":[90.0],\"yaxis\":\"y\",\"type\":\"bar\"},{\"alignmentgroup\":\"True\",\"hovertemplate\":\"player_name=%{x}<br>overall_rating=%{text}<extra></extra>\",\"legendgroup\":\"Lionel Messi\",\"marker\":{\"color\":\"#EF553B\",\"pattern\":{\"shape\":\"\"}},\"name\":\"Lionel Messi\",\"offsetgroup\":\"Lionel Messi\",\"orientation\":\"v\",\"showlegend\":true,\"text\":[89.0],\"textposition\":\"auto\",\"x\":[\"Lionel Messi\"],\"xaxis\":\"x\",\"y\":[89.0],\"yaxis\":\"y\",\"type\":\"bar\"},{\"alignmentgroup\":\"True\",\"hovertemplate\":\"player_name=%{x}<br>overall_rating=%{text}<extra></extra>\",\"legendgroup\":\"Wayne Rooney\",\"marker\":{\"color\":\"#00cc96\",\"pattern\":{\"shape\":\"\"}},\"name\":\"Wayne Rooney\",\"offsetgroup\":\"Wayne Rooney\",\"orientation\":\"v\",\"showlegend\":true,\"text\":[87.0],\"textposition\":\"auto\",\"x\":[\"Wayne Rooney\"],\"xaxis\":\"x\",\"y\":[87.0],\"yaxis\":\"y\",\"type\":\"bar\"},{\"alignmentgroup\":\"True\",\"hovertemplate\":\"player_name=%{x}<br>overall_rating=%{text}<extra></extra>\",\"legendgroup\":\"Didier Drogba\",\"marker\":{\"color\":\"#ab63fa\",\"pattern\":{\"shape\":\"\"}},\"name\":\"Didier Drogba\",\"offsetgroup\":\"Didier Drogba\",\"orientation\":\"v\",\"showlegend\":true,\"text\":[86.0],\"textposition\":\"auto\",\"x\":[\"Didier Drogba\"],\"xaxis\":\"x\",\"y\":[86.0],\"yaxis\":\"y\",\"type\":\"bar\"},{\"alignmentgroup\":\"True\",\"hovertemplate\":\"player_name=%{x}<br>overall_rating=%{text}<extra></extra>\",\"legendgroup\":\"Edinson Cavani\",\"marker\":{\"color\":\"#FFA15A\",\"pattern\":{\"shape\":\"\"}},\"name\":\"Edinson Cavani\",\"offsetgroup\":\"Edinson Cavani\",\"orientation\":\"v\",\"showlegend\":true,\"text\":[86.0],\"textposition\":\"auto\",\"x\":[\"Edinson Cavani\"],\"xaxis\":\"x\",\"y\":[86.0],\"yaxis\":\"y\",\"type\":\"bar\"},{\"alignmentgroup\":\"True\",\"hovertemplate\":\"player_name=%{x}<br>overall_rating=%{text}<extra></extra>\",\"legendgroup\":\"Lisandro Lopez\",\"marker\":{\"color\":\"#19d3f3\",\"pattern\":{\"shape\":\"\"}},\"name\":\"Lisandro Lopez\",\"offsetgroup\":\"Lisandro Lopez\",\"orientation\":\"v\",\"showlegend\":true,\"text\":[86.0],\"textposition\":\"auto\",\"x\":[\"Lisandro Lopez\"],\"xaxis\":\"x\",\"y\":[86.0],\"yaxis\":\"y\",\"type\":\"bar\"},{\"alignmentgroup\":\"True\",\"hovertemplate\":\"player_name=%{x}<br>overall_rating=%{text}<extra></extra>\",\"legendgroup\":\"Zlatan Ibrahimovic\",\"marker\":{\"color\":\"#FF6692\",\"pattern\":{\"shape\":\"\"}},\"name\":\"Zlatan Ibrahimovic\",\"offsetgroup\":\"Zlatan Ibrahimovic\",\"orientation\":\"v\",\"showlegend\":true,\"text\":[86.0],\"textposition\":\"auto\",\"x\":[\"Zlatan Ibrahimovic\"],\"xaxis\":\"x\",\"y\":[86.0],\"yaxis\":\"y\",\"type\":\"bar\"},{\"alignmentgroup\":\"True\",\"hovertemplate\":\"player_name=%{x}<br>overall_rating=%{text}<extra></extra>\",\"legendgroup\":\"Carlos Tevez\",\"marker\":{\"color\":\"#B6E880\",\"pattern\":{\"shape\":\"\"}},\"name\":\"Carlos Tevez\",\"offsetgroup\":\"Carlos Tevez\",\"orientation\":\"v\",\"showlegend\":true,\"text\":[85.0],\"textposition\":\"auto\",\"x\":[\"Carlos Tevez\"],\"xaxis\":\"x\",\"y\":[85.0],\"yaxis\":\"y\",\"type\":\"bar\"},{\"alignmentgroup\":\"True\",\"hovertemplate\":\"player_name=%{x}<br>overall_rating=%{text}<extra></extra>\",\"legendgroup\":\"David Villa\",\"marker\":{\"color\":\"#FF97FF\",\"pattern\":{\"shape\":\"\"}},\"name\":\"David Villa\",\"offsetgroup\":\"David Villa\",\"orientation\":\"v\",\"showlegend\":true,\"text\":[85.0],\"textposition\":\"auto\",\"x\":[\"David Villa\"],\"xaxis\":\"x\",\"y\":[85.0],\"yaxis\":\"y\",\"type\":\"bar\"},{\"alignmentgroup\":\"True\",\"hovertemplate\":\"player_name=%{x}<br>overall_rating=%{text}<extra></extra>\",\"legendgroup\":\"Diego Milito\",\"marker\":{\"color\":\"#FECB52\",\"pattern\":{\"shape\":\"\"}},\"name\":\"Diego Milito\",\"offsetgroup\":\"Diego Milito\",\"orientation\":\"v\",\"showlegend\":true,\"text\":[85.0],\"textposition\":\"auto\",\"x\":[\"Diego Milito\"],\"xaxis\":\"x\",\"y\":[85.0],\"yaxis\":\"y\",\"type\":\"bar\"}],                        {\"template\":{\"data\":{\"histogram2dcontour\":[{\"type\":\"histogram2dcontour\",\"colorbar\":{\"outlinewidth\":0,\"ticks\":\"\"},\"colorscale\":[[0.0,\"#0d0887\"],[0.1111111111111111,\"#46039f\"],[0.2222222222222222,\"#7201a8\"],[0.3333333333333333,\"#9c179e\"],[0.4444444444444444,\"#bd3786\"],[0.5555555555555556,\"#d8576b\"],[0.6666666666666666,\"#ed7953\"],[0.7777777777777778,\"#fb9f3a\"],[0.8888888888888888,\"#fdca26\"],[1.0,\"#f0f921\"]]}],\"choropleth\":[{\"type\":\"choropleth\",\"colorbar\":{\"outlinewidth\":0,\"ticks\":\"\"}}],\"histogram2d\":[{\"type\":\"histogram2d\",\"colorbar\":{\"outlinewidth\":0,\"ticks\":\"\"},\"colorscale\":[[0.0,\"#0d0887\"],[0.1111111111111111,\"#46039f\"],[0.2222222222222222,\"#7201a8\"],[0.3333333333333333,\"#9c179e\"],[0.4444444444444444,\"#bd3786\"],[0.5555555555555556,\"#d8576b\"],[0.6666666666666666,\"#ed7953\"],[0.7777777777777778,\"#fb9f3a\"],[0.8888888888888888,\"#fdca26\"],[1.0,\"#f0f921\"]]}],\"heatmap\":[{\"type\":\"heatmap\",\"colorbar\":{\"outlinewidth\":0,\"ticks\":\"\"},\"colorscale\":[[0.0,\"#0d0887\"],[0.1111111111111111,\"#46039f\"],[0.2222222222222222,\"#7201a8\"],[0.3333333333333333,\"#9c179e\"],[0.4444444444444444,\"#bd3786\"],[0.5555555555555556,\"#d8576b\"],[0.6666666666666666,\"#ed7953\"],[0.7777777777777778,\"#fb9f3a\"],[0.8888888888888888,\"#fdca26\"],[1.0,\"#f0f921\"]]}],\"heatmapgl\":[{\"type\":\"heatmapgl\",\"colorbar\":{\"outlinewidth\":0,\"ticks\":\"\"},\"colorscale\":[[0.0,\"#0d0887\"],[0.1111111111111111,\"#46039f\"],[0.2222222222222222,\"#7201a8\"],[0.3333333333333333,\"#9c179e\"],[0.4444444444444444,\"#bd3786\"],[0.5555555555555556,\"#d8576b\"],[0.6666666666666666,\"#ed7953\"],[0.7777777777777778,\"#fb9f3a\"],[0.8888888888888888,\"#fdca26\"],[1.0,\"#f0f921\"]]}],\"contourcarpet\":[{\"type\":\"contourcarpet\",\"colorbar\":{\"outlinewidth\":0,\"ticks\":\"\"}}],\"contour\":[{\"type\":\"contour\",\"colorbar\":{\"outlinewidth\":0,\"ticks\":\"\"},\"colorscale\":[[0.0,\"#0d0887\"],[0.1111111111111111,\"#46039f\"],[0.2222222222222222,\"#7201a8\"],[0.3333333333333333,\"#9c179e\"],[0.4444444444444444,\"#bd3786\"],[0.5555555555555556,\"#d8576b\"],[0.6666666666666666,\"#ed7953\"],[0.7777777777777778,\"#fb9f3a\"],[0.8888888888888888,\"#fdca26\"],[1.0,\"#f0f921\"]]}],\"surface\":[{\"type\":\"surface\",\"colorbar\":{\"outlinewidth\":0,\"ticks\":\"\"},\"colorscale\":[[0.0,\"#0d0887\"],[0.1111111111111111,\"#46039f\"],[0.2222222222222222,\"#7201a8\"],[0.3333333333333333,\"#9c179e\"],[0.4444444444444444,\"#bd3786\"],[0.5555555555555556,\"#d8576b\"],[0.6666666666666666,\"#ed7953\"],[0.7777777777777778,\"#fb9f3a\"],[0.8888888888888888,\"#fdca26\"],[1.0,\"#f0f921\"]]}],\"mesh3d\":[{\"type\":\"mesh3d\",\"colorbar\":{\"outlinewidth\":0,\"ticks\":\"\"}}],\"scatter\":[{\"fillpattern\":{\"fillmode\":\"overlay\",\"size\":10,\"solidity\":0.2},\"type\":\"scatter\"}],\"parcoords\":[{\"type\":\"parcoords\",\"line\":{\"colorbar\":{\"outlinewidth\":0,\"ticks\":\"\"}}}],\"scatterpolargl\":[{\"type\":\"scatterpolargl\",\"marker\":{\"colorbar\":{\"outlinewidth\":0,\"ticks\":\"\"}}}],\"bar\":[{\"error_x\":{\"color\":\"#2a3f5f\"},\"error_y\":{\"color\":\"#2a3f5f\"},\"marker\":{\"line\":{\"color\":\"#E5ECF6\",\"width\":0.5},\"pattern\":{\"fillmode\":\"overlay\",\"size\":10,\"solidity\":0.2}},\"type\":\"bar\"}],\"scattergeo\":[{\"type\":\"scattergeo\",\"marker\":{\"colorbar\":{\"outlinewidth\":0,\"ticks\":\"\"}}}],\"scatterpolar\":[{\"type\":\"scatterpolar\",\"marker\":{\"colorbar\":{\"outlinewidth\":0,\"ticks\":\"\"}}}],\"histogram\":[{\"marker\":{\"pattern\":{\"fillmode\":\"overlay\",\"size\":10,\"solidity\":0.2}},\"type\":\"histogram\"}],\"scattergl\":[{\"type\":\"scattergl\",\"marker\":{\"colorbar\":{\"outlinewidth\":0,\"ticks\":\"\"}}}],\"scatter3d\":[{\"type\":\"scatter3d\",\"line\":{\"colorbar\":{\"outlinewidth\":0,\"ticks\":\"\"}},\"marker\":{\"colorbar\":{\"outlinewidth\":0,\"ticks\":\"\"}}}],\"scattermapbox\":[{\"type\":\"scattermapbox\",\"marker\":{\"colorbar\":{\"outlinewidth\":0,\"ticks\":\"\"}}}],\"scatterternary\":[{\"type\":\"scatterternary\",\"marker\":{\"colorbar\":{\"outlinewidth\":0,\"ticks\":\"\"}}}],\"scattercarpet\":[{\"type\":\"scattercarpet\",\"marker\":{\"colorbar\":{\"outlinewidth\":0,\"ticks\":\"\"}}}],\"carpet\":[{\"aaxis\":{\"endlinecolor\":\"#2a3f5f\",\"gridcolor\":\"white\",\"linecolor\":\"white\",\"minorgridcolor\":\"white\",\"startlinecolor\":\"#2a3f5f\"},\"baxis\":{\"endlinecolor\":\"#2a3f5f\",\"gridcolor\":\"white\",\"linecolor\":\"white\",\"minorgridcolor\":\"white\",\"startlinecolor\":\"#2a3f5f\"},\"type\":\"carpet\"}],\"table\":[{\"cells\":{\"fill\":{\"color\":\"#EBF0F8\"},\"line\":{\"color\":\"white\"}},\"header\":{\"fill\":{\"color\":\"#C8D4E3\"},\"line\":{\"color\":\"white\"}},\"type\":\"table\"}],\"barpolar\":[{\"marker\":{\"line\":{\"color\":\"#E5ECF6\",\"width\":0.5},\"pattern\":{\"fillmode\":\"overlay\",\"size\":10,\"solidity\":0.2}},\"type\":\"barpolar\"}],\"pie\":[{\"automargin\":true,\"type\":\"pie\"}]},\"layout\":{\"autotypenumbers\":\"strict\",\"colorway\":[\"#636efa\",\"#EF553B\",\"#00cc96\",\"#ab63fa\",\"#FFA15A\",\"#19d3f3\",\"#FF6692\",\"#B6E880\",\"#FF97FF\",\"#FECB52\"],\"font\":{\"color\":\"#2a3f5f\"},\"hovermode\":\"closest\",\"hoverlabel\":{\"align\":\"left\"},\"paper_bgcolor\":\"white\",\"plot_bgcolor\":\"#E5ECF6\",\"polar\":{\"bgcolor\":\"#E5ECF6\",\"angularaxis\":{\"gridcolor\":\"white\",\"linecolor\":\"white\",\"ticks\":\"\"},\"radialaxis\":{\"gridcolor\":\"white\",\"linecolor\":\"white\",\"ticks\":\"\"}},\"ternary\":{\"bgcolor\":\"#E5ECF6\",\"aaxis\":{\"gridcolor\":\"white\",\"linecolor\":\"white\",\"ticks\":\"\"},\"baxis\":{\"gridcolor\":\"white\",\"linecolor\":\"white\",\"ticks\":\"\"},\"caxis\":{\"gridcolor\":\"white\",\"linecolor\":\"white\",\"ticks\":\"\"}},\"coloraxis\":{\"colorbar\":{\"outlinewidth\":0,\"ticks\":\"\"}},\"colorscale\":{\"sequential\":[[0.0,\"#0d0887\"],[0.1111111111111111,\"#46039f\"],[0.2222222222222222,\"#7201a8\"],[0.3333333333333333,\"#9c179e\"],[0.4444444444444444,\"#bd3786\"],[0.5555555555555556,\"#d8576b\"],[0.6666666666666666,\"#ed7953\"],[0.7777777777777778,\"#fb9f3a\"],[0.8888888888888888,\"#fdca26\"],[1.0,\"#f0f921\"]],\"sequentialminus\":[[0.0,\"#0d0887\"],[0.1111111111111111,\"#46039f\"],[0.2222222222222222,\"#7201a8\"],[0.3333333333333333,\"#9c179e\"],[0.4444444444444444,\"#bd3786\"],[0.5555555555555556,\"#d8576b\"],[0.6666666666666666,\"#ed7953\"],[0.7777777777777778,\"#fb9f3a\"],[0.8888888888888888,\"#fdca26\"],[1.0,\"#f0f921\"]],\"diverging\":[[0,\"#8e0152\"],[0.1,\"#c51b7d\"],[0.2,\"#de77ae\"],[0.3,\"#f1b6da\"],[0.4,\"#fde0ef\"],[0.5,\"#f7f7f7\"],[0.6,\"#e6f5d0\"],[0.7,\"#b8e186\"],[0.8,\"#7fbc41\"],[0.9,\"#4d9221\"],[1,\"#276419\"]]},\"xaxis\":{\"gridcolor\":\"white\",\"linecolor\":\"white\",\"ticks\":\"\",\"title\":{\"standoff\":15},\"zerolinecolor\":\"white\",\"automargin\":true,\"zerolinewidth\":2},\"yaxis\":{\"gridcolor\":\"white\",\"linecolor\":\"white\",\"ticks\":\"\",\"title\":{\"standoff\":15},\"zerolinecolor\":\"white\",\"automargin\":true,\"zerolinewidth\":2},\"scene\":{\"xaxis\":{\"backgroundcolor\":\"#E5ECF6\",\"gridcolor\":\"white\",\"linecolor\":\"white\",\"showbackground\":true,\"ticks\":\"\",\"zerolinecolor\":\"white\",\"gridwidth\":2},\"yaxis\":{\"backgroundcolor\":\"#E5ECF6\",\"gridcolor\":\"white\",\"linecolor\":\"white\",\"showbackground\":true,\"ticks\":\"\",\"zerolinecolor\":\"white\",\"gridwidth\":2},\"zaxis\":{\"backgroundcolor\":\"#E5ECF6\",\"gridcolor\":\"white\",\"linecolor\":\"white\",\"showbackground\":true,\"ticks\":\"\",\"zerolinecolor\":\"white\",\"gridwidth\":2}},\"shapedefaults\":{\"line\":{\"color\":\"#2a3f5f\"}},\"annotationdefaults\":{\"arrowcolor\":\"#2a3f5f\",\"arrowhead\":0,\"arrowwidth\":1},\"geo\":{\"bgcolor\":\"white\",\"landcolor\":\"#E5ECF6\",\"subunitcolor\":\"white\",\"showland\":true,\"showlakes\":true,\"lakecolor\":\"white\"},\"title\":{\"x\":0.05},\"mapbox\":{\"style\":\"light\"}}},\"xaxis\":{\"anchor\":\"y\",\"domain\":[0.0,1.0],\"title\":{\"text\":\"Player Name\"},\"categoryorder\":\"array\",\"categoryarray\":[\"Cristiano Ronaldo\",\"Lionel Messi\",\"Wayne Rooney\",\"Didier Drogba\",\"Edinson Cavani\",\"Lisandro Lopez\",\"Zlatan Ibrahimovic\",\"Carlos Tevez\",\"David Villa\",\"Diego Milito\"]},\"yaxis\":{\"anchor\":\"x\",\"domain\":[0.0,1.0],\"title\":{\"text\":\"Overall Rating\"}},\"legend\":{\"title\":{\"text\":\"player_name\"},\"tracegroupgap\":0},\"title\":{\"text\":\"Top 10 Forwards\"},\"barmode\":\"relative\"},                        {\"responsive\": true}                    ).then(function(){\n",
       "                            \n",
       "var gd = document.getElementById('07529453-880e-449f-82c2-99e9eb698bc8');\n",
       "var x = new MutationObserver(function (mutations, observer) {{\n",
       "        var display = window.getComputedStyle(gd).display;\n",
       "        if (!display || display === 'none') {{\n",
       "            console.log([gd, 'removed!']);\n",
       "            Plotly.purge(gd);\n",
       "            observer.disconnect();\n",
       "        }}\n",
       "}});\n",
       "\n",
       "// Listen for the removal of the full notebook cells\n",
       "var notebookContainer = gd.closest('#notebook-container');\n",
       "if (notebookContainer) {{\n",
       "    x.observe(notebookContainer, {childList: true});\n",
       "}}\n",
       "\n",
       "// Listen for the clearing of the current output cell\n",
       "var outputEl = gd.closest('.output');\n",
       "if (outputEl) {{\n",
       "    x.observe(outputEl, {childList: true});\n",
       "}}\n",
       "\n",
       "                        })                };                });            </script>        </div>"
      ]
     },
     "metadata": {},
     "output_type": "display_data"
    },
    {
     "data": {
      "text/html": [
       "<div>\n",
       "<style scoped>\n",
       "    .dataframe tbody tr th:only-of-type {\n",
       "        vertical-align: middle;\n",
       "    }\n",
       "\n",
       "    .dataframe tbody tr th {\n",
       "        vertical-align: top;\n",
       "    }\n",
       "\n",
       "    .dataframe thead th {\n",
       "        text-align: right;\n",
       "    }\n",
       "</style>\n",
       "<table border=\"1\" class=\"dataframe\">\n",
       "  <thead>\n",
       "    <tr style=\"text-align: right;\">\n",
       "      <th></th>\n",
       "      <th>player_name</th>\n",
       "      <th>overall_rating</th>\n",
       "    </tr>\n",
       "  </thead>\n",
       "  <tbody>\n",
       "    <tr>\n",
       "      <th>0</th>\n",
       "      <td>Cristiano Ronaldo</td>\n",
       "      <td>90.0</td>\n",
       "    </tr>\n",
       "    <tr>\n",
       "      <th>1</th>\n",
       "      <td>Lionel Messi</td>\n",
       "      <td>89.0</td>\n",
       "    </tr>\n",
       "    <tr>\n",
       "      <th>2</th>\n",
       "      <td>Wayne Rooney</td>\n",
       "      <td>87.0</td>\n",
       "    </tr>\n",
       "    <tr>\n",
       "      <th>3</th>\n",
       "      <td>Didier Drogba</td>\n",
       "      <td>86.0</td>\n",
       "    </tr>\n",
       "    <tr>\n",
       "      <th>4</th>\n",
       "      <td>Edinson Cavani</td>\n",
       "      <td>86.0</td>\n",
       "    </tr>\n",
       "    <tr>\n",
       "      <th>5</th>\n",
       "      <td>Lisandro Lopez</td>\n",
       "      <td>86.0</td>\n",
       "    </tr>\n",
       "    <tr>\n",
       "      <th>6</th>\n",
       "      <td>Zlatan Ibrahimovic</td>\n",
       "      <td>86.0</td>\n",
       "    </tr>\n",
       "    <tr>\n",
       "      <th>7</th>\n",
       "      <td>Carlos Tevez</td>\n",
       "      <td>85.0</td>\n",
       "    </tr>\n",
       "    <tr>\n",
       "      <th>8</th>\n",
       "      <td>David Villa</td>\n",
       "      <td>85.0</td>\n",
       "    </tr>\n",
       "    <tr>\n",
       "      <th>9</th>\n",
       "      <td>Diego Milito</td>\n",
       "      <td>85.0</td>\n",
       "    </tr>\n",
       "  </tbody>\n",
       "</table>\n",
       "</div>"
      ],
      "text/plain": [
       "          player_name  overall_rating\n",
       "0   Cristiano Ronaldo            90.0\n",
       "1        Lionel Messi            89.0\n",
       "2        Wayne Rooney            87.0\n",
       "3       Didier Drogba            86.0\n",
       "4      Edinson Cavani            86.0\n",
       "5      Lisandro Lopez            86.0\n",
       "6  Zlatan Ibrahimovic            86.0\n",
       "7        Carlos Tevez            85.0\n",
       "8         David Villa            85.0\n",
       "9        Diego Milito            85.0"
      ]
     },
     "execution_count": 29,
     "metadata": {},
     "output_type": "execute_result"
    }
   ],
   "source": [
    "myTopPlot(df, 'player_name', 'overall_rating', cols=Fw_attributes, position= 'Forwards')"
   ]
  },
  {
   "cell_type": "markdown",
   "id": "5792a78f",
   "metadata": {
    "papermill": {
     "duration": 0.024207,
     "end_time": "2022-09-10T06:23:08.998955",
     "exception": false,
     "start_time": "2022-09-10T06:23:08.974748",
     "status": "completed"
    },
    "tags": []
   },
   "source": [
    "### Research Question 6 : Which players had the highest penality kicking rating ?\n"
   ]
  },
  {
   "cell_type": "code",
   "execution_count": 30,
   "id": "ce8a7cce",
   "metadata": {
    "execution": {
     "iopub.execute_input": "2022-09-10T06:23:09.050677Z",
     "iopub.status.busy": "2022-09-10T06:23:09.050259Z",
     "iopub.status.idle": "2022-09-10T06:23:09.080956Z",
     "shell.execute_reply": "2022-09-10T06:23:09.079841Z"
    },
    "papermill": {
     "duration": 0.059752,
     "end_time": "2022-09-10T06:23:09.083400",
     "exception": false,
     "start_time": "2022-09-10T06:23:09.023648",
     "status": "completed"
    },
    "tags": []
   },
   "outputs": [],
   "source": [
    "Top_penality_kickers = df.groupby('player_name')['penalties'].max().nlargest(6)"
   ]
  },
  {
   "cell_type": "code",
   "execution_count": 31,
   "id": "c4bbf544",
   "metadata": {
    "execution": {
     "iopub.execute_input": "2022-09-10T06:23:09.134944Z",
     "iopub.status.busy": "2022-09-10T06:23:09.134560Z",
     "iopub.status.idle": "2022-09-10T06:23:09.140568Z",
     "shell.execute_reply": "2022-09-10T06:23:09.139631Z"
    },
    "papermill": {
     "duration": 0.034395,
     "end_time": "2022-09-10T06:23:09.142816",
     "exception": false,
     "start_time": "2022-09-10T06:23:09.108421",
     "status": "completed"
    },
    "tags": []
   },
   "outputs": [],
   "source": [
    "# Top5_penality_kickers dataframe\n",
    "Top_five_penality_kickers = pd.DataFrame({'Player_name':Top_penality_kickers.index,\n",
    "                                        'Highest_rating':Top_penality_kickers.values})"
   ]
  },
  {
   "cell_type": "code",
   "execution_count": 32,
   "id": "0747ccf8",
   "metadata": {
    "execution": {
     "iopub.execute_input": "2022-09-10T06:23:09.194595Z",
     "iopub.status.busy": "2022-09-10T06:23:09.194183Z",
     "iopub.status.idle": "2022-09-10T06:23:09.204618Z",
     "shell.execute_reply": "2022-09-10T06:23:09.203313Z"
    },
    "papermill": {
     "duration": 0.03902,
     "end_time": "2022-09-10T06:23:09.206675",
     "exception": false,
     "start_time": "2022-09-10T06:23:09.167655",
     "status": "completed"
    },
    "tags": []
   },
   "outputs": [
    {
     "data": {
      "text/html": [
       "<div>\n",
       "<style scoped>\n",
       "    .dataframe tbody tr th:only-of-type {\n",
       "        vertical-align: middle;\n",
       "    }\n",
       "\n",
       "    .dataframe tbody tr th {\n",
       "        vertical-align: top;\n",
       "    }\n",
       "\n",
       "    .dataframe thead th {\n",
       "        text-align: right;\n",
       "    }\n",
       "</style>\n",
       "<table border=\"1\" class=\"dataframe\">\n",
       "  <thead>\n",
       "    <tr style=\"text-align: right;\">\n",
       "      <th></th>\n",
       "      <th>Player_name</th>\n",
       "      <th>Highest_rating</th>\n",
       "    </tr>\n",
       "  </thead>\n",
       "  <tbody>\n",
       "    <tr>\n",
       "      <th>0</th>\n",
       "      <td>Rickie Lambert</td>\n",
       "      <td>96.0</td>\n",
       "    </tr>\n",
       "    <tr>\n",
       "      <th>1</th>\n",
       "      <td>Andrea Pirlo</td>\n",
       "      <td>95.0</td>\n",
       "    </tr>\n",
       "    <tr>\n",
       "      <th>2</th>\n",
       "      <td>Mario Balotelli</td>\n",
       "      <td>95.0</td>\n",
       "    </tr>\n",
       "    <tr>\n",
       "      <th>3</th>\n",
       "      <td>Paul Scholes</td>\n",
       "      <td>95.0</td>\n",
       "    </tr>\n",
       "    <tr>\n",
       "      <th>4</th>\n",
       "      <td>Xavi Hernandez</td>\n",
       "      <td>95.0</td>\n",
       "    </tr>\n",
       "    <tr>\n",
       "      <th>5</th>\n",
       "      <td>Adrian Mutu</td>\n",
       "      <td>94.0</td>\n",
       "    </tr>\n",
       "  </tbody>\n",
       "</table>\n",
       "</div>"
      ],
      "text/plain": [
       "       Player_name  Highest_rating\n",
       "0   Rickie Lambert            96.0\n",
       "1     Andrea Pirlo            95.0\n",
       "2  Mario Balotelli            95.0\n",
       "3     Paul Scholes            95.0\n",
       "4   Xavi Hernandez            95.0\n",
       "5      Adrian Mutu            94.0"
      ]
     },
     "execution_count": 32,
     "metadata": {},
     "output_type": "execute_result"
    }
   ],
   "source": [
    "Top_five_penality_kickers"
   ]
  },
  {
   "cell_type": "code",
   "execution_count": 33,
   "id": "5671dafa",
   "metadata": {
    "execution": {
     "iopub.execute_input": "2022-09-10T06:23:09.258668Z",
     "iopub.status.busy": "2022-09-10T06:23:09.257883Z",
     "iopub.status.idle": "2022-09-10T06:23:09.473559Z",
     "shell.execute_reply": "2022-09-10T06:23:09.472139Z"
    },
    "papermill": {
     "duration": 0.244863,
     "end_time": "2022-09-10T06:23:09.476279",
     "exception": false,
     "start_time": "2022-09-10T06:23:09.231416",
     "status": "completed"
    },
    "tags": []
   },
   "outputs": [
    {
     "data": {
      "image/png": "[encoded data removed]",
      "text/plain": [
       "<Figure size 432x288 with 1 Axes>"
      ]
     },
     "metadata": {},
     "output_type": "display_data"
    }
   ],
   "source": [
    "# Data visualization using matlibplot and seaborn libraries\n",
    "# define Seaborn color palette to use\n",
    "palette_color = sns.color_palette('Set2')\n",
    "  \n",
    "# plotting data on chart\n",
    "plt.pie(Top_five_penality_kickers.Highest_rating, labels = Top_five_penality_kickers.Player_name,\n",
    "        explode=[0.3, 0.1, 0.1, 0.1, 0.1,0] ,colors = palette_color,autopct ='%.1f%%', shadow = True)\n",
    "plt.title(\"Top rated penality_kicker players\")        \n",
    "  \n",
    "# displaying chart\n",
    "plt.show()"
   ]
  },
  {
   "cell_type": "markdown",
   "id": "69ffa561",
   "metadata": {
    "papermill": {
     "duration": 0.042915,
     "end_time": "2022-09-10T06:23:09.545951",
     "exception": false,
     "start_time": "2022-09-10T06:23:09.503036",
     "status": "completed"
    },
    "tags": []
   },
   "source": [
    "---> So, the English  Centre-Forward \"Rickie Lambert\" was in the lead during the ten years from 2007 to 2016."
   ]
  },
  {
   "cell_type": "markdown",
   "id": "317717e8",
   "metadata": {
    "papermill": {
     "duration": 0.025018,
     "end_time": "2022-09-10T06:23:09.596768",
     "exception": false,
     "start_time": "2022-09-10T06:23:09.571750",
     "status": "completed"
    },
    "tags": []
   },
   "source": [
    "                  ********************************************************"
   ]
  },
  {
   "cell_type": "markdown",
   "id": "b67c858e",
   "metadata": {
    "papermill": {
     "duration": 0.02515,
     "end_time": "2022-09-10T06:23:09.647168",
     "exception": false,
     "start_time": "2022-09-10T06:23:09.622018",
     "status": "completed"
    },
    "tags": []
   },
   "source": [
    "### Research Question 7 : Who was the tallest player (in Centimeters) ?\n"
   ]
  },
  {
   "cell_type": "code",
   "execution_count": 34,
   "id": "7f5afea9",
   "metadata": {
    "execution": {
     "iopub.execute_input": "2022-09-10T06:23:09.700355Z",
     "iopub.status.busy": "2022-09-10T06:23:09.699941Z",
     "iopub.status.idle": "2022-09-10T06:23:09.732857Z",
     "shell.execute_reply": "2022-09-10T06:23:09.731790Z"
    },
    "papermill": {
     "duration": 0.062118,
     "end_time": "2022-09-10T06:23:09.735367",
     "exception": false,
     "start_time": "2022-09-10T06:23:09.673249",
     "status": "completed"
    },
    "tags": []
   },
   "outputs": [],
   "source": [
    "# Let's find the tallest player\n",
    "Most_tallest_player = df.groupby('player_name')['height'].max().nlargest(1)\n"
   ]
  },
  {
   "cell_type": "code",
   "execution_count": 35,
   "id": "359f3e60",
   "metadata": {
    "execution": {
     "iopub.execute_input": "2022-09-10T06:23:09.789561Z",
     "iopub.status.busy": "2022-09-10T06:23:09.788760Z",
     "iopub.status.idle": "2022-09-10T06:23:09.794298Z",
     "shell.execute_reply": "2022-09-10T06:23:09.793445Z"
    },
    "papermill": {
     "duration": 0.034778,
     "end_time": "2022-09-10T06:23:09.796540",
     "exception": false,
     "start_time": "2022-09-10T06:23:09.761762",
     "status": "completed"
    },
    "tags": []
   },
   "outputs": [],
   "source": [
    "# Tallest player datafram\n",
    "Tallest_player = pd.DataFrame({'Player_name':Most_tallest_player.index,\n",
    "                                  \"Player_height\":Most_tallest_player.values})"
   ]
  },
  {
   "cell_type": "code",
   "execution_count": 36,
   "id": "367e2cfd",
   "metadata": {
    "execution": {
     "iopub.execute_input": "2022-09-10T06:23:09.849647Z",
     "iopub.status.busy": "2022-09-10T06:23:09.848805Z",
     "iopub.status.idle": "2022-09-10T06:23:09.858870Z",
     "shell.execute_reply": "2022-09-10T06:23:09.857795Z"
    },
    "papermill": {
     "duration": 0.039181,
     "end_time": "2022-09-10T06:23:09.861165",
     "exception": false,
     "start_time": "2022-09-10T06:23:09.821984",
     "status": "completed"
    },
    "tags": []
   },
   "outputs": [
    {
     "data": {
      "text/html": [
       "<div>\n",
       "<style scoped>\n",
       "    .dataframe tbody tr th:only-of-type {\n",
       "        vertical-align: middle;\n",
       "    }\n",
       "\n",
       "    .dataframe tbody tr th {\n",
       "        vertical-align: top;\n",
       "    }\n",
       "\n",
       "    .dataframe thead th {\n",
       "        text-align: right;\n",
       "    }\n",
       "</style>\n",
       "<table border=\"1\" class=\"dataframe\">\n",
       "  <thead>\n",
       "    <tr style=\"text-align: right;\">\n",
       "      <th></th>\n",
       "      <th>Player_name</th>\n",
       "      <th>Player_height</th>\n",
       "    </tr>\n",
       "  </thead>\n",
       "  <tbody>\n",
       "    <tr>\n",
       "      <th>0</th>\n",
       "      <td>Kristof van Hout</td>\n",
       "      <td>208</td>\n",
       "    </tr>\n",
       "  </tbody>\n",
       "</table>\n",
       "</div>"
      ],
      "text/plain": [
       "        Player_name  Player_height\n",
       "0  Kristof van Hout            208"
      ]
     },
     "execution_count": 36,
     "metadata": {},
     "output_type": "execute_result"
    }
   ],
   "source": [
    "Tallest_player"
   ]
  },
  {
   "cell_type": "markdown",
   "id": "6719795b",
   "metadata": {
    "papermill": {
     "duration": 0.025768,
     "end_time": "2022-09-10T06:23:09.913346",
     "exception": false,
     "start_time": "2022-09-10T06:23:09.887578",
     "status": "completed"
    },
    "tags": []
   },
   "source": [
    "We notice that the Belgian Goalkeeper \"Kristof van Hout\" was the tallest player."
   ]
  },
  {
   "cell_type": "markdown",
   "id": "6ce05f51",
   "metadata": {
    "papermill": {
     "duration": 0.025332,
     "end_time": "2022-09-10T06:23:09.964076",
     "exception": false,
     "start_time": "2022-09-10T06:23:09.938744",
     "status": "completed"
    },
    "tags": []
   },
   "source": [
    "### Research Question 8 : What was the most prefered foot between players (Right foot or Left foot ) ?\n"
   ]
  },
  {
   "cell_type": "code",
   "execution_count": 37,
   "id": "59ee306e",
   "metadata": {
    "execution": {
     "iopub.execute_input": "2022-09-10T06:23:10.018207Z",
     "iopub.status.busy": "2022-09-10T06:23:10.017428Z",
     "iopub.status.idle": "2022-09-10T06:23:10.034150Z",
     "shell.execute_reply": "2022-09-10T06:23:10.033026Z"
    },
    "papermill": {
     "duration": 0.046806,
     "end_time": "2022-09-10T06:23:10.036605",
     "exception": false,
     "start_time": "2022-09-10T06:23:09.989799",
     "status": "completed"
    },
    "tags": []
   },
   "outputs": [],
   "source": [
    "Right_lef_foot = df['preferred_foot'].value_counts()"
   ]
  },
  {
   "cell_type": "code",
   "execution_count": 38,
   "id": "6c2a8b2a",
   "metadata": {
    "execution": {
     "iopub.execute_input": "2022-09-10T06:23:10.089771Z",
     "iopub.status.busy": "2022-09-10T06:23:10.089378Z",
     "iopub.status.idle": "2022-09-10T06:23:10.199814Z",
     "shell.execute_reply": "2022-09-10T06:23:10.198477Z"
    },
    "papermill": {
     "duration": 0.140797,
     "end_time": "2022-09-10T06:23:10.203159",
     "exception": false,
     "start_time": "2022-09-10T06:23:10.062362",
     "status": "completed"
    },
    "tags": []
   },
   "outputs": [
    {
     "data": {
      "image/png": "[encoded data removed]",
      "text/plain": [
       "<Figure size 432x288 with 1 Axes>"
      ]
     },
     "metadata": {},
     "output_type": "display_data"
    }
   ],
   "source": [
    "# Data visualization using matlibplot and seaborn libraries\n",
    "# define Seaborn color palette to use\n",
    "palette_color = sns.color_palette('RdYlGn')\n",
    "  \n",
    "# plotting data on chart\n",
    "plt.pie(Right_lef_foot.values, labels = Right_lef_foot.index,explode=[0.1, 0.0] ,colors = palette_color, \n",
    "        autopct ='%.1f%%', shadow = True)\n",
    "plt.title(\"Percentage of right foot players to left foot players\")  \n",
    "# displaying chart\n",
    "plt.show()"
   ]
  },
  {
   "cell_type": "markdown",
   "id": "fd9973af",
   "metadata": {
    "papermill": {
     "duration": 0.042214,
     "end_time": "2022-09-10T06:23:10.286851",
     "exception": false,
     "start_time": "2022-09-10T06:23:10.244637",
     "status": "completed"
    },
    "tags": []
   },
   "source": [
    "From the pie chart above we can notice that the right_foot player were dominant in numbers by 75.5%"
   ]
  },
  {
   "cell_type": "markdown",
   "id": "ddc258d1",
   "metadata": {
    "papermill": {
     "duration": 0.025546,
     "end_time": "2022-09-10T06:23:10.341220",
     "exception": false,
     "start_time": "2022-09-10T06:23:10.315674",
     "status": "completed"
    },
    "tags": []
   },
   "source": [
    "                ******************************************************"
   ]
  },
  {
   "cell_type": "markdown",
   "id": "9c2d2bfc",
   "metadata": {
    "papermill": {
     "duration": 0.02656,
     "end_time": "2022-09-10T06:23:10.394342",
     "exception": false,
     "start_time": "2022-09-10T06:23:10.367782",
     "status": "completed"
    },
    "tags": []
   },
   "source": [
    " ### Research Question 9 : Which players had the most Freekick accuracy ?"
   ]
  },
  {
   "cell_type": "code",
   "execution_count": 39,
   "id": "f293efab",
   "metadata": {
    "execution": {
     "iopub.execute_input": "2022-09-10T06:23:10.448489Z",
     "iopub.status.busy": "2022-09-10T06:23:10.447669Z",
     "iopub.status.idle": "2022-09-10T06:23:10.478692Z",
     "shell.execute_reply": "2022-09-10T06:23:10.477654Z"
    },
    "papermill": {
     "duration": 0.061044,
     "end_time": "2022-09-10T06:23:10.481194",
     "exception": false,
     "start_time": "2022-09-10T06:23:10.420150",
     "status": "completed"
    },
    "tags": []
   },
   "outputs": [],
   "source": [
    "# Let's select players with the highest freekick accuracy\n",
    "Top_freekick_players = df.groupby('player_name')['free_kick_accuracy'].max().nlargest(6).round(1)"
   ]
  },
  {
   "cell_type": "code",
   "execution_count": 40,
   "id": "370629f2",
   "metadata": {
    "execution": {
     "iopub.execute_input": "2022-09-10T06:23:10.535322Z",
     "iopub.status.busy": "2022-09-10T06:23:10.534493Z",
     "iopub.status.idle": "2022-09-10T06:23:10.539851Z",
     "shell.execute_reply": "2022-09-10T06:23:10.539027Z"
    },
    "papermill": {
     "duration": 0.03496,
     "end_time": "2022-09-10T06:23:10.542136",
     "exception": false,
     "start_time": "2022-09-10T06:23:10.507176",
     "status": "completed"
    },
    "tags": []
   },
   "outputs": [],
   "source": [
    "# Now we can create our dataframe containing the players with the highest freekick accuracy\n",
    "df_top_freekick_players = pd.DataFrame({'Player_name': Top_freekick_players.index,\n",
    "                                        'Freekick_accuracy': Top_freekick_players.values})"
   ]
  },
  {
   "cell_type": "code",
   "execution_count": 41,
   "id": "d3096574",
   "metadata": {
    "execution": {
     "iopub.execute_input": "2022-09-10T06:23:10.595846Z",
     "iopub.status.busy": "2022-09-10T06:23:10.595110Z",
     "iopub.status.idle": "2022-09-10T06:23:10.605844Z",
     "shell.execute_reply": "2022-09-10T06:23:10.604707Z"
    },
    "papermill": {
     "duration": 0.040225,
     "end_time": "2022-09-10T06:23:10.608218",
     "exception": false,
     "start_time": "2022-09-10T06:23:10.567993",
     "status": "completed"
    },
    "tags": []
   },
   "outputs": [
    {
     "data": {
      "text/html": [
       "<div>\n",
       "<style scoped>\n",
       "    .dataframe tbody tr th:only-of-type {\n",
       "        vertical-align: middle;\n",
       "    }\n",
       "\n",
       "    .dataframe tbody tr th {\n",
       "        vertical-align: top;\n",
       "    }\n",
       "\n",
       "    .dataframe thead th {\n",
       "        text-align: right;\n",
       "    }\n",
       "</style>\n",
       "<table border=\"1\" class=\"dataframe\">\n",
       "  <thead>\n",
       "    <tr style=\"text-align: right;\">\n",
       "      <th></th>\n",
       "      <th>Player_name</th>\n",
       "      <th>Freekick_accuracy</th>\n",
       "    </tr>\n",
       "  </thead>\n",
       "  <tbody>\n",
       "    <tr>\n",
       "      <th>0</th>\n",
       "      <td>Juninho Pernambucano,20</td>\n",
       "      <td>97.0</td>\n",
       "    </tr>\n",
       "    <tr>\n",
       "      <th>1</th>\n",
       "      <td>Alessandro Del Piero</td>\n",
       "      <td>96.0</td>\n",
       "    </tr>\n",
       "    <tr>\n",
       "      <th>2</th>\n",
       "      <td>David Beckham</td>\n",
       "      <td>96.0</td>\n",
       "    </tr>\n",
       "    <tr>\n",
       "      <th>3</th>\n",
       "      <td>Hakan Calhanoglu</td>\n",
       "      <td>95.0</td>\n",
       "    </tr>\n",
       "    <tr>\n",
       "      <th>4</th>\n",
       "      <td>Andrea Pirlo</td>\n",
       "      <td>94.0</td>\n",
       "    </tr>\n",
       "    <tr>\n",
       "      <th>5</th>\n",
       "      <td>Cristiano Ronaldo</td>\n",
       "      <td>94.0</td>\n",
       "    </tr>\n",
       "  </tbody>\n",
       "</table>\n",
       "</div>"
      ],
      "text/plain": [
       "               Player_name  Freekick_accuracy\n",
       "0  Juninho Pernambucano,20               97.0\n",
       "1     Alessandro Del Piero               96.0\n",
       "2            David Beckham               96.0\n",
       "3         Hakan Calhanoglu               95.0\n",
       "4             Andrea Pirlo               94.0\n",
       "5        Cristiano Ronaldo               94.0"
      ]
     },
     "execution_count": 41,
     "metadata": {},
     "output_type": "execute_result"
    }
   ],
   "source": [
    "df_top_freekick_players"
   ]
  },
  {
   "cell_type": "code",
   "execution_count": 42,
   "id": "d05ebf21",
   "metadata": {
    "execution": {
     "iopub.execute_input": "2022-09-10T06:23:10.662755Z",
     "iopub.status.busy": "2022-09-10T06:23:10.662274Z",
     "iopub.status.idle": "2022-09-10T06:23:10.829855Z",
     "shell.execute_reply": "2022-09-10T06:23:10.828385Z"
    },
    "papermill": {
     "duration": 0.198716,
     "end_time": "2022-09-10T06:23:10.833337",
     "exception": false,
     "start_time": "2022-09-10T06:23:10.634621",
     "status": "completed"
    },
    "tags": []
   },
   "outputs": [
    {
     "data": {
      "image/png": "[encoded data removed]",
      "text/plain": [
       "<Figure size 432x288 with 1 Axes>"
      ]
     },
     "metadata": {},
     "output_type": "display_data"
    }
   ],
   "source": [
    "# Data visualization using matlibplot and seaborn libraries\n",
    "# define Seaborn color palette to use\n",
    "palette_color = sns.color_palette('deep')\n",
    "  \n",
    "# plotting data on chart\n",
    "plt.pie(df_top_freekick_players.Freekick_accuracy, labels = df_top_freekick_players.Player_name,\n",
    "        explode=[0.3, 0.1, 0.1, 0.1, 0,0] ,colors = palette_color,autopct ='%.1f%%', shadow = True)\n",
    "plt.title(\"Top rated free_kick players\")        \n",
    "#  displaying chart\n",
    "plt.show()"
   ]
  },
  {
   "cell_type": "markdown",
   "id": "35a12213",
   "metadata": {
    "papermill": {
     "duration": 0.028347,
     "end_time": "2022-09-10T06:23:10.908797",
     "exception": false,
     "start_time": "2022-09-10T06:23:10.880450",
     "status": "completed"
    },
    "tags": []
   },
   "source": [
    "So, the Brazilian midfielder \"Juninho Pernambucano\" was the player with highest freekick accuracy."
   ]
  },
  {
   "cell_type": "markdown",
   "id": "0be48df2",
   "metadata": {
    "papermill": {
     "duration": 0.026346,
     "end_time": "2022-09-10T06:23:10.961959",
     "exception": false,
     "start_time": "2022-09-10T06:23:10.935613",
     "status": "completed"
    },
    "tags": []
   },
   "source": [
    "                    ******************************************************"
   ]
  },
  {
   "cell_type": "markdown",
   "id": "a9ed0a85",
   "metadata": {
    "papermill": {
     "duration": 0.027218,
     "end_time": "2022-09-10T06:23:11.015968",
     "exception": false,
     "start_time": "2022-09-10T06:23:10.988750",
     "status": "completed"
    },
    "tags": []
   },
   "source": [
    " ### Research Question 10 : Who were the fastest players ?\n",
    " "
   ]
  },
  {
   "cell_type": "code",
   "execution_count": 43,
   "id": "826947e2",
   "metadata": {
    "execution": {
     "iopub.execute_input": "2022-09-10T06:23:11.071887Z",
     "iopub.status.busy": "2022-09-10T06:23:11.071419Z",
     "iopub.status.idle": "2022-09-10T06:23:11.082813Z",
     "shell.execute_reply": "2022-09-10T06:23:11.081570Z"
    },
    "papermill": {
     "duration": 0.042456,
     "end_time": "2022-09-10T06:23:11.085522",
     "exception": false,
     "start_time": "2022-09-10T06:23:11.043066",
     "status": "completed"
    },
    "tags": []
   },
   "outputs": [
    {
     "name": "stderr",
     "output_type": "stream",
     "text": [
      "/opt/conda/lib/python3.7/site-packages/ipykernel_launcher.py:4: SettingWithCopyWarning:\n",
      "\n",
      "\n",
      "A value is trying to be set on a copy of a slice from a DataFrame.\n",
      "Try using .loc[row_indexer,col_indexer] = value instead\n",
      "\n",
      "See the caveats in the documentation: https://pandas.pydata.org/pandas-docs/stable/user_guide/indexing.html#returning-a-view-versus-a-copy\n",
      "\n"
     ]
    }
   ],
   "source": [
    "# Creating fast players dataframe\n",
    "Fast_players_attributes = ['player_name', 'sprint_speed']\n",
    "Fast_players = df[Fast_players_attributes] \n",
    "Fast_players['Speed_rating'] = (Fast_players.sprint_speed)"
   ]
  },
  {
   "cell_type": "code",
   "execution_count": 44,
   "id": "764664ae",
   "metadata": {
    "execution": {
     "iopub.execute_input": "2022-09-10T06:23:11.142531Z",
     "iopub.status.busy": "2022-09-10T06:23:11.141481Z",
     "iopub.status.idle": "2022-09-10T06:23:11.173227Z",
     "shell.execute_reply": "2022-09-10T06:23:11.172078Z"
    },
    "papermill": {
     "duration": 0.062679,
     "end_time": "2022-09-10T06:23:11.175724",
     "exception": false,
     "start_time": "2022-09-10T06:23:11.113045",
     "status": "completed"
    },
    "tags": []
   },
   "outputs": [],
   "source": [
    "# Select the fastest players\n",
    "Fastest_palyers = df.groupby('player_name')['sprint_speed'].max().nlargest(10)"
   ]
  },
  {
   "cell_type": "code",
   "execution_count": 45,
   "id": "e197081a",
   "metadata": {
    "execution": {
     "iopub.execute_input": "2022-09-10T06:23:11.231486Z",
     "iopub.status.busy": "2022-09-10T06:23:11.231064Z",
     "iopub.status.idle": "2022-09-10T06:23:11.237075Z",
     "shell.execute_reply": "2022-09-10T06:23:11.235753Z"
    },
    "papermill": {
     "duration": 0.036535,
     "end_time": "2022-09-10T06:23:11.239328",
     "exception": false,
     "start_time": "2022-09-10T06:23:11.202793",
     "status": "completed"
    },
    "tags": []
   },
   "outputs": [],
   "source": [
    "# Creating our dataframe\n",
    "Top_fastest_players = pd.DataFrame({'Player_name':Fastest_palyers.index,\n",
    "                                     'speed_rating':Fastest_palyers.values})"
   ]
  },
  {
   "cell_type": "code",
   "execution_count": 46,
   "id": "d0275cd8",
   "metadata": {
    "execution": {
     "iopub.execute_input": "2022-09-10T06:23:11.296309Z",
     "iopub.status.busy": "2022-09-10T06:23:11.295489Z",
     "iopub.status.idle": "2022-09-10T06:23:11.307693Z",
     "shell.execute_reply": "2022-09-10T06:23:11.306566Z"
    },
    "papermill": {
     "duration": 0.043347,
     "end_time": "2022-09-10T06:23:11.310195",
     "exception": false,
     "start_time": "2022-09-10T06:23:11.266848",
     "status": "completed"
    },
    "tags": []
   },
   "outputs": [
    {
     "data": {
      "text/html": [
       "<div>\n",
       "<style scoped>\n",
       "    .dataframe tbody tr th:only-of-type {\n",
       "        vertical-align: middle;\n",
       "    }\n",
       "\n",
       "    .dataframe tbody tr th {\n",
       "        vertical-align: top;\n",
       "    }\n",
       "\n",
       "    .dataframe thead th {\n",
       "        text-align: right;\n",
       "    }\n",
       "</style>\n",
       "<table border=\"1\" class=\"dataframe\">\n",
       "  <thead>\n",
       "    <tr style=\"text-align: right;\">\n",
       "      <th></th>\n",
       "      <th>Player_name</th>\n",
       "      <th>speed_rating</th>\n",
       "    </tr>\n",
       "  </thead>\n",
       "  <tbody>\n",
       "    <tr>\n",
       "      <th>0</th>\n",
       "      <td>David Odonkor</td>\n",
       "      <td>97.0</td>\n",
       "    </tr>\n",
       "    <tr>\n",
       "      <th>1</th>\n",
       "      <td>Mathis Bolly</td>\n",
       "      <td>97.0</td>\n",
       "    </tr>\n",
       "    <tr>\n",
       "      <th>2</th>\n",
       "      <td>Gabriel Agbonlahor</td>\n",
       "      <td>96.0</td>\n",
       "    </tr>\n",
       "    <tr>\n",
       "      <th>3</th>\n",
       "      <td>Ivan Cordoba</td>\n",
       "      <td>96.0</td>\n",
       "    </tr>\n",
       "    <tr>\n",
       "      <th>4</th>\n",
       "      <td>Jonathan Biabiany</td>\n",
       "      <td>96.0</td>\n",
       "    </tr>\n",
       "    <tr>\n",
       "      <th>5</th>\n",
       "      <td>Pierre-Emerick Aubameyang</td>\n",
       "      <td>96.0</td>\n",
       "    </tr>\n",
       "    <tr>\n",
       "      <th>6</th>\n",
       "      <td>Theo Walcott</td>\n",
       "      <td>96.0</td>\n",
       "    </tr>\n",
       "    <tr>\n",
       "      <th>7</th>\n",
       "      <td>Aaron Lennon</td>\n",
       "      <td>95.0</td>\n",
       "    </tr>\n",
       "    <tr>\n",
       "      <th>8</th>\n",
       "      <td>DaMarcus Beasley</td>\n",
       "      <td>95.0</td>\n",
       "    </tr>\n",
       "    <tr>\n",
       "      <th>9</th>\n",
       "      <td>Gareth Bale</td>\n",
       "      <td>95.0</td>\n",
       "    </tr>\n",
       "  </tbody>\n",
       "</table>\n",
       "</div>"
      ],
      "text/plain": [
       "                 Player_name  speed_rating\n",
       "0              David Odonkor          97.0\n",
       "1               Mathis Bolly          97.0\n",
       "2         Gabriel Agbonlahor          96.0\n",
       "3               Ivan Cordoba          96.0\n",
       "4          Jonathan Biabiany          96.0\n",
       "5  Pierre-Emerick Aubameyang          96.0\n",
       "6               Theo Walcott          96.0\n",
       "7               Aaron Lennon          95.0\n",
       "8           DaMarcus Beasley          95.0\n",
       "9                Gareth Bale          95.0"
      ]
     },
     "execution_count": 46,
     "metadata": {},
     "output_type": "execute_result"
    }
   ],
   "source": [
    "Top_fastest_players"
   ]
  },
  {
   "cell_type": "markdown",
   "id": "7628f3af",
   "metadata": {
    "papermill": {
     "duration": 0.027747,
     "end_time": "2022-09-10T06:23:11.366267",
     "exception": false,
     "start_time": "2022-09-10T06:23:11.338520",
     "status": "completed"
    },
    "tags": []
   },
   "source": [
    "---> here, we notice that the player \"Mathis Bolly\" from Côte d'Ivoire (Ivory Coast) and \"David Odonkor\" from Germany were the fastest players."
   ]
  },
  {
   "cell_type": "markdown",
   "id": "afd8a691",
   "metadata": {
    "papermill": {
     "duration": 0.027945,
     "end_time": "2022-09-10T06:23:11.421914",
     "exception": false,
     "start_time": "2022-09-10T06:23:11.393969",
     "status": "completed"
    },
    "tags": []
   },
   "source": [
    "                   ******************************************************"
   ]
  },
  {
   "cell_type": "markdown",
   "id": "ff0c3007",
   "metadata": {
    "papermill": {
     "duration": 0.026897,
     "end_time": "2022-09-10T06:23:11.476324",
     "exception": false,
     "start_time": "2022-09-10T06:23:11.449427",
     "status": "completed"
    },
    "tags": []
   },
   "source": [
    "### Research Question 11 : At which year did EA Sports' FIFA video game company make the most updates on players_attributes ? \n"
   ]
  },
  {
   "cell_type": "code",
   "execution_count": 47,
   "id": "f19ae2ee",
   "metadata": {
    "execution": {
     "iopub.execute_input": "2022-09-10T06:23:11.533495Z",
     "iopub.status.busy": "2022-09-10T06:23:11.532326Z",
     "iopub.status.idle": "2022-09-10T06:23:11.540305Z",
     "shell.execute_reply": "2022-09-10T06:23:11.539202Z"
    },
    "papermill": {
     "duration": 0.038813,
     "end_time": "2022-09-10T06:23:11.542746",
     "exception": false,
     "start_time": "2022-09-10T06:23:11.503933",
     "status": "completed"
    },
    "tags": []
   },
   "outputs": [],
   "source": [
    "Year = df['year'].value_counts()"
   ]
  },
  {
   "cell_type": "code",
   "execution_count": 48,
   "id": "2bb9c0cf",
   "metadata": {
    "execution": {
     "iopub.execute_input": "2022-09-10T06:23:11.599019Z",
     "iopub.status.busy": "2022-09-10T06:23:11.598591Z",
     "iopub.status.idle": "2022-09-10T06:23:11.677812Z",
     "shell.execute_reply": "2022-09-10T06:23:11.676575Z"
    },
    "papermill": {
     "duration": 0.110531,
     "end_time": "2022-09-10T06:23:11.680563",
     "exception": false,
     "start_time": "2022-09-10T06:23:11.570032",
     "status": "completed"
    },
    "tags": []
   },
   "outputs": [
    {
     "data": {
      "text/html": [
       "<div>                            <div id=\"4ffb6c82-bf21-4eea-9f97-89414731450e\" class=\"plotly-graph-div\" style=\"height:525px; width:100%;\"></div>            <script type=\"text/javascript\">                require([\"plotly\"], function(Plotly) {                    window.PLOTLYENV=window.PLOTLYENV || {};                                    if (document.getElementById(\"4ffb6c82-bf21-4eea-9f97-89414731450e\")) {                    Plotly.newPlot(                        \"4ffb6c82-bf21-4eea-9f97-89414731450e\",                        [{\"domain\":{\"x\":[0.0,1.0],\"y\":[0.0,1.0]},\"hovertemplate\":\"<b>%{hovertext}</b><br><br>label=%{label}<br>value=%{value}<extra></extra>\",\"hovertext\":[2013.0,2014.0,2015.0,2007.0,2016.0,2012.0,2011.0,2010.0,2009.0,2008.0],\"labels\":[2013,2014,2015,2007,2016,2012,2011,2010,2009,2008],\"legendgroup\":\"\",\"name\":\"\",\"showlegend\":true,\"values\":[38799,32765,31779,14330,14084,12619,11858,10389,8358,5247],\"type\":\"pie\",\"textinfo\":\"percent+label\",\"textposition\":\"inside\",\"pull\":[0.1,0,0,0,0,0,0,0,0,0]}],                        {\"template\":{\"data\":{\"histogram2dcontour\":[{\"type\":\"histogram2dcontour\",\"colorbar\":{\"outlinewidth\":0,\"ticks\":\"\"},\"colorscale\":[[0.0,\"#0d0887\"],[0.1111111111111111,\"#46039f\"],[0.2222222222222222,\"#7201a8\"],[0.3333333333333333,\"#9c179e\"],[0.4444444444444444,\"#bd3786\"],[0.5555555555555556,\"#d8576b\"],[0.6666666666666666,\"#ed7953\"],[0.7777777777777778,\"#fb9f3a\"],[0.8888888888888888,\"#fdca26\"],[1.0,\"#f0f921\"]]}],\"choropleth\":[{\"type\":\"choropleth\",\"colorbar\":{\"outlinewidth\":0,\"ticks\":\"\"}}],\"histogram2d\":[{\"type\":\"histogram2d\",\"colorbar\":{\"outlinewidth\":0,\"ticks\":\"\"},\"colorscale\":[[0.0,\"#0d0887\"],[0.1111111111111111,\"#46039f\"],[0.2222222222222222,\"#7201a8\"],[0.3333333333333333,\"#9c179e\"],[0.4444444444444444,\"#bd3786\"],[0.5555555555555556,\"#d8576b\"],[0.6666666666666666,\"#ed7953\"],[0.7777777777777778,\"#fb9f3a\"],[0.8888888888888888,\"#fdca26\"],[1.0,\"#f0f921\"]]}],\"heatmap\":[{\"type\":\"heatmap\",\"colorbar\":{\"outlinewidth\":0,\"ticks\":\"\"},\"colorscale\":[[0.0,\"#0d0887\"],[0.1111111111111111,\"#46039f\"],[0.2222222222222222,\"#7201a8\"],[0.3333333333333333,\"#9c179e\"],[0.4444444444444444,\"#bd3786\"],[0.5555555555555556,\"#d8576b\"],[0.6666666666666666,\"#ed7953\"],[0.7777777777777778,\"#fb9f3a\"],[0.8888888888888888,\"#fdca26\"],[1.0,\"#f0f921\"]]}],\"heatmapgl\":[{\"type\":\"heatmapgl\",\"colorbar\":{\"outlinewidth\":0,\"ticks\":\"\"},\"colorscale\":[[0.0,\"#0d0887\"],[0.1111111111111111,\"#46039f\"],[0.2222222222222222,\"#7201a8\"],[0.3333333333333333,\"#9c179e\"],[0.4444444444444444,\"#bd3786\"],[0.5555555555555556,\"#d8576b\"],[0.6666666666666666,\"#ed7953\"],[0.7777777777777778,\"#fb9f3a\"],[0.8888888888888888,\"#fdca26\"],[1.0,\"#f0f921\"]]}],\"contourcarpet\":[{\"type\":\"contourcarpet\",\"colorbar\":{\"outlinewidth\":0,\"ticks\":\"\"}}],\"contour\":[{\"type\":\"contour\",\"colorbar\":{\"outlinewidth\":0,\"ticks\":\"\"},\"colorscale\":[[0.0,\"#0d0887\"],[0.1111111111111111,\"#46039f\"],[0.2222222222222222,\"#7201a8\"],[0.3333333333333333,\"#9c179e\"],[0.4444444444444444,\"#bd3786\"],[0.5555555555555556,\"#d8576b\"],[0.6666666666666666,\"#ed7953\"],[0.7777777777777778,\"#fb9f3a\"],[0.8888888888888888,\"#fdca26\"],[1.0,\"#f0f921\"]]}],\"surface\":[{\"type\":\"surface\",\"colorbar\":{\"outlinewidth\":0,\"ticks\":\"\"},\"colorscale\":[[0.0,\"#0d0887\"],[0.1111111111111111,\"#46039f\"],[0.2222222222222222,\"#7201a8\"],[0.3333333333333333,\"#9c179e\"],[0.4444444444444444,\"#bd3786\"],[0.5555555555555556,\"#d8576b\"],[0.6666666666666666,\"#ed7953\"],[0.7777777777777778,\"#fb9f3a\"],[0.8888888888888888,\"#fdca26\"],[1.0,\"#f0f921\"]]}],\"mesh3d\":[{\"type\":\"mesh3d\",\"colorbar\":{\"outlinewidth\":0,\"ticks\":\"\"}}],\"scatter\":[{\"fillpattern\":{\"fillmode\":\"overlay\",\"size\":10,\"solidity\":0.2},\"type\":\"scatter\"}],\"parcoords\":[{\"type\":\"parcoords\",\"line\":{\"colorbar\":{\"outlinewidth\":0,\"ticks\":\"\"}}}],\"scatterpolargl\":[{\"type\":\"scatterpolargl\",\"marker\":{\"colorbar\":{\"outlinewidth\":0,\"ticks\":\"\"}}}],\"bar\":[{\"error_x\":{\"color\":\"#2a3f5f\"},\"error_y\":{\"color\":\"#2a3f5f\"},\"marker\":{\"line\":{\"color\":\"#E5ECF6\",\"width\":0.5},\"pattern\":{\"fillmode\":\"overlay\",\"size\":10,\"solidity\":0.2}},\"type\":\"bar\"}],\"scattergeo\":[{\"type\":\"scattergeo\",\"marker\":{\"colorbar\":{\"outlinewidth\":0,\"ticks\":\"\"}}}],\"scatterpolar\":[{\"type\":\"scatterpolar\",\"marker\":{\"colorbar\":{\"outlinewidth\":0,\"ticks\":\"\"}}}],\"histogram\":[{\"marker\":{\"pattern\":{\"fillmode\":\"overlay\",\"size\":10,\"solidity\":0.2}},\"type\":\"histogram\"}],\"scattergl\":[{\"type\":\"scattergl\",\"marker\":{\"colorbar\":{\"outlinewidth\":0,\"ticks\":\"\"}}}],\"scatter3d\":[{\"type\":\"scatter3d\",\"line\":{\"colorbar\":{\"outlinewidth\":0,\"ticks\":\"\"}},\"marker\":{\"colorbar\":{\"outlinewidth\":0,\"ticks\":\"\"}}}],\"scattermapbox\":[{\"type\":\"scattermapbox\",\"marker\":{\"colorbar\":{\"outlinewidth\":0,\"ticks\":\"\"}}}],\"scatterternary\":[{\"type\":\"scatterternary\",\"marker\":{\"colorbar\":{\"outlinewidth\":0,\"ticks\":\"\"}}}],\"scattercarpet\":[{\"type\":\"scattercarpet\",\"marker\":{\"colorbar\":{\"outlinewidth\":0,\"ticks\":\"\"}}}],\"carpet\":[{\"aaxis\":{\"endlinecolor\":\"#2a3f5f\",\"gridcolor\":\"white\",\"linecolor\":\"white\",\"minorgridcolor\":\"white\",\"startlinecolor\":\"#2a3f5f\"},\"baxis\":{\"endlinecolor\":\"#2a3f5f\",\"gridcolor\":\"white\",\"linecolor\":\"white\",\"minorgridcolor\":\"white\",\"startlinecolor\":\"#2a3f5f\"},\"type\":\"carpet\"}],\"table\":[{\"cells\":{\"fill\":{\"color\":\"#EBF0F8\"},\"line\":{\"color\":\"white\"}},\"header\":{\"fill\":{\"color\":\"#C8D4E3\"},\"line\":{\"color\":\"white\"}},\"type\":\"table\"}],\"barpolar\":[{\"marker\":{\"line\":{\"color\":\"#E5ECF6\",\"width\":0.5},\"pattern\":{\"fillmode\":\"overlay\",\"size\":10,\"solidity\":0.2}},\"type\":\"barpolar\"}],\"pie\":[{\"automargin\":true,\"type\":\"pie\"}]},\"layout\":{\"autotypenumbers\":\"strict\",\"colorway\":[\"#636efa\",\"#EF553B\",\"#00cc96\",\"#ab63fa\",\"#FFA15A\",\"#19d3f3\",\"#FF6692\",\"#B6E880\",\"#FF97FF\",\"#FECB52\"],\"font\":{\"color\":\"#2a3f5f\"},\"hovermode\":\"closest\",\"hoverlabel\":{\"align\":\"left\"},\"paper_bgcolor\":\"white\",\"plot_bgcolor\":\"#E5ECF6\",\"polar\":{\"bgcolor\":\"#E5ECF6\",\"angularaxis\":{\"gridcolor\":\"white\",\"linecolor\":\"white\",\"ticks\":\"\"},\"radialaxis\":{\"gridcolor\":\"white\",\"linecolor\":\"white\",\"ticks\":\"\"}},\"ternary\":{\"bgcolor\":\"#E5ECF6\",\"aaxis\":{\"gridcolor\":\"white\",\"linecolor\":\"white\",\"ticks\":\"\"},\"baxis\":{\"gridcolor\":\"white\",\"linecolor\":\"white\",\"ticks\":\"\"},\"caxis\":{\"gridcolor\":\"white\",\"linecolor\":\"white\",\"ticks\":\"\"}},\"coloraxis\":{\"colorbar\":{\"outlinewidth\":0,\"ticks\":\"\"}},\"colorscale\":{\"sequential\":[[0.0,\"#0d0887\"],[0.1111111111111111,\"#46039f\"],[0.2222222222222222,\"#7201a8\"],[0.3333333333333333,\"#9c179e\"],[0.4444444444444444,\"#bd3786\"],[0.5555555555555556,\"#d8576b\"],[0.6666666666666666,\"#ed7953\"],[0.7777777777777778,\"#fb9f3a\"],[0.8888888888888888,\"#fdca26\"],[1.0,\"#f0f921\"]],\"sequentialminus\":[[0.0,\"#0d0887\"],[0.1111111111111111,\"#46039f\"],[0.2222222222222222,\"#7201a8\"],[0.3333333333333333,\"#9c179e\"],[0.4444444444444444,\"#bd3786\"],[0.5555555555555556,\"#d8576b\"],[0.6666666666666666,\"#ed7953\"],[0.7777777777777778,\"#fb9f3a\"],[0.8888888888888888,\"#fdca26\"],[1.0,\"#f0f921\"]],\"diverging\":[[0,\"#8e0152\"],[0.1,\"#c51b7d\"],[0.2,\"#de77ae\"],[0.3,\"#f1b6da\"],[0.4,\"#fde0ef\"],[0.5,\"#f7f7f7\"],[0.6,\"#e6f5d0\"],[0.7,\"#b8e186\"],[0.8,\"#7fbc41\"],[0.9,\"#4d9221\"],[1,\"#276419\"]]},\"xaxis\":{\"gridcolor\":\"white\",\"linecolor\":\"white\",\"ticks\":\"\",\"title\":{\"standoff\":15},\"zerolinecolor\":\"white\",\"automargin\":true,\"zerolinewidth\":2},\"yaxis\":{\"gridcolor\":\"white\",\"linecolor\":\"white\",\"ticks\":\"\",\"title\":{\"standoff\":15},\"zerolinecolor\":\"white\",\"automargin\":true,\"zerolinewidth\":2},\"scene\":{\"xaxis\":{\"backgroundcolor\":\"#E5ECF6\",\"gridcolor\":\"white\",\"linecolor\":\"white\",\"showbackground\":true,\"ticks\":\"\",\"zerolinecolor\":\"white\",\"gridwidth\":2},\"yaxis\":{\"backgroundcolor\":\"#E5ECF6\",\"gridcolor\":\"white\",\"linecolor\":\"white\",\"showbackground\":true,\"ticks\":\"\",\"zerolinecolor\":\"white\",\"gridwidth\":2},\"zaxis\":{\"backgroundcolor\":\"#E5ECF6\",\"gridcolor\":\"white\",\"linecolor\":\"white\",\"showbackground\":true,\"ticks\":\"\",\"zerolinecolor\":\"white\",\"gridwidth\":2}},\"shapedefaults\":{\"line\":{\"color\":\"#2a3f5f\"}},\"annotationdefaults\":{\"arrowcolor\":\"#2a3f5f\",\"arrowhead\":0,\"arrowwidth\":1},\"geo\":{\"bgcolor\":\"white\",\"landcolor\":\"#E5ECF6\",\"subunitcolor\":\"white\",\"showland\":true,\"showlakes\":true,\"lakecolor\":\"white\"},\"title\":{\"x\":0.05},\"mapbox\":{\"style\":\"light\"}}},\"legend\":{\"tracegroupgap\":0},\"title\":{\"text\":\"Number of player_attributes update for each year\"}},                        {\"responsive\": true}                    ).then(function(){\n",
       "                            \n",
       "var gd = document.getElementById('4ffb6c82-bf21-4eea-9f97-89414731450e');\n",
       "var x = new MutationObserver(function (mutations, observer) {{\n",
       "        var display = window.getComputedStyle(gd).display;\n",
       "        if (!display || display === 'none') {{\n",
       "            console.log([gd, 'removed!']);\n",
       "            Plotly.purge(gd);\n",
       "            observer.disconnect();\n",
       "        }}\n",
       "}});\n",
       "\n",
       "// Listen for the removal of the full notebook cells\n",
       "var notebookContainer = gd.closest('#notebook-container');\n",
       "if (notebookContainer) {{\n",
       "    x.observe(notebookContainer, {childList: true});\n",
       "}}\n",
       "\n",
       "// Listen for the clearing of the current output cell\n",
       "var outputEl = gd.closest('.output');\n",
       "if (outputEl) {{\n",
       "    x.observe(outputEl, {childList: true});\n",
       "}}\n",
       "\n",
       "                        })                };                });            </script>        </div>"
      ]
     },
     "metadata": {},
     "output_type": "display_data"
    }
   ],
   "source": [
    "# Using plotely express for visualizing our answer\n",
    "Pie_chart = px.pie(values = Year.values, labels= Year.index, hover_name = Year.index,\n",
    "            title='Number of player_attributes update for each year', names= Year.index)\n",
    "Pie_chart.update_traces(textposition='inside', textinfo='percent+label')\n",
    "Pie_chart.update_traces(pull=[0.1, 0, 0, 0, 0, 0, 0, 0, 0, 0])\n",
    "Pie_chart.show()"
   ]
  },
  {
   "cell_type": "markdown",
   "id": "7df9a726",
   "metadata": {
    "papermill": {
     "duration": 0.027035,
     "end_time": "2022-09-10T06:23:11.735135",
     "exception": false,
     "start_time": "2022-09-10T06:23:11.708100",
     "status": "completed"
    },
    "tags": []
   },
   "source": [
    "---> We notice that \"2013\" had the most number of player_attributes updates by EAsports Fifa gaming company."
   ]
  },
  {
   "cell_type": "markdown",
   "id": "15cd03e8",
   "metadata": {
    "papermill": {
     "duration": 0.02696,
     "end_time": "2022-09-10T06:23:11.790056",
     "exception": false,
     "start_time": "2022-09-10T06:23:11.763096",
     "status": "completed"
    },
    "tags": []
   },
   "source": [
    "              *****************************************************************"
   ]
  },
  {
   "cell_type": "markdown",
   "id": "8f7b6d7c",
   "metadata": {
    "papermill": {
     "duration": 0.026744,
     "end_time": "2022-09-10T06:23:11.844057",
     "exception": false,
     "start_time": "2022-09-10T06:23:11.817313",
     "status": "completed"
    },
    "tags": []
   },
   "source": [
    "### Research Question 12 : How does the Overall rating correlate with other players attributes ?\n"
   ]
  },
  {
   "cell_type": "markdown",
   "id": "9515daba",
   "metadata": {
    "papermill": {
     "duration": 0.026915,
     "end_time": "2022-09-10T06:23:11.898204",
     "exception": false,
     "start_time": "2022-09-10T06:23:11.871289",
     "status": "completed"
    },
    "tags": []
   },
   "source": [
    "To answer this question, let's get the correlation of the overall rating with other attributes"
   ]
  },
  {
   "cell_type": "code",
   "execution_count": 49,
   "id": "1698b197",
   "metadata": {
    "execution": {
     "iopub.execute_input": "2022-09-10T06:23:11.955263Z",
     "iopub.status.busy": "2022-09-10T06:23:11.954489Z",
     "iopub.status.idle": "2022-09-10T06:23:12.731129Z",
     "shell.execute_reply": "2022-09-10T06:23:12.729745Z"
    },
    "papermill": {
     "duration": 0.808101,
     "end_time": "2022-09-10T06:23:12.733844",
     "exception": false,
     "start_time": "2022-09-10T06:23:11.925743",
     "status": "completed"
    },
    "tags": []
   },
   "outputs": [],
   "source": [
    "df_corr_matrix = df.corr(method='pearson')"
   ]
  },
  {
   "cell_type": "code",
   "execution_count": 50,
   "id": "ae89ab5e",
   "metadata": {
    "execution": {
     "iopub.execute_input": "2022-09-10T06:23:12.790073Z",
     "iopub.status.busy": "2022-09-10T06:23:12.789634Z",
     "iopub.status.idle": "2022-09-10T06:23:12.803130Z",
     "shell.execute_reply": "2022-09-10T06:23:12.802013Z"
    },
    "papermill": {
     "duration": 0.044463,
     "end_time": "2022-09-10T06:23:12.805587",
     "exception": false,
     "start_time": "2022-09-10T06:23:12.761124",
     "status": "completed"
    },
    "tags": []
   },
   "outputs": [
    {
     "data": {
      "text/html": [
       "<div>\n",
       "<style scoped>\n",
       "    .dataframe tbody tr th:only-of-type {\n",
       "        vertical-align: middle;\n",
       "    }\n",
       "\n",
       "    .dataframe tbody tr th {\n",
       "        vertical-align: top;\n",
       "    }\n",
       "\n",
       "    .dataframe thead th {\n",
       "        text-align: right;\n",
       "    }\n",
       "</style>\n",
       "<table border=\"1\" class=\"dataframe\">\n",
       "  <thead>\n",
       "    <tr style=\"text-align: right;\">\n",
       "      <th></th>\n",
       "      <th>overall_rating</th>\n",
       "    </tr>\n",
       "  </thead>\n",
       "  <tbody>\n",
       "    <tr>\n",
       "      <th>height</th>\n",
       "      <td>-0.004009</td>\n",
       "    </tr>\n",
       "    <tr>\n",
       "      <th>weight</th>\n",
       "      <td>0.063879</td>\n",
       "    </tr>\n",
       "    <tr>\n",
       "      <th>overall_rating</th>\n",
       "      <td>1.000000</td>\n",
       "    </tr>\n",
       "    <tr>\n",
       "      <th>potential</th>\n",
       "      <td>0.765354</td>\n",
       "    </tr>\n",
       "    <tr>\n",
       "      <th>crossing</th>\n",
       "      <td>0.357110</td>\n",
       "    </tr>\n",
       "    <tr>\n",
       "      <th>finishing</th>\n",
       "      <td>0.329897</td>\n",
       "    </tr>\n",
       "    <tr>\n",
       "      <th>heading_accuracy</th>\n",
       "      <td>0.313816</td>\n",
       "    </tr>\n",
       "    <tr>\n",
       "      <th>short_passing</th>\n",
       "      <td>0.458174</td>\n",
       "    </tr>\n",
       "    <tr>\n",
       "      <th>volleys</th>\n",
       "      <td>0.361612</td>\n",
       "    </tr>\n",
       "    <tr>\n",
       "      <th>dribbling</th>\n",
       "      <td>0.353983</td>\n",
       "    </tr>\n",
       "    <tr>\n",
       "      <th>curve</th>\n",
       "      <td>0.357268</td>\n",
       "    </tr>\n",
       "    <tr>\n",
       "      <th>free_kick_accuracy</th>\n",
       "      <td>0.349506</td>\n",
       "    </tr>\n",
       "    <tr>\n",
       "      <th>long_passing</th>\n",
       "      <td>0.434507</td>\n",
       "    </tr>\n",
       "    <tr>\n",
       "      <th>ball_control</th>\n",
       "      <td>0.443930</td>\n",
       "    </tr>\n",
       "    <tr>\n",
       "      <th>acceleration</th>\n",
       "      <td>0.243585</td>\n",
       "    </tr>\n",
       "    <tr>\n",
       "      <th>sprint_speed</th>\n",
       "      <td>0.252688</td>\n",
       "    </tr>\n",
       "    <tr>\n",
       "      <th>agility</th>\n",
       "      <td>0.239475</td>\n",
       "    </tr>\n",
       "    <tr>\n",
       "      <th>reactions</th>\n",
       "      <td>0.771831</td>\n",
       "    </tr>\n",
       "    <tr>\n",
       "      <th>balance</th>\n",
       "      <td>0.159659</td>\n",
       "    </tr>\n",
       "    <tr>\n",
       "      <th>shot_power</th>\n",
       "      <td>0.428210</td>\n",
       "    </tr>\n",
       "    <tr>\n",
       "      <th>jumping</th>\n",
       "      <td>0.259984</td>\n",
       "    </tr>\n",
       "    <tr>\n",
       "      <th>stamina</th>\n",
       "      <td>0.325639</td>\n",
       "    </tr>\n",
       "    <tr>\n",
       "      <th>strength</th>\n",
       "      <td>0.316768</td>\n",
       "    </tr>\n",
       "    <tr>\n",
       "      <th>long_shots</th>\n",
       "      <td>0.392551</td>\n",
       "    </tr>\n",
       "    <tr>\n",
       "      <th>aggression</th>\n",
       "      <td>0.322972</td>\n",
       "    </tr>\n",
       "    <tr>\n",
       "      <th>interceptions</th>\n",
       "      <td>0.249619</td>\n",
       "    </tr>\n",
       "    <tr>\n",
       "      <th>positioning</th>\n",
       "      <td>0.368788</td>\n",
       "    </tr>\n",
       "    <tr>\n",
       "      <th>vision</th>\n",
       "      <td>0.431267</td>\n",
       "    </tr>\n",
       "    <tr>\n",
       "      <th>penalties</th>\n",
       "      <td>0.392648</td>\n",
       "    </tr>\n",
       "    <tr>\n",
       "      <th>marking</th>\n",
       "      <td>0.132645</td>\n",
       "    </tr>\n",
       "    <tr>\n",
       "      <th>standing_tackle</th>\n",
       "      <td>0.164485</td>\n",
       "    </tr>\n",
       "    <tr>\n",
       "      <th>sliding_tackle</th>\n",
       "      <td>0.128477</td>\n",
       "    </tr>\n",
       "    <tr>\n",
       "      <th>gk_diving</th>\n",
       "      <td>0.027835</td>\n",
       "    </tr>\n",
       "    <tr>\n",
       "      <th>gk_handling</th>\n",
       "      <td>0.006874</td>\n",
       "    </tr>\n",
       "    <tr>\n",
       "      <th>gk_kicking</th>\n",
       "      <td>0.028956</td>\n",
       "    </tr>\n",
       "    <tr>\n",
       "      <th>gk_positioning</th>\n",
       "      <td>0.008177</td>\n",
       "    </tr>\n",
       "    <tr>\n",
       "      <th>gk_reflexes</th>\n",
       "      <td>0.007967</td>\n",
       "    </tr>\n",
       "    <tr>\n",
       "      <th>year</th>\n",
       "      <td>0.176000</td>\n",
       "    </tr>\n",
       "  </tbody>\n",
       "</table>\n",
       "</div>"
      ],
      "text/plain": [
       "                    overall_rating\n",
       "height                   -0.004009\n",
       "weight                    0.063879\n",
       "overall_rating            1.000000\n",
       "potential                 0.765354\n",
       "crossing                  0.357110\n",
       "finishing                 0.329897\n",
       "heading_accuracy          0.313816\n",
       "short_passing             0.458174\n",
       "volleys                   0.361612\n",
       "dribbling                 0.353983\n",
       "curve                     0.357268\n",
       "free_kick_accuracy        0.349506\n",
       "long_passing              0.434507\n",
       "ball_control              0.443930\n",
       "acceleration              0.243585\n",
       "sprint_speed              0.252688\n",
       "agility                   0.239475\n",
       "reactions                 0.771831\n",
       "balance                   0.159659\n",
       "shot_power                0.428210\n",
       "jumping                   0.259984\n",
       "stamina                   0.325639\n",
       "strength                  0.316768\n",
       "long_shots                0.392551\n",
       "aggression                0.322972\n",
       "interceptions             0.249619\n",
       "positioning               0.368788\n",
       "vision                    0.431267\n",
       "penalties                 0.392648\n",
       "marking                   0.132645\n",
       "standing_tackle           0.164485\n",
       "sliding_tackle            0.128477\n",
       "gk_diving                 0.027835\n",
       "gk_handling               0.006874\n",
       "gk_kicking                0.028956\n",
       "gk_positioning            0.008177\n",
       "gk_reflexes               0.007967\n",
       "year                      0.176000"
      ]
     },
     "execution_count": 50,
     "metadata": {},
     "output_type": "execute_result"
    }
   ],
   "source": [
    "df_corr_matrix[['overall_rating']]"
   ]
  },
  {
   "cell_type": "markdown",
   "id": "527f8162",
   "metadata": {
    "papermill": {
     "duration": 0.027504,
     "end_time": "2022-09-10T06:23:12.860959",
     "exception": false,
     "start_time": "2022-09-10T06:23:12.833455",
     "status": "completed"
    },
    "tags": []
   },
   "source": [
    "Now we can see that the \"Overall rating\" has a strong correlation with \"Potential\" attribute, \"Potential\" attribute means the ability of the player to develop, so it's logical that the \"Overall rating\" has this strong relationship with \"Potential\" attribute. To explain this idea farther more, let's take a player from our dataset, say \"Kaka\", and see how the \"Potential\" has a very strong effect on player progress, which here means increasing player \"Overall rating\".."
   ]
  },
  {
   "cell_type": "code",
   "execution_count": 51,
   "id": "955ab6ae",
   "metadata": {
    "execution": {
     "iopub.execute_input": "2022-09-10T06:23:12.918692Z",
     "iopub.status.busy": "2022-09-10T06:23:12.917865Z",
     "iopub.status.idle": "2022-09-10T06:23:12.935518Z",
     "shell.execute_reply": "2022-09-10T06:23:12.934573Z"
    },
    "papermill": {
     "duration": 0.049567,
     "end_time": "2022-09-10T06:23:12.938075",
     "exception": false,
     "start_time": "2022-09-10T06:23:12.888508",
     "status": "completed"
    },
    "tags": []
   },
   "outputs": [],
   "source": [
    "# Filter our data to contain information only about \"Lionel Messi\"\n",
    "Kaka = df[df['player_name'] == 'Kaka']"
   ]
  },
  {
   "cell_type": "code",
   "execution_count": 52,
   "id": "31cfe7be",
   "metadata": {
    "execution": {
     "iopub.execute_input": "2022-09-10T06:23:12.998993Z",
     "iopub.status.busy": "2022-09-10T06:23:12.998207Z",
     "iopub.status.idle": "2022-09-10T06:23:13.004971Z",
     "shell.execute_reply": "2022-09-10T06:23:13.003977Z"
    },
    "papermill": {
     "duration": 0.040212,
     "end_time": "2022-09-10T06:23:13.007692",
     "exception": false,
     "start_time": "2022-09-10T06:23:12.967480",
     "status": "completed"
    },
    "tags": []
   },
   "outputs": [],
   "source": [
    "# reset index to start from 0 to 1, 2, 3, etc.....\n",
    "Kaka.reset_index(inplace = True)\n",
    "del(Kaka['index'])"
   ]
  },
  {
   "cell_type": "code",
   "execution_count": 53,
   "id": "3f294fb9",
   "metadata": {
    "execution": {
     "iopub.execute_input": "2022-09-10T06:23:13.065362Z",
     "iopub.status.busy": "2022-09-10T06:23:13.064514Z",
     "iopub.status.idle": "2022-09-10T06:23:13.071408Z",
     "shell.execute_reply": "2022-09-10T06:23:13.070385Z"
    },
    "papermill": {
     "duration": 0.038607,
     "end_time": "2022-09-10T06:23:13.073968",
     "exception": false,
     "start_time": "2022-09-10T06:23:13.035361",
     "status": "completed"
    },
    "tags": []
   },
   "outputs": [],
   "source": [
    "# Beacouse the updates dates are ordered randomly so our data is out of order,\n",
    "# so let's order our data by date\n",
    "Kaka= Kaka.sort_values(['date'])"
   ]
  },
  {
   "cell_type": "code",
   "execution_count": 54,
   "id": "09bb02a1",
   "metadata": {
    "execution": {
     "iopub.execute_input": "2022-09-10T06:23:13.131603Z",
     "iopub.status.busy": "2022-09-10T06:23:13.131166Z",
     "iopub.status.idle": "2022-09-10T06:23:13.161813Z",
     "shell.execute_reply": "2022-09-10T06:23:13.160512Z"
    },
    "papermill": {
     "duration": 0.062559,
     "end_time": "2022-09-10T06:23:13.164289",
     "exception": false,
     "start_time": "2022-09-10T06:23:13.101730",
     "status": "completed"
    },
    "tags": []
   },
   "outputs": [
    {
     "data": {
      "text/html": [
       "<div>\n",
       "<style scoped>\n",
       "    .dataframe tbody tr th:only-of-type {\n",
       "        vertical-align: middle;\n",
       "    }\n",
       "\n",
       "    .dataframe tbody tr th {\n",
       "        vertical-align: top;\n",
       "    }\n",
       "\n",
       "    .dataframe thead th {\n",
       "        text-align: right;\n",
       "    }\n",
       "</style>\n",
       "<table border=\"1\" class=\"dataframe\">\n",
       "  <thead>\n",
       "    <tr style=\"text-align: right;\">\n",
       "      <th></th>\n",
       "      <th>player_name</th>\n",
       "      <th>birthday</th>\n",
       "      <th>height</th>\n",
       "      <th>weight</th>\n",
       "      <th>date</th>\n",
       "      <th>overall_rating</th>\n",
       "      <th>potential</th>\n",
       "      <th>preferred_foot</th>\n",
       "      <th>attacking_work_rate</th>\n",
       "      <th>defensive_work_rate</th>\n",
       "      <th>...</th>\n",
       "      <th>penalties</th>\n",
       "      <th>marking</th>\n",
       "      <th>standing_tackle</th>\n",
       "      <th>sliding_tackle</th>\n",
       "      <th>gk_diving</th>\n",
       "      <th>gk_handling</th>\n",
       "      <th>gk_kicking</th>\n",
       "      <th>gk_positioning</th>\n",
       "      <th>gk_reflexes</th>\n",
       "      <th>year</th>\n",
       "    </tr>\n",
       "  </thead>\n",
       "  <tbody>\n",
       "    <tr>\n",
       "      <th>53</th>\n",
       "      <td>Kaka</td>\n",
       "      <td>1981-05-16</td>\n",
       "      <td>185</td>\n",
       "      <td>174</td>\n",
       "      <td>2007-02-22</td>\n",
       "      <td>68.0</td>\n",
       "      <td>70.0</td>\n",
       "      <td>right</td>\n",
       "      <td>medium</td>\n",
       "      <td>medium</td>\n",
       "      <td>...</td>\n",
       "      <td>50.0</td>\n",
       "      <td>63.0</td>\n",
       "      <td>68.0</td>\n",
       "      <td>68.0</td>\n",
       "      <td>3.0</td>\n",
       "      <td>20.0</td>\n",
       "      <td>49.0</td>\n",
       "      <td>20.0</td>\n",
       "      <td>20.0</td>\n",
       "      <td>2007</td>\n",
       "    </tr>\n",
       "    <tr>\n",
       "      <th>40</th>\n",
       "      <td>Kaka</td>\n",
       "      <td>1982-04-22</td>\n",
       "      <td>185</td>\n",
       "      <td>183</td>\n",
       "      <td>2007-02-22</td>\n",
       "      <td>88.0</td>\n",
       "      <td>91.0</td>\n",
       "      <td>right</td>\n",
       "      <td>high</td>\n",
       "      <td>low</td>\n",
       "      <td>...</td>\n",
       "      <td>78.0</td>\n",
       "      <td>20.0</td>\n",
       "      <td>39.0</td>\n",
       "      <td>21.0</td>\n",
       "      <td>4.0</td>\n",
       "      <td>5.0</td>\n",
       "      <td>85.0</td>\n",
       "      <td>9.0</td>\n",
       "      <td>5.0</td>\n",
       "      <td>2007</td>\n",
       "    </tr>\n",
       "    <tr>\n",
       "      <th>39</th>\n",
       "      <td>Kaka</td>\n",
       "      <td>1982-04-22</td>\n",
       "      <td>185</td>\n",
       "      <td>183</td>\n",
       "      <td>2007-08-30</td>\n",
       "      <td>90.0</td>\n",
       "      <td>91.0</td>\n",
       "      <td>right</td>\n",
       "      <td>high</td>\n",
       "      <td>low</td>\n",
       "      <td>...</td>\n",
       "      <td>77.0</td>\n",
       "      <td>22.0</td>\n",
       "      <td>29.0</td>\n",
       "      <td>21.0</td>\n",
       "      <td>4.0</td>\n",
       "      <td>22.0</td>\n",
       "      <td>90.0</td>\n",
       "      <td>22.0</td>\n",
       "      <td>22.0</td>\n",
       "      <td>2007</td>\n",
       "    </tr>\n",
       "    <tr>\n",
       "      <th>52</th>\n",
       "      <td>Kaka</td>\n",
       "      <td>1981-05-16</td>\n",
       "      <td>185</td>\n",
       "      <td>174</td>\n",
       "      <td>2007-08-30</td>\n",
       "      <td>68.0</td>\n",
       "      <td>70.0</td>\n",
       "      <td>right</td>\n",
       "      <td>medium</td>\n",
       "      <td>medium</td>\n",
       "      <td>...</td>\n",
       "      <td>50.0</td>\n",
       "      <td>63.0</td>\n",
       "      <td>68.0</td>\n",
       "      <td>68.0</td>\n",
       "      <td>3.0</td>\n",
       "      <td>20.0</td>\n",
       "      <td>49.0</td>\n",
       "      <td>20.0</td>\n",
       "      <td>20.0</td>\n",
       "      <td>2007</td>\n",
       "    </tr>\n",
       "    <tr>\n",
       "      <th>38</th>\n",
       "      <td>Kaka</td>\n",
       "      <td>1982-04-22</td>\n",
       "      <td>185</td>\n",
       "      <td>183</td>\n",
       "      <td>2008-08-30</td>\n",
       "      <td>90.0</td>\n",
       "      <td>93.0</td>\n",
       "      <td>right</td>\n",
       "      <td>high</td>\n",
       "      <td>low</td>\n",
       "      <td>...</td>\n",
       "      <td>92.0</td>\n",
       "      <td>22.0</td>\n",
       "      <td>29.0</td>\n",
       "      <td>21.0</td>\n",
       "      <td>4.0</td>\n",
       "      <td>22.0</td>\n",
       "      <td>79.0</td>\n",
       "      <td>22.0</td>\n",
       "      <td>22.0</td>\n",
       "      <td>2008</td>\n",
       "    </tr>\n",
       "  </tbody>\n",
       "</table>\n",
       "<p>5 rows × 44 columns</p>\n",
       "</div>"
      ],
      "text/plain": [
       "   player_name   birthday  height  weight       date  overall_rating  \\\n",
       "53        Kaka 1981-05-16     185     174 2007-02-22            68.0   \n",
       "40        Kaka 1982-04-22     185     183 2007-02-22            88.0   \n",
       "39        Kaka 1982-04-22     185     183 2007-08-30            90.0   \n",
       "52        Kaka 1981-05-16     185     174 2007-08-30            68.0   \n",
       "38        Kaka 1982-04-22     185     183 2008-08-30            90.0   \n",
       "\n",
       "    potential preferred_foot attacking_work_rate defensive_work_rate  ...  \\\n",
       "53       70.0          right              medium              medium  ...   \n",
       "40       91.0          right                high                 low  ...   \n",
       "39       91.0          right                high                 low  ...   \n",
       "52       70.0          right              medium              medium  ...   \n",
       "38       93.0          right                high                 low  ...   \n",
       "\n",
       "    penalties  marking  standing_tackle  sliding_tackle  gk_diving  \\\n",
       "53       50.0     63.0             68.0            68.0        3.0   \n",
       "40       78.0     20.0             39.0            21.0        4.0   \n",
       "39       77.0     22.0             29.0            21.0        4.0   \n",
       "52       50.0     63.0             68.0            68.0        3.0   \n",
       "38       92.0     22.0             29.0            21.0        4.0   \n",
       "\n",
       "    gk_handling  gk_kicking  gk_positioning  gk_reflexes  year  \n",
       "53         20.0        49.0            20.0         20.0  2007  \n",
       "40          5.0        85.0             9.0          5.0  2007  \n",
       "39         22.0        90.0            22.0         22.0  2007  \n",
       "52         20.0        49.0            20.0         20.0  2007  \n",
       "38         22.0        79.0            22.0         22.0  2008  \n",
       "\n",
       "[5 rows x 44 columns]"
      ]
     },
     "execution_count": 54,
     "metadata": {},
     "output_type": "execute_result"
    }
   ],
   "source": [
    "# Now our data is in order by date\n",
    "Kaka.head()"
   ]
  },
  {
   "cell_type": "code",
   "execution_count": 55,
   "id": "a8c8ca04",
   "metadata": {
    "execution": {
     "iopub.execute_input": "2022-09-10T06:23:13.291407Z",
     "iopub.status.busy": "2022-09-10T06:23:13.290204Z",
     "iopub.status.idle": "2022-09-10T06:23:13.487603Z",
     "shell.execute_reply": "2022-09-10T06:23:13.486364Z"
    },
    "papermill": {
     "duration": 0.229307,
     "end_time": "2022-09-10T06:23:13.490075",
     "exception": false,
     "start_time": "2022-09-10T06:23:13.260768",
     "status": "completed"
    },
    "tags": []
   },
   "outputs": [
    {
     "data": {
      "image/png": "[encoded data removed]",
      "text/plain": [
       "<Figure size 432x288 with 1 Axes>"
      ]
     },
     "metadata": {
      "needs_background": "light"
     },
     "output_type": "display_data"
    }
   ],
   "source": [
    "# Now let's Figure out the relationship between \"Overall rating\" and \"Potential\"\n",
    "Kaka.plot.scatter(x='potential', y='overall_rating')\n",
    "plt.title('Relationship between Player Potential and Player Overall rating')\n",
    "plt.xlabel('Player Potential')\n",
    "plt.ylabel(\"Player Overall rating\")\n",
    "plt.show()"
   ]
  },
  {
   "cell_type": "markdown",
   "id": "54adeb96",
   "metadata": {
    "papermill": {
     "duration": 0.028041,
     "end_time": "2022-09-10T06:23:13.546672",
     "exception": false,
     "start_time": "2022-09-10T06:23:13.518631",
     "status": "completed"
    },
    "tags": []
   },
   "source": [
    "From the above figure, we can notice that  \"Over_all rating\" is almost directly proportional to  \"Potential attribute\". This means that as \"Potential attribute\" increases, \"Over_all rating\" increases and as \"Potential attribute\" decreases, \"Over_all rating\" decreases."
   ]
  },
  {
   "cell_type": "markdown",
   "id": "c6220515",
   "metadata": {
    "papermill": {
     "duration": 0.027808,
     "end_time": "2022-09-10T06:23:13.603458",
     "exception": false,
     "start_time": "2022-09-10T06:23:13.575650",
     "status": "completed"
    },
    "tags": []
   },
   "source": [
    "       ****-----------------------------------------------------------------------****"
   ]
  },
  {
   "cell_type": "markdown",
   "id": "4006d4ea",
   "metadata": {
    "papermill": {
     "duration": 0.028041,
     "end_time": "2022-09-10T06:23:13.659660",
     "exception": false,
     "start_time": "2022-09-10T06:23:13.631619",
     "status": "completed"
    },
    "tags": []
   },
   "source": [
    "<a id='conclusions'></a>\n",
    "## Conclusions\n",
    "\n",
    "At first, We have loaded libraries required.\n",
    "Then, we performed data cleaning (removed duplicates, removed rows with Nan values, modified data types). \n",
    "Finally, Pedrformed our data analysis by answering some questions, and found answers:\n",
    "    Who were the top ten players? (Lionel Messi leaded the rating) \n",
    "    Who were the top rated \"Goalkeepers\"? (Gianluigi Buffon leaded the rating)\n",
    "    Who were the \"Defenders\" with the highest rating ? (Carles Puyol leaded the rating)\n",
    "    Who were the \"Midfielders\" with the highest rating? (Xavi Hernandiz leaded the rating)\n",
    "    Who were the \"Forwards\" with the highest rating ? (Cristiano Ronaldo leaded the rating)\n",
    "    Which players had the highest penality kicking rating ? (Rickie Lambert leaded the rating)\n",
    "    Who was the tallest player (in Centimeters) ? (Kristof van Hout)\n",
    "    Who was the fastest player ?\n",
    "    What was the most prefered foot between players (Right foot or Left foot ) ? (Right foot) \n",
    "    At which year did EA Sports' FIFA video game company make the most updates on         players_attributes ?  (2013)\n",
    "    How does the Overall rating correlate with other players attributes ? (potential attribute).\n",
    "\n",
    "\n",
    "Limitations:\n",
    "____________\n",
    "The limitations of the data analysis are:\n",
    "\n",
    "Issues with the dataset:\n",
    "\n",
    "we (almost always) find issues with the sample of data that we are working with (missing observations, data that appears to be inconsistent\n",
    "Other limitations involve:\n",
    "\n",
    "Issues with the methods of analysis:\n",
    "\n",
    "Typically, a type of analysis that we would like to perform is not possible due to data limitations.\n",
    "There is no statistical inference performed in your analysis (to test the significance of the results that you found). While this is not required, it is still a limitation of your analysis.\n",
    "\n",
    "I think that there are more things that I can investigate with data, I can ask many and many questions, and link the information to get answers and make a very useful and strong conclusion about the data, but also I hope that I did well, and I will try and try to develop myself."
   ]
  },
  {
   "cell_type": "code",
   "execution_count": null,
   "id": "ed71ecf6",
   "metadata": {
    "papermill": {
     "duration": 0.027889,
     "end_time": "2022-09-10T06:23:13.715898",
     "exception": false,
     "start_time": "2022-09-10T06:23:13.688009",
     "status": "completed"
    },
    "tags": []
   },
   "outputs": [],
   "source": []
  },
  {
   "cell_type": "code",
   "execution_count": null,
   "id": "ee473b5c",
   "metadata": {
    "papermill": {
     "duration": 0.027696,
     "end_time": "2022-09-10T06:23:13.771853",
     "exception": false,
     "start_time": "2022-09-10T06:23:13.744157",
     "status": "completed"
    },
    "tags": []
   },
   "outputs": [],
   "source": []
  }
 ],
 "metadata": {
  "kernelspec": {
   "display_name": "Python 3",
   "language": "python",
   "name": "python3"
  },
  "language_info": {
   "codemirror_mode": {
    "name": "ipython",
    "version": 3
   },
   "file_extension": ".py",
   "mimetype": "text/x-python",
   "name": "python",
   "nbconvert_exporter": "python",
   "pygments_lexer": "ipython3",
   "version": "3.7.12"
  },
  "papermill": {
   "default_parameters": {},
   "duration": 24.761628,
   "end_time": "2022-09-10T06:23:14.622267",
   "environment_variables": {},
   "exception": null,
   "input_path": "__notebook__.ipynb",
   "output_path": "__notebook__.ipynb",
   "parameters": {},
   "start_time": "2022-09-10T06:22:49.860639",
   "version": "2.3.4"
  }
 },
 "nbformat": 4,
 "nbformat_minor": 5
}
